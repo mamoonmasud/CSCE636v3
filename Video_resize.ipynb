{
 "cells": [
  {
   "cell_type": "code",
   "execution_count": 4,
   "metadata": {},
   "outputs": [],
   "source": [
    "import ffmpeg\n",
    "import pandas as pd\n",
    "import os\n",
    "import moviepy.editor as mp"
   ]
  },
  {
   "cell_type": "code",
   "execution_count": 3,
   "metadata": {},
   "outputs": [
    {
     "ename": "SyntaxError",
     "evalue": "invalid syntax (<ipython-input-3-891bc88a9706>, line 1)",
     "output_type": "error",
     "traceback": [
      "\u001b[1;36m  File \u001b[1;32m\"<ipython-input-3-891bc88a9706>\"\u001b[1;36m, line \u001b[1;32m1\u001b[0m\n\u001b[1;33m    ffmpeg -i 'movie.mp4' -vf scale=640:360 movie_360p.mp4\u001b[0m\n\u001b[1;37m                        ^\u001b[0m\n\u001b[1;31mSyntaxError\u001b[0m\u001b[1;31m:\u001b[0m invalid syntax\n"
     ]
    }
   ],
   "source": [
    "ffmpeg -i movie.mp4 -vf scale=640:360 movie_360p.mp4"
   ]
  },
  {
   "cell_type": "markdown",
   "metadata": {},
   "source": [
    "# Resizing Door Training Videos"
   ]
  },
  {
   "cell_type": "code",
   "execution_count": 11,
   "metadata": {},
   "outputs": [],
   "source": [
    "train_door_dir = 'F:/DLProj/Charades_v5/train/door/Non-FPV'\n",
    "train_door_target = 'F:/DLProj/Charades_v5/resized_train/door'"
   ]
  },
  {
   "cell_type": "code",
   "execution_count": 12,
   "metadata": {},
   "outputs": [],
   "source": [
    "door_tr_listing = os.listdir(train_door_dir)\n",
    "listing = list(filter(lambda x: len(x)==9, door_tr_listing)) #Making sure we only have the list of video files. "
   ]
  },
  {
   "cell_type": "code",
   "execution_count": 13,
   "metadata": {},
   "outputs": [],
   "source": [
    "img_height, img_width = 300, 300"
   ]
  },
  {
   "cell_type": "code",
   "execution_count": 14,
   "metadata": {
    "collapsed": true,
    "jupyter": {
     "outputs_hidden": true
    }
   },
   "outputs": [
    {
     "name": "stdout",
     "output_type": "stream",
     "text": [
      "Moviepy - Building video F:/DLProj/Charades_v5/resized_train/door\\0EGNU.mp4.\n",
      "MoviePy - Writing audio in 0EGNUTEMP_MPY_wvf_snd.mp3\n"
     ]
    },
    {
     "name": "stderr",
     "output_type": "stream",
     "text": [
      "                                                                 \r"
     ]
    },
    {
     "name": "stdout",
     "output_type": "stream",
     "text": [
      "MoviePy - Done.\n",
      "Moviepy - Writing video F:/DLProj/Charades_v5/resized_train/door\\0EGNU.mp4\n",
      "\n"
     ]
    },
    {
     "name": "stderr",
     "output_type": "stream",
     "text": [
      "                                                              \r"
     ]
    },
    {
     "name": "stdout",
     "output_type": "stream",
     "text": [
      "Moviepy - Done !\n",
      "Moviepy - video ready F:/DLProj/Charades_v5/resized_train/door\\0EGNU.mp4\n",
      "Moviepy - Building video F:/DLProj/Charades_v5/resized_train/door\\0PGAD.mp4.\n",
      "MoviePy - Writing audio in 0PGADTEMP_MPY_wvf_snd.mp3\n"
     ]
    },
    {
     "name": "stderr",
     "output_type": "stream",
     "text": [
      "                                                                  \r"
     ]
    },
    {
     "name": "stdout",
     "output_type": "stream",
     "text": [
      "MoviePy - Done.\n",
      "Moviepy - Writing video F:/DLProj/Charades_v5/resized_train/door\\0PGAD.mp4\n",
      "\n"
     ]
    },
    {
     "name": "stderr",
     "output_type": "stream",
     "text": [
      "                                                               \r"
     ]
    },
    {
     "name": "stdout",
     "output_type": "stream",
     "text": [
      "Moviepy - Done !\n",
      "Moviepy - video ready F:/DLProj/Charades_v5/resized_train/door\\0PGAD.mp4\n",
      "Moviepy - Building video F:/DLProj/Charades_v5/resized_train/door\\0POYO.mp4.\n",
      "MoviePy - Writing audio in 0POYOTEMP_MPY_wvf_snd.mp3\n"
     ]
    },
    {
     "name": "stderr",
     "output_type": "stream",
     "text": [
      "                                                                  \r"
     ]
    },
    {
     "name": "stdout",
     "output_type": "stream",
     "text": [
      "MoviePy - Done.\n",
      "Moviepy - Writing video F:/DLProj/Charades_v5/resized_train/door\\0POYO.mp4\n",
      "\n"
     ]
    },
    {
     "name": "stderr",
     "output_type": "stream",
     "text": [
      "                                                              \r"
     ]
    },
    {
     "name": "stdout",
     "output_type": "stream",
     "text": [
      "Moviepy - Done !\n",
      "Moviepy - video ready F:/DLProj/Charades_v5/resized_train/door\\0POYO.mp4\n",
      "Moviepy - Building video F:/DLProj/Charades_v5/resized_train/door\\0Y8H0.mp4.\n",
      "MoviePy - Writing audio in 0Y8H0TEMP_MPY_wvf_snd.mp3\n"
     ]
    },
    {
     "name": "stderr",
     "output_type": "stream",
     "text": [
      "                                                                \r"
     ]
    },
    {
     "name": "stdout",
     "output_type": "stream",
     "text": [
      "MoviePy - Done.\n",
      "Moviepy - Writing video F:/DLProj/Charades_v5/resized_train/door\\0Y8H0.mp4\n",
      "\n"
     ]
    },
    {
     "name": "stderr",
     "output_type": "stream",
     "text": [
      "                                                            \r"
     ]
    },
    {
     "name": "stdout",
     "output_type": "stream",
     "text": [
      "Moviepy - Done !\n",
      "Moviepy - video ready F:/DLProj/Charades_v5/resized_train/door\\0Y8H0.mp4\n",
      "Moviepy - Building video F:/DLProj/Charades_v5/resized_train/door\\1ES35.mp4.\n",
      "MoviePy - Writing audio in 1ES35TEMP_MPY_wvf_snd.mp3\n"
     ]
    },
    {
     "name": "stderr",
     "output_type": "stream",
     "text": [
      "                                                                  \r"
     ]
    },
    {
     "name": "stdout",
     "output_type": "stream",
     "text": [
      "MoviePy - Done.\n",
      "Moviepy - Writing video F:/DLProj/Charades_v5/resized_train/door\\1ES35.mp4\n",
      "\n"
     ]
    },
    {
     "name": "stderr",
     "output_type": "stream",
     "text": [
      "                                                              \r"
     ]
    },
    {
     "name": "stdout",
     "output_type": "stream",
     "text": [
      "Moviepy - Done !\n",
      "Moviepy - video ready F:/DLProj/Charades_v5/resized_train/door\\1ES35.mp4\n",
      "Moviepy - Building video F:/DLProj/Charades_v5/resized_train/door\\1JH1W.mp4.\n",
      "MoviePy - Writing audio in 1JH1WTEMP_MPY_wvf_snd.mp3\n"
     ]
    },
    {
     "name": "stderr",
     "output_type": "stream",
     "text": [
      "                                                                  \r"
     ]
    },
    {
     "name": "stdout",
     "output_type": "stream",
     "text": [
      "MoviePy - Done.\n",
      "Moviepy - Writing video F:/DLProj/Charades_v5/resized_train/door\\1JH1W.mp4\n",
      "\n"
     ]
    },
    {
     "name": "stderr",
     "output_type": "stream",
     "text": [
      "                                                              \r"
     ]
    },
    {
     "name": "stdout",
     "output_type": "stream",
     "text": [
      "Moviepy - Done !\n",
      "Moviepy - video ready F:/DLProj/Charades_v5/resized_train/door\\1JH1W.mp4\n",
      "Moviepy - Building video F:/DLProj/Charades_v5/resized_train/door\\250SN.mp4.\n",
      "MoviePy - Writing audio in 250SNTEMP_MPY_wvf_snd.mp3\n"
     ]
    },
    {
     "name": "stderr",
     "output_type": "stream",
     "text": [
      "                                                                \r"
     ]
    },
    {
     "name": "stdout",
     "output_type": "stream",
     "text": [
      "MoviePy - Done.\n",
      "Moviepy - Writing video F:/DLProj/Charades_v5/resized_train/door\\250SN.mp4\n",
      "\n"
     ]
    },
    {
     "name": "stderr",
     "output_type": "stream",
     "text": [
      "                                                            \r"
     ]
    },
    {
     "name": "stdout",
     "output_type": "stream",
     "text": [
      "Moviepy - Done !\n",
      "Moviepy - video ready F:/DLProj/Charades_v5/resized_train/door\\250SN.mp4\n",
      "Moviepy - Building video F:/DLProj/Charades_v5/resized_train/door\\2CR09.mp4.\n",
      "MoviePy - Writing audio in 2CR09TEMP_MPY_wvf_snd.mp3\n"
     ]
    },
    {
     "name": "stderr",
     "output_type": "stream",
     "text": [
      "                                                                \r"
     ]
    },
    {
     "name": "stdout",
     "output_type": "stream",
     "text": [
      "MoviePy - Done.\n",
      "Moviepy - Writing video F:/DLProj/Charades_v5/resized_train/door\\2CR09.mp4\n",
      "\n"
     ]
    },
    {
     "name": "stderr",
     "output_type": "stream",
     "text": [
      "                                                              \r"
     ]
    },
    {
     "name": "stdout",
     "output_type": "stream",
     "text": [
      "Moviepy - Done !\n",
      "Moviepy - video ready F:/DLProj/Charades_v5/resized_train/door\\2CR09.mp4\n",
      "Moviepy - Building video F:/DLProj/Charades_v5/resized_train/door\\2FL0X.mp4.\n",
      "MoviePy - Writing audio in 2FL0XTEMP_MPY_wvf_snd.mp3\n"
     ]
    },
    {
     "name": "stderr",
     "output_type": "stream",
     "text": [
      "                                                                 \r"
     ]
    },
    {
     "name": "stdout",
     "output_type": "stream",
     "text": [
      "MoviePy - Done.\n",
      "Moviepy - Writing video F:/DLProj/Charades_v5/resized_train/door\\2FL0X.mp4\n",
      "\n"
     ]
    },
    {
     "name": "stderr",
     "output_type": "stream",
     "text": [
      "                                                              \r"
     ]
    },
    {
     "name": "stdout",
     "output_type": "stream",
     "text": [
      "Moviepy - Done !\n",
      "Moviepy - video ready F:/DLProj/Charades_v5/resized_train/door\\2FL0X.mp4\n",
      "Moviepy - Building video F:/DLProj/Charades_v5/resized_train/door\\2MURI.mp4.\n",
      "MoviePy - Writing audio in 2MURITEMP_MPY_wvf_snd.mp3\n"
     ]
    },
    {
     "name": "stderr",
     "output_type": "stream",
     "text": [
      "                                                                  \r"
     ]
    },
    {
     "name": "stdout",
     "output_type": "stream",
     "text": [
      "MoviePy - Done.\n",
      "Moviepy - Writing video F:/DLProj/Charades_v5/resized_train/door\\2MURI.mp4\n",
      "\n"
     ]
    },
    {
     "name": "stderr",
     "output_type": "stream",
     "text": [
      "                                                              \r"
     ]
    },
    {
     "name": "stdout",
     "output_type": "stream",
     "text": [
      "Moviepy - Done !\n",
      "Moviepy - video ready F:/DLProj/Charades_v5/resized_train/door\\2MURI.mp4\n",
      "Moviepy - Building video F:/DLProj/Charades_v5/resized_train/door\\3CKXF.mp4.\n",
      "MoviePy - Writing audio in 3CKXFTEMP_MPY_wvf_snd.mp3\n"
     ]
    },
    {
     "name": "stderr",
     "output_type": "stream",
     "text": [
      "                                                                  \r"
     ]
    },
    {
     "name": "stdout",
     "output_type": "stream",
     "text": [
      "MoviePy - Done.\n",
      "Moviepy - Writing video F:/DLProj/Charades_v5/resized_train/door\\3CKXF.mp4\n",
      "\n"
     ]
    },
    {
     "name": "stderr",
     "output_type": "stream",
     "text": [
      "                                                            \r"
     ]
    },
    {
     "name": "stdout",
     "output_type": "stream",
     "text": [
      "Moviepy - Done !\n",
      "Moviepy - video ready F:/DLProj/Charades_v5/resized_train/door\\3CKXF.mp4\n",
      "Moviepy - Building video F:/DLProj/Charades_v5/resized_train/door\\3Q3YY.mp4.\n",
      "MoviePy - Writing audio in 3Q3YYTEMP_MPY_wvf_snd.mp3\n"
     ]
    },
    {
     "name": "stderr",
     "output_type": "stream",
     "text": [
      "                                                                  \r"
     ]
    },
    {
     "name": "stdout",
     "output_type": "stream",
     "text": [
      "MoviePy - Done.\n",
      "Moviepy - Writing video F:/DLProj/Charades_v5/resized_train/door\\3Q3YY.mp4\n",
      "\n"
     ]
    },
    {
     "name": "stderr",
     "output_type": "stream",
     "text": [
      "                                                              \r"
     ]
    },
    {
     "name": "stdout",
     "output_type": "stream",
     "text": [
      "Moviepy - Done !\n",
      "Moviepy - video ready F:/DLProj/Charades_v5/resized_train/door\\3Q3YY.mp4\n",
      "Moviepy - Building video F:/DLProj/Charades_v5/resized_train/door\\3RN5M.mp4.\n",
      "MoviePy - Writing audio in 3RN5MTEMP_MPY_wvf_snd.mp3\n"
     ]
    },
    {
     "name": "stderr",
     "output_type": "stream",
     "text": [
      "                                                                \r"
     ]
    },
    {
     "name": "stdout",
     "output_type": "stream",
     "text": [
      "MoviePy - Done.\n",
      "Moviepy - Writing video F:/DLProj/Charades_v5/resized_train/door\\3RN5M.mp4\n",
      "\n"
     ]
    },
    {
     "name": "stderr",
     "output_type": "stream",
     "text": [
      "                                                            \r"
     ]
    },
    {
     "name": "stdout",
     "output_type": "stream",
     "text": [
      "Moviepy - Done !\n",
      "Moviepy - video ready F:/DLProj/Charades_v5/resized_train/door\\3RN5M.mp4\n",
      "Moviepy - Building video F:/DLProj/Charades_v5/resized_train/door\\4ISIX.mp4.\n",
      "MoviePy - Writing audio in 4ISIXTEMP_MPY_wvf_snd.mp3\n"
     ]
    },
    {
     "name": "stderr",
     "output_type": "stream",
     "text": [
      "                                                                  \r"
     ]
    },
    {
     "name": "stdout",
     "output_type": "stream",
     "text": [
      "MoviePy - Done.\n",
      "Moviepy - Writing video F:/DLProj/Charades_v5/resized_train/door\\4ISIX.mp4\n",
      "\n"
     ]
    },
    {
     "name": "stderr",
     "output_type": "stream",
     "text": [
      "                                                              \r"
     ]
    },
    {
     "name": "stdout",
     "output_type": "stream",
     "text": [
      "Moviepy - Done !\n",
      "Moviepy - video ready F:/DLProj/Charades_v5/resized_train/door\\4ISIX.mp4\n",
      "Moviepy - Building video F:/DLProj/Charades_v5/resized_train/door\\57MEO.mp4.\n",
      "MoviePy - Writing audio in 57MEOTEMP_MPY_wvf_snd.mp3\n"
     ]
    },
    {
     "name": "stderr",
     "output_type": "stream",
     "text": [
      "                                                                \r"
     ]
    },
    {
     "name": "stdout",
     "output_type": "stream",
     "text": [
      "MoviePy - Done.\n",
      "Moviepy - Writing video F:/DLProj/Charades_v5/resized_train/door\\57MEO.mp4\n",
      "\n"
     ]
    },
    {
     "name": "stderr",
     "output_type": "stream",
     "text": [
      "                                                            \r"
     ]
    },
    {
     "name": "stdout",
     "output_type": "stream",
     "text": [
      "Moviepy - Done !\n",
      "Moviepy - video ready F:/DLProj/Charades_v5/resized_train/door\\57MEO.mp4\n",
      "Moviepy - Building video F:/DLProj/Charades_v5/resized_train/door\\5VS8B.mp4.\n",
      "MoviePy - Writing audio in 5VS8BTEMP_MPY_wvf_snd.mp3\n"
     ]
    },
    {
     "name": "stderr",
     "output_type": "stream",
     "text": [
      "                                                                  \r"
     ]
    },
    {
     "name": "stdout",
     "output_type": "stream",
     "text": [
      "MoviePy - Done.\n",
      "Moviepy - Writing video F:/DLProj/Charades_v5/resized_train/door\\5VS8B.mp4\n",
      "\n"
     ]
    },
    {
     "name": "stderr",
     "output_type": "stream",
     "text": [
      "                                                              \r"
     ]
    },
    {
     "name": "stdout",
     "output_type": "stream",
     "text": [
      "Moviepy - Done !\n",
      "Moviepy - video ready F:/DLProj/Charades_v5/resized_train/door\\5VS8B.mp4\n",
      "Moviepy - Building video F:/DLProj/Charades_v5/resized_train/door\\6TV29.mp4.\n",
      "MoviePy - Writing audio in 6TV29TEMP_MPY_wvf_snd.mp3\n"
     ]
    },
    {
     "name": "stderr",
     "output_type": "stream",
     "text": [
      "                                                                \r"
     ]
    },
    {
     "name": "stdout",
     "output_type": "stream",
     "text": [
      "MoviePy - Done.\n",
      "Moviepy - Writing video F:/DLProj/Charades_v5/resized_train/door\\6TV29.mp4\n",
      "\n"
     ]
    },
    {
     "name": "stderr",
     "output_type": "stream",
     "text": [
      "                                                              \r"
     ]
    },
    {
     "name": "stdout",
     "output_type": "stream",
     "text": [
      "Moviepy - Done !\n",
      "Moviepy - video ready F:/DLProj/Charades_v5/resized_train/door\\6TV29.mp4\n",
      "Moviepy - Building video F:/DLProj/Charades_v5/resized_train/door\\6ZSB2.mp4.\n",
      "MoviePy - Writing audio in 6ZSB2TEMP_MPY_wvf_snd.mp3\n"
     ]
    },
    {
     "name": "stderr",
     "output_type": "stream",
     "text": [
      "                                                                \r"
     ]
    },
    {
     "name": "stdout",
     "output_type": "stream",
     "text": [
      "MoviePy - Done.\n",
      "Moviepy - Writing video F:/DLProj/Charades_v5/resized_train/door\\6ZSB2.mp4\n",
      "\n"
     ]
    },
    {
     "name": "stderr",
     "output_type": "stream",
     "text": [
      "                                                             \r"
     ]
    },
    {
     "name": "stdout",
     "output_type": "stream",
     "text": [
      "Moviepy - Done !\n",
      "Moviepy - video ready F:/DLProj/Charades_v5/resized_train/door\\6ZSB2.mp4\n",
      "Moviepy - Building video F:/DLProj/Charades_v5/resized_train/door\\7L0TN.mp4.\n",
      "MoviePy - Writing audio in 7L0TNTEMP_MPY_wvf_snd.mp3\n"
     ]
    },
    {
     "name": "stderr",
     "output_type": "stream",
     "text": [
      "                                                                  \r"
     ]
    },
    {
     "name": "stdout",
     "output_type": "stream",
     "text": [
      "MoviePy - Done.\n",
      "Moviepy - Writing video F:/DLProj/Charades_v5/resized_train/door\\7L0TN.mp4\n",
      "\n"
     ]
    },
    {
     "name": "stderr",
     "output_type": "stream",
     "text": [
      "                                                              \r"
     ]
    },
    {
     "name": "stdout",
     "output_type": "stream",
     "text": [
      "Moviepy - Done !\n",
      "Moviepy - video ready F:/DLProj/Charades_v5/resized_train/door\\7L0TN.mp4\n",
      "Moviepy - Building video F:/DLProj/Charades_v5/resized_train/door\\7QLMY.mp4.\n",
      "MoviePy - Writing audio in 7QLMYTEMP_MPY_wvf_snd.mp3\n"
     ]
    },
    {
     "name": "stderr",
     "output_type": "stream",
     "text": [
      "                                                                 \r"
     ]
    },
    {
     "name": "stdout",
     "output_type": "stream",
     "text": [
      "MoviePy - Done.\n",
      "Moviepy - Writing video F:/DLProj/Charades_v5/resized_train/door\\7QLMY.mp4\n",
      "\n"
     ]
    },
    {
     "name": "stderr",
     "output_type": "stream",
     "text": [
      "                                                              \r"
     ]
    },
    {
     "name": "stdout",
     "output_type": "stream",
     "text": [
      "Moviepy - Done !\n",
      "Moviepy - video ready F:/DLProj/Charades_v5/resized_train/door\\7QLMY.mp4\n",
      "Moviepy - Building video F:/DLProj/Charades_v5/resized_train/door\\813XE.mp4.\n",
      "MoviePy - Writing audio in 813XETEMP_MPY_wvf_snd.mp3\n"
     ]
    },
    {
     "name": "stderr",
     "output_type": "stream",
     "text": [
      "                                                                  \r"
     ]
    },
    {
     "name": "stdout",
     "output_type": "stream",
     "text": [
      "MoviePy - Done.\n",
      "Moviepy - Writing video F:/DLProj/Charades_v5/resized_train/door\\813XE.mp4\n",
      "\n"
     ]
    },
    {
     "name": "stderr",
     "output_type": "stream",
     "text": [
      "                                                            \r"
     ]
    },
    {
     "name": "stdout",
     "output_type": "stream",
     "text": [
      "Moviepy - Done !\n",
      "Moviepy - video ready F:/DLProj/Charades_v5/resized_train/door\\813XE.mp4\n",
      "Moviepy - Building video F:/DLProj/Charades_v5/resized_train/door\\8BBX0.mp4.\n",
      "MoviePy - Writing audio in 8BBX0TEMP_MPY_wvf_snd.mp3\n"
     ]
    },
    {
     "name": "stderr",
     "output_type": "stream",
     "text": [
      "                                                                 \r"
     ]
    },
    {
     "name": "stdout",
     "output_type": "stream",
     "text": [
      "MoviePy - Done.\n",
      "Moviepy - Writing video F:/DLProj/Charades_v5/resized_train/door\\8BBX0.mp4\n",
      "\n"
     ]
    },
    {
     "name": "stderr",
     "output_type": "stream",
     "text": [
      "                                                              \r"
     ]
    },
    {
     "name": "stdout",
     "output_type": "stream",
     "text": [
      "Moviepy - Done !\n",
      "Moviepy - video ready F:/DLProj/Charades_v5/resized_train/door\\8BBX0.mp4\n",
      "Moviepy - Building video F:/DLProj/Charades_v5/resized_train/door\\8FH2F.mp4.\n",
      "MoviePy - Writing audio in 8FH2FTEMP_MPY_wvf_snd.mp3\n"
     ]
    },
    {
     "name": "stderr",
     "output_type": "stream",
     "text": [
      "                                                                  \r"
     ]
    },
    {
     "name": "stdout",
     "output_type": "stream",
     "text": [
      "MoviePy - Done.\n",
      "Moviepy - Writing video F:/DLProj/Charades_v5/resized_train/door\\8FH2F.mp4\n",
      "\n"
     ]
    },
    {
     "name": "stderr",
     "output_type": "stream",
     "text": [
      "                                                               \r"
     ]
    },
    {
     "name": "stdout",
     "output_type": "stream",
     "text": [
      "Moviepy - Done !\n",
      "Moviepy - video ready F:/DLProj/Charades_v5/resized_train/door\\8FH2F.mp4\n",
      "Moviepy - Building video F:/DLProj/Charades_v5/resized_train/door\\91H2P.mp4.\n",
      "MoviePy - Writing audio in 91H2PTEMP_MPY_wvf_snd.mp3\n"
     ]
    },
    {
     "name": "stderr",
     "output_type": "stream",
     "text": [
      "                                                                \r"
     ]
    },
    {
     "name": "stdout",
     "output_type": "stream",
     "text": [
      "MoviePy - Done.\n",
      "Moviepy - Writing video F:/DLProj/Charades_v5/resized_train/door\\91H2P.mp4\n",
      "\n"
     ]
    },
    {
     "name": "stderr",
     "output_type": "stream",
     "text": [
      "                                                              \r"
     ]
    },
    {
     "name": "stdout",
     "output_type": "stream",
     "text": [
      "Moviepy - Done !\n",
      "Moviepy - video ready F:/DLProj/Charades_v5/resized_train/door\\91H2P.mp4\n",
      "Moviepy - Building video F:/DLProj/Charades_v5/resized_train/door\\94YTY.mp4.\n",
      "MoviePy - Writing audio in 94YTYTEMP_MPY_wvf_snd.mp3\n"
     ]
    },
    {
     "name": "stderr",
     "output_type": "stream",
     "text": [
      "                                                                 \r"
     ]
    },
    {
     "name": "stdout",
     "output_type": "stream",
     "text": [
      "MoviePy - Done.\n",
      "Moviepy - Writing video F:/DLProj/Charades_v5/resized_train/door\\94YTY.mp4\n",
      "\n"
     ]
    },
    {
     "name": "stderr",
     "output_type": "stream",
     "text": [
      "                                                            \r"
     ]
    },
    {
     "name": "stdout",
     "output_type": "stream",
     "text": [
      "Moviepy - Done !\n",
      "Moviepy - video ready F:/DLProj/Charades_v5/resized_train/door\\94YTY.mp4\n",
      "Moviepy - Building video F:/DLProj/Charades_v5/resized_train/door\\9632M.mp4.\n",
      "MoviePy - Writing audio in 9632MTEMP_MPY_wvf_snd.mp3\n"
     ]
    },
    {
     "name": "stderr",
     "output_type": "stream",
     "text": [
      "                                                                   \r"
     ]
    },
    {
     "name": "stdout",
     "output_type": "stream",
     "text": [
      "MoviePy - Done.\n",
      "Moviepy - Writing video F:/DLProj/Charades_v5/resized_train/door\\9632M.mp4\n",
      "\n"
     ]
    },
    {
     "name": "stderr",
     "output_type": "stream",
     "text": [
      "                                                               \r"
     ]
    },
    {
     "name": "stdout",
     "output_type": "stream",
     "text": [
      "Moviepy - Done !\n",
      "Moviepy - video ready F:/DLProj/Charades_v5/resized_train/door\\9632M.mp4\n",
      "Moviepy - Building video F:/DLProj/Charades_v5/resized_train/door\\ABHC6.mp4.\n",
      "MoviePy - Writing audio in ABHC6TEMP_MPY_wvf_snd.mp3\n"
     ]
    },
    {
     "name": "stderr",
     "output_type": "stream",
     "text": [
      "                                                                \r"
     ]
    },
    {
     "name": "stdout",
     "output_type": "stream",
     "text": [
      "MoviePy - Done.\n",
      "Moviepy - Writing video F:/DLProj/Charades_v5/resized_train/door\\ABHC6.mp4\n",
      "\n"
     ]
    },
    {
     "name": "stderr",
     "output_type": "stream",
     "text": [
      "                                                              \r"
     ]
    },
    {
     "name": "stdout",
     "output_type": "stream",
     "text": [
      "Moviepy - Done !\n",
      "Moviepy - video ready F:/DLProj/Charades_v5/resized_train/door\\ABHC6.mp4\n",
      "Moviepy - Building video F:/DLProj/Charades_v5/resized_train/door\\AFY5E.mp4.\n",
      "MoviePy - Writing audio in AFY5ETEMP_MPY_wvf_snd.mp3\n"
     ]
    },
    {
     "name": "stderr",
     "output_type": "stream",
     "text": [
      "                                                                  \r"
     ]
    },
    {
     "name": "stdout",
     "output_type": "stream",
     "text": [
      "MoviePy - Done.\n",
      "Moviepy - Writing video F:/DLProj/Charades_v5/resized_train/door\\AFY5E.mp4\n",
      "\n"
     ]
    },
    {
     "name": "stderr",
     "output_type": "stream",
     "text": [
      "                                                            \r"
     ]
    },
    {
     "name": "stdout",
     "output_type": "stream",
     "text": [
      "Moviepy - Done !\n",
      "Moviepy - video ready F:/DLProj/Charades_v5/resized_train/door\\AFY5E.mp4\n",
      "Moviepy - Building video F:/DLProj/Charades_v5/resized_train/door\\AHLVF.mp4.\n",
      "MoviePy - Writing audio in AHLVFTEMP_MPY_wvf_snd.mp3\n"
     ]
    },
    {
     "name": "stderr",
     "output_type": "stream",
     "text": [
      "                                                                 \r"
     ]
    },
    {
     "name": "stdout",
     "output_type": "stream",
     "text": [
      "MoviePy - Done.\n",
      "Moviepy - Writing video F:/DLProj/Charades_v5/resized_train/door\\AHLVF.mp4\n",
      "\n"
     ]
    },
    {
     "name": "stderr",
     "output_type": "stream",
     "text": [
      "                                                              \r"
     ]
    },
    {
     "name": "stdout",
     "output_type": "stream",
     "text": [
      "Moviepy - Done !\n",
      "Moviepy - video ready F:/DLProj/Charades_v5/resized_train/door\\AHLVF.mp4\n",
      "Moviepy - Building video F:/DLProj/Charades_v5/resized_train/door\\ANJNU.mp4.\n",
      "MoviePy - Writing audio in ANJNUTEMP_MPY_wvf_snd.mp3\n"
     ]
    },
    {
     "name": "stderr",
     "output_type": "stream",
     "text": [
      "                                                                  \r"
     ]
    },
    {
     "name": "stdout",
     "output_type": "stream",
     "text": [
      "MoviePy - Done.\n",
      "Moviepy - Writing video F:/DLProj/Charades_v5/resized_train/door\\ANJNU.mp4\n",
      "\n"
     ]
    },
    {
     "name": "stderr",
     "output_type": "stream",
     "text": [
      "                                                              \r"
     ]
    },
    {
     "name": "stdout",
     "output_type": "stream",
     "text": [
      "Moviepy - Done !\n",
      "Moviepy - video ready F:/DLProj/Charades_v5/resized_train/door\\ANJNU.mp4\n",
      "Moviepy - Building video F:/DLProj/Charades_v5/resized_train/door\\AR7ZK.mp4.\n",
      "MoviePy - Writing audio in AR7ZKTEMP_MPY_wvf_snd.mp3\n"
     ]
    },
    {
     "name": "stderr",
     "output_type": "stream",
     "text": [
      "                                                                \r"
     ]
    },
    {
     "name": "stdout",
     "output_type": "stream",
     "text": [
      "MoviePy - Done.\n",
      "Moviepy - Writing video F:/DLProj/Charades_v5/resized_train/door\\AR7ZK.mp4\n",
      "\n"
     ]
    },
    {
     "name": "stderr",
     "output_type": "stream",
     "text": [
      "                                                              \r"
     ]
    },
    {
     "name": "stdout",
     "output_type": "stream",
     "text": [
      "Moviepy - Done !\n",
      "Moviepy - video ready F:/DLProj/Charades_v5/resized_train/door\\AR7ZK.mp4\n",
      "Moviepy - Building video F:/DLProj/Charades_v5/resized_train/door\\B7SZJ.mp4.\n",
      "MoviePy - Writing audio in B7SZJTEMP_MPY_wvf_snd.mp3\n"
     ]
    },
    {
     "name": "stderr",
     "output_type": "stream",
     "text": [
      "                                                                  \r"
     ]
    },
    {
     "name": "stdout",
     "output_type": "stream",
     "text": [
      "MoviePy - Done.\n",
      "Moviepy - Writing video F:/DLProj/Charades_v5/resized_train/door\\B7SZJ.mp4\n",
      "\n"
     ]
    },
    {
     "name": "stderr",
     "output_type": "stream",
     "text": [
      "                                                            \r"
     ]
    },
    {
     "name": "stdout",
     "output_type": "stream",
     "text": [
      "Moviepy - Done !\n",
      "Moviepy - video ready F:/DLProj/Charades_v5/resized_train/door\\B7SZJ.mp4\n",
      "Moviepy - Building video F:/DLProj/Charades_v5/resized_train/door\\BALXZ.mp4.\n",
      "MoviePy - Writing audio in BALXZTEMP_MPY_wvf_snd.mp3\n"
     ]
    },
    {
     "name": "stderr",
     "output_type": "stream",
     "text": [
      "                                                                  \r"
     ]
    },
    {
     "name": "stdout",
     "output_type": "stream",
     "text": [
      "MoviePy - Done.\n",
      "Moviepy - Writing video F:/DLProj/Charades_v5/resized_train/door\\BALXZ.mp4\n",
      "\n"
     ]
    },
    {
     "name": "stderr",
     "output_type": "stream",
     "text": [
      "                                                               \r"
     ]
    },
    {
     "name": "stdout",
     "output_type": "stream",
     "text": [
      "Moviepy - Done !\n",
      "Moviepy - video ready F:/DLProj/Charades_v5/resized_train/door\\BALXZ.mp4\n",
      "Moviepy - Building video F:/DLProj/Charades_v5/resized_train/door\\BBYHD.mp4.\n",
      "MoviePy - Writing audio in BBYHDTEMP_MPY_wvf_snd.mp3\n"
     ]
    },
    {
     "name": "stderr",
     "output_type": "stream",
     "text": [
      "                                                                \r"
     ]
    },
    {
     "name": "stdout",
     "output_type": "stream",
     "text": [
      "MoviePy - Done.\n",
      "Moviepy - Writing video F:/DLProj/Charades_v5/resized_train/door\\BBYHD.mp4\n",
      "\n"
     ]
    },
    {
     "name": "stderr",
     "output_type": "stream",
     "text": [
      "                                                            \r"
     ]
    },
    {
     "name": "stdout",
     "output_type": "stream",
     "text": [
      "Moviepy - Done !\n",
      "Moviepy - video ready F:/DLProj/Charades_v5/resized_train/door\\BBYHD.mp4\n",
      "Moviepy - Building video F:/DLProj/Charades_v5/resized_train/door\\BQXVG.mp4.\n",
      "MoviePy - Writing audio in BQXVGTEMP_MPY_wvf_snd.mp3\n"
     ]
    },
    {
     "name": "stderr",
     "output_type": "stream",
     "text": [
      "                                                                \r"
     ]
    },
    {
     "name": "stdout",
     "output_type": "stream",
     "text": [
      "MoviePy - Done.\n",
      "Moviepy - Writing video F:/DLProj/Charades_v5/resized_train/door\\BQXVG.mp4\n",
      "\n"
     ]
    },
    {
     "name": "stderr",
     "output_type": "stream",
     "text": [
      "                                                            \r"
     ]
    },
    {
     "name": "stdout",
     "output_type": "stream",
     "text": [
      "Moviepy - Done !\n",
      "Moviepy - video ready F:/DLProj/Charades_v5/resized_train/door\\BQXVG.mp4\n",
      "Moviepy - Building video F:/DLProj/Charades_v5/resized_train/door\\CCN3E.mp4.\n",
      "MoviePy - Writing audio in CCN3ETEMP_MPY_wvf_snd.mp3\n"
     ]
    },
    {
     "name": "stderr",
     "output_type": "stream",
     "text": [
      "                                                                  \r"
     ]
    },
    {
     "name": "stdout",
     "output_type": "stream",
     "text": [
      "MoviePy - Done.\n",
      "Moviepy - Writing video F:/DLProj/Charades_v5/resized_train/door\\CCN3E.mp4\n",
      "\n"
     ]
    },
    {
     "name": "stderr",
     "output_type": "stream",
     "text": [
      "                                                              \r"
     ]
    },
    {
     "name": "stdout",
     "output_type": "stream",
     "text": [
      "Moviepy - Done !\n",
      "Moviepy - video ready F:/DLProj/Charades_v5/resized_train/door\\CCN3E.mp4\n",
      "Moviepy - Building video F:/DLProj/Charades_v5/resized_train/door\\CIBGY.mp4.\n",
      "MoviePy - Writing audio in CIBGYTEMP_MPY_wvf_snd.mp3\n"
     ]
    },
    {
     "name": "stderr",
     "output_type": "stream",
     "text": [
      "                                                                 \r"
     ]
    },
    {
     "name": "stdout",
     "output_type": "stream",
     "text": [
      "MoviePy - Done.\n",
      "Moviepy - Writing video F:/DLProj/Charades_v5/resized_train/door\\CIBGY.mp4\n",
      "\n"
     ]
    },
    {
     "name": "stderr",
     "output_type": "stream",
     "text": [
      "                                                               \r"
     ]
    },
    {
     "name": "stdout",
     "output_type": "stream",
     "text": [
      "Moviepy - Done !\n",
      "Moviepy - video ready F:/DLProj/Charades_v5/resized_train/door\\CIBGY.mp4\n",
      "Moviepy - Building video F:/DLProj/Charades_v5/resized_train/door\\CV20O.mp4.\n",
      "MoviePy - Writing audio in CV20OTEMP_MPY_wvf_snd.mp3\n"
     ]
    },
    {
     "name": "stderr",
     "output_type": "stream",
     "text": [
      "                                                                \r"
     ]
    },
    {
     "name": "stdout",
     "output_type": "stream",
     "text": [
      "MoviePy - Done.\n",
      "Moviepy - Writing video F:/DLProj/Charades_v5/resized_train/door\\CV20O.mp4\n",
      "\n"
     ]
    },
    {
     "name": "stderr",
     "output_type": "stream",
     "text": [
      "                                                            \r"
     ]
    },
    {
     "name": "stdout",
     "output_type": "stream",
     "text": [
      "Moviepy - Done !\n",
      "Moviepy - video ready F:/DLProj/Charades_v5/resized_train/door\\CV20O.mp4\n",
      "Moviepy - Building video F:/DLProj/Charades_v5/resized_train/door\\CWUDQ.mp4.\n",
      "MoviePy - Writing audio in CWUDQTEMP_MPY_wvf_snd.mp3\n"
     ]
    },
    {
     "name": "stderr",
     "output_type": "stream",
     "text": [
      "                                                                  \r"
     ]
    },
    {
     "name": "stdout",
     "output_type": "stream",
     "text": [
      "MoviePy - Done.\n",
      "Moviepy - Writing video F:/DLProj/Charades_v5/resized_train/door\\CWUDQ.mp4\n",
      "\n"
     ]
    },
    {
     "name": "stderr",
     "output_type": "stream",
     "text": [
      "                                                              \r"
     ]
    },
    {
     "name": "stdout",
     "output_type": "stream",
     "text": [
      "Moviepy - Done !\n",
      "Moviepy - video ready F:/DLProj/Charades_v5/resized_train/door\\CWUDQ.mp4\n",
      "Moviepy - Building video F:/DLProj/Charades_v5/resized_train/door\\CY6U7.mp4.\n",
      "MoviePy - Writing audio in CY6U7TEMP_MPY_wvf_snd.mp3\n"
     ]
    },
    {
     "name": "stderr",
     "output_type": "stream",
     "text": [
      "                                                                  \r"
     ]
    },
    {
     "name": "stdout",
     "output_type": "stream",
     "text": [
      "MoviePy - Done.\n",
      "Moviepy - Writing video F:/DLProj/Charades_v5/resized_train/door\\CY6U7.mp4\n",
      "\n"
     ]
    },
    {
     "name": "stderr",
     "output_type": "stream",
     "text": [
      "                                                              \r"
     ]
    },
    {
     "name": "stdout",
     "output_type": "stream",
     "text": [
      "Moviepy - Done !\n",
      "Moviepy - video ready F:/DLProj/Charades_v5/resized_train/door\\CY6U7.mp4\n",
      "Moviepy - Building video F:/DLProj/Charades_v5/resized_train/door\\D8OSC.mp4.\n",
      "MoviePy - Writing audio in D8OSCTEMP_MPY_wvf_snd.mp3\n"
     ]
    },
    {
     "name": "stderr",
     "output_type": "stream",
     "text": [
      "                                                                \r"
     ]
    },
    {
     "name": "stdout",
     "output_type": "stream",
     "text": [
      "MoviePy - Done.\n",
      "Moviepy - Writing video F:/DLProj/Charades_v5/resized_train/door\\D8OSC.mp4\n",
      "\n"
     ]
    },
    {
     "name": "stderr",
     "output_type": "stream",
     "text": [
      "                                                              \r"
     ]
    },
    {
     "name": "stdout",
     "output_type": "stream",
     "text": [
      "Moviepy - Done !\n",
      "Moviepy - video ready F:/DLProj/Charades_v5/resized_train/door\\D8OSC.mp4\n",
      "Moviepy - Building video F:/DLProj/Charades_v5/resized_train/door\\D9V53.mp4.\n",
      "MoviePy - Writing audio in D9V53TEMP_MPY_wvf_snd.mp3\n"
     ]
    },
    {
     "name": "stderr",
     "output_type": "stream",
     "text": [
      "                                                                \r"
     ]
    },
    {
     "name": "stdout",
     "output_type": "stream",
     "text": [
      "MoviePy - Done.\n",
      "Moviepy - Writing video F:/DLProj/Charades_v5/resized_train/door\\D9V53.mp4\n",
      "\n"
     ]
    },
    {
     "name": "stderr",
     "output_type": "stream",
     "text": [
      "                                                              \r"
     ]
    },
    {
     "name": "stdout",
     "output_type": "stream",
     "text": [
      "Moviepy - Done !\n",
      "Moviepy - video ready F:/DLProj/Charades_v5/resized_train/door\\D9V53.mp4\n",
      "Moviepy - Building video F:/DLProj/Charades_v5/resized_train/door\\DLBRW.mp4.\n",
      "MoviePy - Writing audio in DLBRWTEMP_MPY_wvf_snd.mp3\n"
     ]
    },
    {
     "name": "stderr",
     "output_type": "stream",
     "text": [
      "                                                                  \r"
     ]
    },
    {
     "name": "stdout",
     "output_type": "stream",
     "text": [
      "MoviePy - Done.\n",
      "Moviepy - Writing video F:/DLProj/Charades_v5/resized_train/door\\DLBRW.mp4\n",
      "\n"
     ]
    },
    {
     "name": "stderr",
     "output_type": "stream",
     "text": [
      "                                                              \r"
     ]
    },
    {
     "name": "stdout",
     "output_type": "stream",
     "text": [
      "Moviepy - Done !\n",
      "Moviepy - video ready F:/DLProj/Charades_v5/resized_train/door\\DLBRW.mp4\n",
      "Moviepy - Building video F:/DLProj/Charades_v5/resized_train/door\\DOB0W.mp4.\n",
      "MoviePy - Writing audio in DOB0WTEMP_MPY_wvf_snd.mp3\n"
     ]
    },
    {
     "name": "stderr",
     "output_type": "stream",
     "text": [
      "                                                                \r"
     ]
    },
    {
     "name": "stdout",
     "output_type": "stream",
     "text": [
      "MoviePy - Done.\n",
      "Moviepy - Writing video F:/DLProj/Charades_v5/resized_train/door\\DOB0W.mp4\n",
      "\n"
     ]
    },
    {
     "name": "stderr",
     "output_type": "stream",
     "text": [
      "                                                            \r"
     ]
    },
    {
     "name": "stdout",
     "output_type": "stream",
     "text": [
      "Moviepy - Done !\n",
      "Moviepy - video ready F:/DLProj/Charades_v5/resized_train/door\\DOB0W.mp4\n",
      "Moviepy - Building video F:/DLProj/Charades_v5/resized_train/door\\DV6U8.mp4.\n",
      "MoviePy - Writing audio in DV6U8TEMP_MPY_wvf_snd.mp3\n"
     ]
    },
    {
     "name": "stderr",
     "output_type": "stream",
     "text": [
      "                                                                 \r"
     ]
    },
    {
     "name": "stdout",
     "output_type": "stream",
     "text": [
      "MoviePy - Done.\n",
      "Moviepy - Writing video F:/DLProj/Charades_v5/resized_train/door\\DV6U8.mp4\n",
      "\n"
     ]
    },
    {
     "name": "stderr",
     "output_type": "stream",
     "text": [
      "                                                              \r"
     ]
    },
    {
     "name": "stdout",
     "output_type": "stream",
     "text": [
      "Moviepy - Done !\n",
      "Moviepy - video ready F:/DLProj/Charades_v5/resized_train/door\\DV6U8.mp4\n",
      "Moviepy - Building video F:/DLProj/Charades_v5/resized_train/door\\E27NK.mp4.\n",
      "MoviePy - Writing audio in E27NKTEMP_MPY_wvf_snd.mp3\n"
     ]
    },
    {
     "name": "stderr",
     "output_type": "stream",
     "text": [
      "                                                                  \r"
     ]
    },
    {
     "name": "stdout",
     "output_type": "stream",
     "text": [
      "MoviePy - Done.\n",
      "Moviepy - Writing video F:/DLProj/Charades_v5/resized_train/door\\E27NK.mp4\n",
      "\n"
     ]
    },
    {
     "name": "stderr",
     "output_type": "stream",
     "text": [
      "                                                              \r"
     ]
    },
    {
     "name": "stdout",
     "output_type": "stream",
     "text": [
      "Moviepy - Done !\n",
      "Moviepy - video ready F:/DLProj/Charades_v5/resized_train/door\\E27NK.mp4\n",
      "Moviepy - Building video F:/DLProj/Charades_v5/resized_train/door\\E64R4.mp4.\n",
      "MoviePy - Writing audio in E64R4TEMP_MPY_wvf_snd.mp3\n"
     ]
    },
    {
     "name": "stderr",
     "output_type": "stream",
     "text": [
      "                                                                  \r"
     ]
    },
    {
     "name": "stdout",
     "output_type": "stream",
     "text": [
      "MoviePy - Done.\n",
      "Moviepy - Writing video F:/DLProj/Charades_v5/resized_train/door\\E64R4.mp4\n",
      "\n"
     ]
    },
    {
     "name": "stderr",
     "output_type": "stream",
     "text": [
      "                                                               \r"
     ]
    },
    {
     "name": "stdout",
     "output_type": "stream",
     "text": [
      "Moviepy - Done !\n",
      "Moviepy - video ready F:/DLProj/Charades_v5/resized_train/door\\E64R4.mp4\n",
      "Moviepy - Building video F:/DLProj/Charades_v5/resized_train/door\\E653K.mp4.\n",
      "MoviePy - Writing audio in E653KTEMP_MPY_wvf_snd.mp3\n"
     ]
    },
    {
     "name": "stderr",
     "output_type": "stream",
     "text": [
      "                                                                  \r"
     ]
    },
    {
     "name": "stdout",
     "output_type": "stream",
     "text": [
      "MoviePy - Done.\n",
      "Moviepy - Writing video F:/DLProj/Charades_v5/resized_train/door\\E653K.mp4\n",
      "\n"
     ]
    },
    {
     "name": "stderr",
     "output_type": "stream",
     "text": [
      "                                                            \r"
     ]
    },
    {
     "name": "stdout",
     "output_type": "stream",
     "text": [
      "Moviepy - Done !\n",
      "Moviepy - video ready F:/DLProj/Charades_v5/resized_train/door\\E653K.mp4\n",
      "Moviepy - Building video F:/DLProj/Charades_v5/resized_train/door\\EGNZB.mp4.\n",
      "MoviePy - Writing audio in EGNZBTEMP_MPY_wvf_snd.mp3\n"
     ]
    },
    {
     "name": "stderr",
     "output_type": "stream",
     "text": [
      "                                                                  \r"
     ]
    },
    {
     "name": "stdout",
     "output_type": "stream",
     "text": [
      "MoviePy - Done.\n",
      "Moviepy - Writing video F:/DLProj/Charades_v5/resized_train/door\\EGNZB.mp4\n",
      "\n"
     ]
    },
    {
     "name": "stderr",
     "output_type": "stream",
     "text": [
      "                                                            \r"
     ]
    },
    {
     "name": "stdout",
     "output_type": "stream",
     "text": [
      "Moviepy - Done !\n",
      "Moviepy - video ready F:/DLProj/Charades_v5/resized_train/door\\EGNZB.mp4\n",
      "Moviepy - Building video F:/DLProj/Charades_v5/resized_train/door\\ET9EE.mp4.\n",
      "MoviePy - Writing audio in ET9EETEMP_MPY_wvf_snd.mp3\n"
     ]
    },
    {
     "name": "stderr",
     "output_type": "stream",
     "text": [
      "                                                                  \r"
     ]
    },
    {
     "name": "stdout",
     "output_type": "stream",
     "text": [
      "MoviePy - Done.\n",
      "Moviepy - Writing video F:/DLProj/Charades_v5/resized_train/door\\ET9EE.mp4\n",
      "\n"
     ]
    },
    {
     "name": "stderr",
     "output_type": "stream",
     "text": [
      "                                                              \r"
     ]
    },
    {
     "name": "stdout",
     "output_type": "stream",
     "text": [
      "Moviepy - Done !\n",
      "Moviepy - video ready F:/DLProj/Charades_v5/resized_train/door\\ET9EE.mp4\n",
      "Moviepy - Building video F:/DLProj/Charades_v5/resized_train/door\\F1VEE.mp4.\n",
      "MoviePy - Writing audio in F1VEETEMP_MPY_wvf_snd.mp3\n"
     ]
    },
    {
     "name": "stderr",
     "output_type": "stream",
     "text": [
      "                                                                  \r"
     ]
    },
    {
     "name": "stdout",
     "output_type": "stream",
     "text": [
      "MoviePy - Done.\n",
      "Moviepy - Writing video F:/DLProj/Charades_v5/resized_train/door\\F1VEE.mp4\n",
      "\n"
     ]
    },
    {
     "name": "stderr",
     "output_type": "stream",
     "text": [
      "                                                               \r"
     ]
    },
    {
     "name": "stdout",
     "output_type": "stream",
     "text": [
      "Moviepy - Done !\n",
      "Moviepy - video ready F:/DLProj/Charades_v5/resized_train/door\\F1VEE.mp4\n",
      "Moviepy - Building video F:/DLProj/Charades_v5/resized_train/door\\FCQS8.mp4.\n",
      "MoviePy - Writing audio in FCQS8TEMP_MPY_wvf_snd.mp3\n"
     ]
    },
    {
     "name": "stderr",
     "output_type": "stream",
     "text": [
      "                                                                \r"
     ]
    },
    {
     "name": "stdout",
     "output_type": "stream",
     "text": [
      "MoviePy - Done.\n",
      "Moviepy - Writing video F:/DLProj/Charades_v5/resized_train/door\\FCQS8.mp4\n",
      "\n"
     ]
    },
    {
     "name": "stderr",
     "output_type": "stream",
     "text": [
      "                                                              \r"
     ]
    },
    {
     "name": "stdout",
     "output_type": "stream",
     "text": [
      "Moviepy - Done !\n",
      "Moviepy - video ready F:/DLProj/Charades_v5/resized_train/door\\FCQS8.mp4\n",
      "Moviepy - Building video F:/DLProj/Charades_v5/resized_train/door\\FNM5E.mp4.\n",
      "MoviePy - Writing audio in FNM5ETEMP_MPY_wvf_snd.mp3\n"
     ]
    },
    {
     "name": "stderr",
     "output_type": "stream",
     "text": [
      "                                                                  \r"
     ]
    },
    {
     "name": "stdout",
     "output_type": "stream",
     "text": [
      "MoviePy - Done.\n",
      "Moviepy - Writing video F:/DLProj/Charades_v5/resized_train/door\\FNM5E.mp4\n",
      "\n"
     ]
    },
    {
     "name": "stderr",
     "output_type": "stream",
     "text": [
      "                                                              \r"
     ]
    },
    {
     "name": "stdout",
     "output_type": "stream",
     "text": [
      "Moviepy - Done !\n",
      "Moviepy - video ready F:/DLProj/Charades_v5/resized_train/door\\FNM5E.mp4\n",
      "Moviepy - Building video F:/DLProj/Charades_v5/resized_train/door\\FPU57.mp4.\n",
      "MoviePy - Writing audio in FPU57TEMP_MPY_wvf_snd.mp3\n"
     ]
    },
    {
     "name": "stderr",
     "output_type": "stream",
     "text": [
      "                                                                  \r"
     ]
    },
    {
     "name": "stdout",
     "output_type": "stream",
     "text": [
      "MoviePy - Done.\n",
      "Moviepy - Writing video F:/DLProj/Charades_v5/resized_train/door\\FPU57.mp4\n",
      "\n"
     ]
    },
    {
     "name": "stderr",
     "output_type": "stream",
     "text": [
      "                                                               \r"
     ]
    },
    {
     "name": "stdout",
     "output_type": "stream",
     "text": [
      "Moviepy - Done !\n",
      "Moviepy - video ready F:/DLProj/Charades_v5/resized_train/door\\FPU57.mp4\n",
      "Moviepy - Building video F:/DLProj/Charades_v5/resized_train/door\\FQAAB.mp4.\n",
      "MoviePy - Writing audio in FQAABTEMP_MPY_wvf_snd.mp3\n"
     ]
    },
    {
     "name": "stderr",
     "output_type": "stream",
     "text": [
      "                                                                 \r"
     ]
    },
    {
     "name": "stdout",
     "output_type": "stream",
     "text": [
      "MoviePy - Done.\n",
      "Moviepy - Writing video F:/DLProj/Charades_v5/resized_train/door\\FQAAB.mp4\n",
      "\n"
     ]
    },
    {
     "name": "stderr",
     "output_type": "stream",
     "text": [
      "                                                              \r"
     ]
    },
    {
     "name": "stdout",
     "output_type": "stream",
     "text": [
      "Moviepy - Done !\n",
      "Moviepy - video ready F:/DLProj/Charades_v5/resized_train/door\\FQAAB.mp4\n",
      "Moviepy - Building video F:/DLProj/Charades_v5/resized_train/door\\GZQ0V.mp4.\n",
      "MoviePy - Writing audio in GZQ0VTEMP_MPY_wvf_snd.mp3\n"
     ]
    },
    {
     "name": "stderr",
     "output_type": "stream",
     "text": [
      "                                                                 \r"
     ]
    },
    {
     "name": "stdout",
     "output_type": "stream",
     "text": [
      "MoviePy - Done.\n",
      "Moviepy - Writing video F:/DLProj/Charades_v5/resized_train/door\\GZQ0V.mp4\n",
      "\n"
     ]
    },
    {
     "name": "stderr",
     "output_type": "stream",
     "text": [
      "                                                              \r"
     ]
    },
    {
     "name": "stdout",
     "output_type": "stream",
     "text": [
      "Moviepy - Done !\n",
      "Moviepy - video ready F:/DLProj/Charades_v5/resized_train/door\\GZQ0V.mp4\n",
      "Moviepy - Building video F:/DLProj/Charades_v5/resized_train/door\\H4IT6.mp4.\n",
      "MoviePy - Writing audio in H4IT6TEMP_MPY_wvf_snd.mp3\n"
     ]
    },
    {
     "name": "stderr",
     "output_type": "stream",
     "text": [
      "                                                                  \r"
     ]
    },
    {
     "name": "stdout",
     "output_type": "stream",
     "text": [
      "MoviePy - Done.\n",
      "Moviepy - Writing video F:/DLProj/Charades_v5/resized_train/door\\H4IT6.mp4\n",
      "\n"
     ]
    },
    {
     "name": "stderr",
     "output_type": "stream",
     "text": [
      "                                                              \r"
     ]
    },
    {
     "name": "stdout",
     "output_type": "stream",
     "text": [
      "Moviepy - Done !\n",
      "Moviepy - video ready F:/DLProj/Charades_v5/resized_train/door\\H4IT6.mp4\n",
      "Moviepy - Building video F:/DLProj/Charades_v5/resized_train/door\\HEIW9.mp4.\n",
      "MoviePy - Writing audio in HEIW9TEMP_MPY_wvf_snd.mp3\n"
     ]
    },
    {
     "name": "stderr",
     "output_type": "stream",
     "text": [
      "                                                                \r"
     ]
    },
    {
     "name": "stdout",
     "output_type": "stream",
     "text": [
      "MoviePy - Done.\n",
      "Moviepy - Writing video F:/DLProj/Charades_v5/resized_train/door\\HEIW9.mp4\n",
      "\n"
     ]
    },
    {
     "name": "stderr",
     "output_type": "stream",
     "text": [
      "                                                              \r"
     ]
    },
    {
     "name": "stdout",
     "output_type": "stream",
     "text": [
      "Moviepy - Done !\n",
      "Moviepy - video ready F:/DLProj/Charades_v5/resized_train/door\\HEIW9.mp4\n",
      "Moviepy - Building video F:/DLProj/Charades_v5/resized_train/door\\HSPTH.mp4.\n",
      "MoviePy - Writing audio in HSPTHTEMP_MPY_wvf_snd.mp3\n"
     ]
    },
    {
     "name": "stderr",
     "output_type": "stream",
     "text": [
      "                                                                \r"
     ]
    },
    {
     "name": "stdout",
     "output_type": "stream",
     "text": [
      "MoviePy - Done.\n",
      "Moviepy - Writing video F:/DLProj/Charades_v5/resized_train/door\\HSPTH.mp4\n",
      "\n"
     ]
    },
    {
     "name": "stderr",
     "output_type": "stream",
     "text": [
      "                                                            \r"
     ]
    },
    {
     "name": "stdout",
     "output_type": "stream",
     "text": [
      "Moviepy - Done !\n",
      "Moviepy - video ready F:/DLProj/Charades_v5/resized_train/door\\HSPTH.mp4\n",
      "Moviepy - Building video F:/DLProj/Charades_v5/resized_train/door\\HUU4X.mp4.\n",
      "MoviePy - Writing audio in HUU4XTEMP_MPY_wvf_snd.mp3\n"
     ]
    },
    {
     "name": "stderr",
     "output_type": "stream",
     "text": [
      "                                                                \r"
     ]
    },
    {
     "name": "stdout",
     "output_type": "stream",
     "text": [
      "MoviePy - Done.\n",
      "Moviepy - Writing video F:/DLProj/Charades_v5/resized_train/door\\HUU4X.mp4\n",
      "\n"
     ]
    },
    {
     "name": "stderr",
     "output_type": "stream",
     "text": [
      "                                                              \r"
     ]
    },
    {
     "name": "stdout",
     "output_type": "stream",
     "text": [
      "Moviepy - Done !\n",
      "Moviepy - video ready F:/DLProj/Charades_v5/resized_train/door\\HUU4X.mp4\n",
      "Moviepy - Building video F:/DLProj/Charades_v5/resized_train/door\\HWL2J.mp4.\n",
      "MoviePy - Writing audio in HWL2JTEMP_MPY_wvf_snd.mp3\n"
     ]
    },
    {
     "name": "stderr",
     "output_type": "stream",
     "text": [
      "                                                                  \r"
     ]
    },
    {
     "name": "stdout",
     "output_type": "stream",
     "text": [
      "MoviePy - Done.\n",
      "Moviepy - Writing video F:/DLProj/Charades_v5/resized_train/door\\HWL2J.mp4\n",
      "\n"
     ]
    },
    {
     "name": "stderr",
     "output_type": "stream",
     "text": [
      "                                                              \r"
     ]
    },
    {
     "name": "stdout",
     "output_type": "stream",
     "text": [
      "Moviepy - Done !\n",
      "Moviepy - video ready F:/DLProj/Charades_v5/resized_train/door\\HWL2J.mp4\n",
      "Moviepy - Building video F:/DLProj/Charades_v5/resized_train/door\\HXSMP.mp4.\n",
      "MoviePy - Writing audio in HXSMPTEMP_MPY_wvf_snd.mp3\n"
     ]
    },
    {
     "name": "stderr",
     "output_type": "stream",
     "text": [
      "                                                                 \r"
     ]
    },
    {
     "name": "stdout",
     "output_type": "stream",
     "text": [
      "MoviePy - Done.\n",
      "Moviepy - Writing video F:/DLProj/Charades_v5/resized_train/door\\HXSMP.mp4\n",
      "\n"
     ]
    },
    {
     "name": "stderr",
     "output_type": "stream",
     "text": [
      "                                                              \r"
     ]
    },
    {
     "name": "stdout",
     "output_type": "stream",
     "text": [
      "Moviepy - Done !\n",
      "Moviepy - video ready F:/DLProj/Charades_v5/resized_train/door\\HXSMP.mp4\n",
      "Moviepy - Building video F:/DLProj/Charades_v5/resized_train/door\\I6H4R.mp4.\n",
      "MoviePy - Writing audio in I6H4RTEMP_MPY_wvf_snd.mp3\n"
     ]
    },
    {
     "name": "stderr",
     "output_type": "stream",
     "text": [
      "                                                                \r"
     ]
    },
    {
     "name": "stdout",
     "output_type": "stream",
     "text": [
      "MoviePy - Done.\n",
      "Moviepy - Writing video F:/DLProj/Charades_v5/resized_train/door\\I6H4R.mp4\n",
      "\n"
     ]
    },
    {
     "name": "stderr",
     "output_type": "stream",
     "text": [
      "                                                              \r"
     ]
    },
    {
     "name": "stdout",
     "output_type": "stream",
     "text": [
      "Moviepy - Done !\n",
      "Moviepy - video ready F:/DLProj/Charades_v5/resized_train/door\\I6H4R.mp4\n",
      "Moviepy - Building video F:/DLProj/Charades_v5/resized_train/door\\IA5TC.mp4.\n",
      "MoviePy - Writing audio in IA5TCTEMP_MPY_wvf_snd.mp3\n"
     ]
    },
    {
     "name": "stderr",
     "output_type": "stream",
     "text": [
      "                                                                  \r"
     ]
    },
    {
     "name": "stdout",
     "output_type": "stream",
     "text": [
      "MoviePy - Done.\n",
      "Moviepy - Writing video F:/DLProj/Charades_v5/resized_train/door\\IA5TC.mp4\n",
      "\n"
     ]
    },
    {
     "name": "stderr",
     "output_type": "stream",
     "text": [
      "                                                              \r"
     ]
    },
    {
     "name": "stdout",
     "output_type": "stream",
     "text": [
      "Moviepy - Done !\n",
      "Moviepy - video ready F:/DLProj/Charades_v5/resized_train/door\\IA5TC.mp4\n",
      "Moviepy - Building video F:/DLProj/Charades_v5/resized_train/door\\IH3GN.mp4.\n",
      "MoviePy - Writing audio in IH3GNTEMP_MPY_wvf_snd.mp3\n"
     ]
    },
    {
     "name": "stderr",
     "output_type": "stream",
     "text": [
      "                                                                  \r"
     ]
    },
    {
     "name": "stdout",
     "output_type": "stream",
     "text": [
      "MoviePy - Done.\n",
      "Moviepy - Writing video F:/DLProj/Charades_v5/resized_train/door\\IH3GN.mp4\n",
      "\n"
     ]
    },
    {
     "name": "stderr",
     "output_type": "stream",
     "text": [
      "                                                              \r"
     ]
    },
    {
     "name": "stdout",
     "output_type": "stream",
     "text": [
      "Moviepy - Done !\n",
      "Moviepy - video ready F:/DLProj/Charades_v5/resized_train/door\\IH3GN.mp4\n",
      "Moviepy - Building video F:/DLProj/Charades_v5/resized_train/door\\IQM7A.mp4.\n",
      "MoviePy - Writing audio in IQM7ATEMP_MPY_wvf_snd.mp3\n"
     ]
    },
    {
     "name": "stderr",
     "output_type": "stream",
     "text": [
      "                                                                  \r"
     ]
    },
    {
     "name": "stdout",
     "output_type": "stream",
     "text": [
      "MoviePy - Done.\n",
      "Moviepy - Writing video F:/DLProj/Charades_v5/resized_train/door\\IQM7A.mp4\n",
      "\n"
     ]
    },
    {
     "name": "stderr",
     "output_type": "stream",
     "text": [
      "                                                              \r"
     ]
    },
    {
     "name": "stdout",
     "output_type": "stream",
     "text": [
      "Moviepy - Done !\n",
      "Moviepy - video ready F:/DLProj/Charades_v5/resized_train/door\\IQM7A.mp4\n",
      "Moviepy - Building video F:/DLProj/Charades_v5/resized_train/door\\J1RLO.mp4.\n",
      "MoviePy - Writing audio in J1RLOTEMP_MPY_wvf_snd.mp3\n"
     ]
    },
    {
     "name": "stderr",
     "output_type": "stream",
     "text": [
      "                                                                  \r"
     ]
    },
    {
     "name": "stdout",
     "output_type": "stream",
     "text": [
      "MoviePy - Done.\n",
      "Moviepy - Writing video F:/DLProj/Charades_v5/resized_train/door\\J1RLO.mp4\n",
      "\n"
     ]
    },
    {
     "name": "stderr",
     "output_type": "stream",
     "text": [
      "                                                               \r"
     ]
    },
    {
     "name": "stdout",
     "output_type": "stream",
     "text": [
      "Moviepy - Done !\n",
      "Moviepy - video ready F:/DLProj/Charades_v5/resized_train/door\\J1RLO.mp4\n",
      "Moviepy - Building video F:/DLProj/Charades_v5/resized_train/door\\J8781.mp4.\n",
      "MoviePy - Writing audio in J8781TEMP_MPY_wvf_snd.mp3\n"
     ]
    },
    {
     "name": "stderr",
     "output_type": "stream",
     "text": [
      "                                                                  \r"
     ]
    },
    {
     "name": "stdout",
     "output_type": "stream",
     "text": [
      "MoviePy - Done.\n",
      "Moviepy - Writing video F:/DLProj/Charades_v5/resized_train/door\\J8781.mp4\n",
      "\n"
     ]
    },
    {
     "name": "stderr",
     "output_type": "stream",
     "text": [
      "                                                               \r"
     ]
    },
    {
     "name": "stdout",
     "output_type": "stream",
     "text": [
      "Moviepy - Done !\n",
      "Moviepy - video ready F:/DLProj/Charades_v5/resized_train/door\\J8781.mp4\n",
      "Moviepy - Building video F:/DLProj/Charades_v5/resized_train/door\\JKZUM.mp4.\n",
      "MoviePy - Writing audio in JKZUMTEMP_MPY_wvf_snd.mp3\n"
     ]
    },
    {
     "name": "stderr",
     "output_type": "stream",
     "text": [
      "                                                                  \r"
     ]
    },
    {
     "name": "stdout",
     "output_type": "stream",
     "text": [
      "MoviePy - Done.\n",
      "Moviepy - Writing video F:/DLProj/Charades_v5/resized_train/door\\JKZUM.mp4\n",
      "\n"
     ]
    },
    {
     "name": "stderr",
     "output_type": "stream",
     "text": [
      "                                                              \r"
     ]
    },
    {
     "name": "stdout",
     "output_type": "stream",
     "text": [
      "Moviepy - Done !\n",
      "Moviepy - video ready F:/DLProj/Charades_v5/resized_train/door\\JKZUM.mp4\n",
      "Moviepy - Building video F:/DLProj/Charades_v5/resized_train/door\\KFI7N.mp4.\n",
      "MoviePy - Writing audio in KFI7NTEMP_MPY_wvf_snd.mp3\n"
     ]
    },
    {
     "name": "stderr",
     "output_type": "stream",
     "text": [
      "                                                                  \r"
     ]
    },
    {
     "name": "stdout",
     "output_type": "stream",
     "text": [
      "MoviePy - Done.\n",
      "Moviepy - Writing video F:/DLProj/Charades_v5/resized_train/door\\KFI7N.mp4\n",
      "\n"
     ]
    },
    {
     "name": "stderr",
     "output_type": "stream",
     "text": [
      "                                                              \r"
     ]
    },
    {
     "name": "stdout",
     "output_type": "stream",
     "text": [
      "Moviepy - Done !\n",
      "Moviepy - video ready F:/DLProj/Charades_v5/resized_train/door\\KFI7N.mp4\n",
      "Moviepy - Building video F:/DLProj/Charades_v5/resized_train/door\\KHHIV.mp4.\n",
      "MoviePy - Writing audio in KHHIVTEMP_MPY_wvf_snd.mp3\n"
     ]
    },
    {
     "name": "stderr",
     "output_type": "stream",
     "text": [
      "                                                                  \r"
     ]
    },
    {
     "name": "stdout",
     "output_type": "stream",
     "text": [
      "MoviePy - Done.\n",
      "Moviepy - Writing video F:/DLProj/Charades_v5/resized_train/door\\KHHIV.mp4\n",
      "\n"
     ]
    },
    {
     "name": "stderr",
     "output_type": "stream",
     "text": [
      "                                                              \r"
     ]
    },
    {
     "name": "stdout",
     "output_type": "stream",
     "text": [
      "Moviepy - Done !\n",
      "Moviepy - video ready F:/DLProj/Charades_v5/resized_train/door\\KHHIV.mp4\n",
      "Moviepy - Building video F:/DLProj/Charades_v5/resized_train/door\\KTDXB.mp4.\n",
      "MoviePy - Writing audio in KTDXBTEMP_MPY_wvf_snd.mp3\n"
     ]
    },
    {
     "name": "stderr",
     "output_type": "stream",
     "text": [
      "                                                                  \r"
     ]
    },
    {
     "name": "stdout",
     "output_type": "stream",
     "text": [
      "MoviePy - Done.\n",
      "Moviepy - Writing video F:/DLProj/Charades_v5/resized_train/door\\KTDXB.mp4\n",
      "\n"
     ]
    },
    {
     "name": "stderr",
     "output_type": "stream",
     "text": [
      "                                                              \r"
     ]
    },
    {
     "name": "stdout",
     "output_type": "stream",
     "text": [
      "Moviepy - Done !\n",
      "Moviepy - video ready F:/DLProj/Charades_v5/resized_train/door\\KTDXB.mp4\n",
      "Moviepy - Building video F:/DLProj/Charades_v5/resized_train/door\\LHMMJ.mp4.\n",
      "MoviePy - Writing audio in LHMMJTEMP_MPY_wvf_snd.mp3\n"
     ]
    },
    {
     "name": "stderr",
     "output_type": "stream",
     "text": [
      "                                                                \r"
     ]
    },
    {
     "name": "stdout",
     "output_type": "stream",
     "text": [
      "MoviePy - Done.\n",
      "Moviepy - Writing video F:/DLProj/Charades_v5/resized_train/door\\LHMMJ.mp4\n",
      "\n"
     ]
    },
    {
     "name": "stderr",
     "output_type": "stream",
     "text": [
      "                                                            \r"
     ]
    },
    {
     "name": "stdout",
     "output_type": "stream",
     "text": [
      "Moviepy - Done !\n",
      "Moviepy - video ready F:/DLProj/Charades_v5/resized_train/door\\LHMMJ.mp4\n",
      "Moviepy - Building video F:/DLProj/Charades_v5/resized_train/door\\LP1F3.mp4.\n",
      "MoviePy - Writing audio in LP1F3TEMP_MPY_wvf_snd.mp3\n"
     ]
    },
    {
     "name": "stderr",
     "output_type": "stream",
     "text": [
      "                                                                  \r"
     ]
    },
    {
     "name": "stdout",
     "output_type": "stream",
     "text": [
      "MoviePy - Done.\n",
      "Moviepy - Writing video F:/DLProj/Charades_v5/resized_train/door\\LP1F3.mp4\n",
      "\n"
     ]
    },
    {
     "name": "stderr",
     "output_type": "stream",
     "text": [
      "                                                              \r"
     ]
    },
    {
     "name": "stdout",
     "output_type": "stream",
     "text": [
      "Moviepy - Done !\n",
      "Moviepy - video ready F:/DLProj/Charades_v5/resized_train/door\\LP1F3.mp4\n",
      "Moviepy - Building video F:/DLProj/Charades_v5/resized_train/door\\M0RUS.mp4.\n",
      "MoviePy - Writing audio in M0RUSTEMP_MPY_wvf_snd.mp3\n"
     ]
    },
    {
     "name": "stderr",
     "output_type": "stream",
     "text": [
      "                                                                  \r"
     ]
    },
    {
     "name": "stdout",
     "output_type": "stream",
     "text": [
      "MoviePy - Done.\n",
      "Moviepy - Writing video F:/DLProj/Charades_v5/resized_train/door\\M0RUS.mp4\n",
      "\n"
     ]
    },
    {
     "name": "stderr",
     "output_type": "stream",
     "text": [
      "                                                               \r"
     ]
    },
    {
     "name": "stdout",
     "output_type": "stream",
     "text": [
      "Moviepy - Done !\n",
      "Moviepy - video ready F:/DLProj/Charades_v5/resized_train/door\\M0RUS.mp4\n",
      "Moviepy - Building video F:/DLProj/Charades_v5/resized_train/door\\MCHRP.mp4.\n",
      "MoviePy - Writing audio in MCHRPTEMP_MPY_wvf_snd.mp3\n"
     ]
    },
    {
     "name": "stderr",
     "output_type": "stream",
     "text": [
      "                                                                  \r"
     ]
    },
    {
     "name": "stdout",
     "output_type": "stream",
     "text": [
      "MoviePy - Done.\n",
      "Moviepy - Writing video F:/DLProj/Charades_v5/resized_train/door\\MCHRP.mp4\n",
      "\n"
     ]
    },
    {
     "name": "stderr",
     "output_type": "stream",
     "text": [
      "                                                              \r"
     ]
    },
    {
     "name": "stdout",
     "output_type": "stream",
     "text": [
      "Moviepy - Done !\n",
      "Moviepy - video ready F:/DLProj/Charades_v5/resized_train/door\\MCHRP.mp4\n",
      "Moviepy - Building video F:/DLProj/Charades_v5/resized_train/door\\ME7II.mp4.\n",
      "MoviePy - Writing audio in ME7IITEMP_MPY_wvf_snd.mp3\n"
     ]
    },
    {
     "name": "stderr",
     "output_type": "stream",
     "text": [
      "                                                                  \r"
     ]
    },
    {
     "name": "stdout",
     "output_type": "stream",
     "text": [
      "MoviePy - Done.\n",
      "Moviepy - Writing video F:/DLProj/Charades_v5/resized_train/door\\ME7II.mp4\n",
      "\n"
     ]
    },
    {
     "name": "stderr",
     "output_type": "stream",
     "text": [
      "                                                              \r"
     ]
    },
    {
     "name": "stdout",
     "output_type": "stream",
     "text": [
      "Moviepy - Done !\n",
      "Moviepy - video ready F:/DLProj/Charades_v5/resized_train/door\\ME7II.mp4\n",
      "Moviepy - Building video F:/DLProj/Charades_v5/resized_train/door\\MIV2M.mp4.\n",
      "MoviePy - Writing audio in MIV2MTEMP_MPY_wvf_snd.mp3\n"
     ]
    },
    {
     "name": "stderr",
     "output_type": "stream",
     "text": [
      "                                                                \r"
     ]
    },
    {
     "name": "stdout",
     "output_type": "stream",
     "text": [
      "MoviePy - Done.\n",
      "Moviepy - Writing video F:/DLProj/Charades_v5/resized_train/door\\MIV2M.mp4\n",
      "\n"
     ]
    },
    {
     "name": "stderr",
     "output_type": "stream",
     "text": [
      "                                                            \r"
     ]
    },
    {
     "name": "stdout",
     "output_type": "stream",
     "text": [
      "Moviepy - Done !\n",
      "Moviepy - video ready F:/DLProj/Charades_v5/resized_train/door\\MIV2M.mp4\n",
      "Moviepy - Building video F:/DLProj/Charades_v5/resized_train/door\\MTLT3.mp4.\n",
      "MoviePy - Writing audio in MTLT3TEMP_MPY_wvf_snd.mp3\n"
     ]
    },
    {
     "name": "stderr",
     "output_type": "stream",
     "text": [
      "                                                                 \r"
     ]
    },
    {
     "name": "stdout",
     "output_type": "stream",
     "text": [
      "MoviePy - Done.\n",
      "Moviepy - Writing video F:/DLProj/Charades_v5/resized_train/door\\MTLT3.mp4\n",
      "\n"
     ]
    },
    {
     "name": "stderr",
     "output_type": "stream",
     "text": [
      "                                                              \r"
     ]
    },
    {
     "name": "stdout",
     "output_type": "stream",
     "text": [
      "Moviepy - Done !\n",
      "Moviepy - video ready F:/DLProj/Charades_v5/resized_train/door\\MTLT3.mp4\n",
      "Moviepy - Building video F:/DLProj/Charades_v5/resized_train/door\\NALYS.mp4.\n",
      "MoviePy - Writing audio in NALYSTEMP_MPY_wvf_snd.mp3\n"
     ]
    },
    {
     "name": "stderr",
     "output_type": "stream",
     "text": [
      "                                                                  \r"
     ]
    },
    {
     "name": "stdout",
     "output_type": "stream",
     "text": [
      "MoviePy - Done.\n",
      "Moviepy - Writing video F:/DLProj/Charades_v5/resized_train/door\\NALYS.mp4\n",
      "\n"
     ]
    },
    {
     "name": "stderr",
     "output_type": "stream",
     "text": [
      "                                                               \r"
     ]
    },
    {
     "name": "stdout",
     "output_type": "stream",
     "text": [
      "Moviepy - Done !\n",
      "Moviepy - video ready F:/DLProj/Charades_v5/resized_train/door\\NALYS.mp4\n",
      "Moviepy - Building video F:/DLProj/Charades_v5/resized_train/door\\NHSAW.mp4.\n",
      "MoviePy - Writing audio in NHSAWTEMP_MPY_wvf_snd.mp3\n"
     ]
    },
    {
     "name": "stderr",
     "output_type": "stream",
     "text": [
      "                                                                  \r"
     ]
    },
    {
     "name": "stdout",
     "output_type": "stream",
     "text": [
      "MoviePy - Done.\n",
      "Moviepy - Writing video F:/DLProj/Charades_v5/resized_train/door\\NHSAW.mp4\n",
      "\n"
     ]
    },
    {
     "name": "stderr",
     "output_type": "stream",
     "text": [
      "                                                              \r"
     ]
    },
    {
     "name": "stdout",
     "output_type": "stream",
     "text": [
      "Moviepy - Done !\n",
      "Moviepy - video ready F:/DLProj/Charades_v5/resized_train/door\\NHSAW.mp4\n",
      "Moviepy - Building video F:/DLProj/Charades_v5/resized_train/door\\NWFOF.mp4.\n",
      "MoviePy - Writing audio in NWFOFTEMP_MPY_wvf_snd.mp3\n"
     ]
    },
    {
     "name": "stderr",
     "output_type": "stream",
     "text": [
      "                                                                  \r"
     ]
    },
    {
     "name": "stdout",
     "output_type": "stream",
     "text": [
      "MoviePy - Done.\n",
      "Moviepy - Writing video F:/DLProj/Charades_v5/resized_train/door\\NWFOF.mp4\n",
      "\n"
     ]
    },
    {
     "name": "stderr",
     "output_type": "stream",
     "text": [
      "                                                            \r"
     ]
    },
    {
     "name": "stdout",
     "output_type": "stream",
     "text": [
      "Moviepy - Done !\n",
      "Moviepy - video ready F:/DLProj/Charades_v5/resized_train/door\\NWFOF.mp4\n",
      "Moviepy - Building video F:/DLProj/Charades_v5/resized_train/door\\NZG0R.mp4.\n",
      "MoviePy - Writing audio in NZG0RTEMP_MPY_wvf_snd.mp3\n"
     ]
    },
    {
     "name": "stderr",
     "output_type": "stream",
     "text": [
      "                                                                  \r"
     ]
    },
    {
     "name": "stdout",
     "output_type": "stream",
     "text": [
      "MoviePy - Done.\n",
      "Moviepy - Writing video F:/DLProj/Charades_v5/resized_train/door\\NZG0R.mp4\n",
      "\n"
     ]
    },
    {
     "name": "stderr",
     "output_type": "stream",
     "text": [
      "                                                            \r"
     ]
    },
    {
     "name": "stdout",
     "output_type": "stream",
     "text": [
      "Moviepy - Done !\n",
      "Moviepy - video ready F:/DLProj/Charades_v5/resized_train/door\\NZG0R.mp4\n",
      "Moviepy - Building video F:/DLProj/Charades_v5/resized_train/door\\OADOE.mp4.\n",
      "MoviePy - Writing audio in OADOETEMP_MPY_wvf_snd.mp3\n"
     ]
    },
    {
     "name": "stderr",
     "output_type": "stream",
     "text": [
      "                                                                \r"
     ]
    },
    {
     "name": "stdout",
     "output_type": "stream",
     "text": [
      "MoviePy - Done.\n",
      "Moviepy - Writing video F:/DLProj/Charades_v5/resized_train/door\\OADOE.mp4\n",
      "\n"
     ]
    },
    {
     "name": "stderr",
     "output_type": "stream",
     "text": [
      "                                                              \r"
     ]
    },
    {
     "name": "stdout",
     "output_type": "stream",
     "text": [
      "Moviepy - Done !\n",
      "Moviepy - video ready F:/DLProj/Charades_v5/resized_train/door\\OADOE.mp4\n",
      "Moviepy - Building video F:/DLProj/Charades_v5/resized_train/door\\OUAIS.mp4.\n",
      "MoviePy - Writing audio in OUAISTEMP_MPY_wvf_snd.mp3\n"
     ]
    },
    {
     "name": "stderr",
     "output_type": "stream",
     "text": [
      "                                                                  \r"
     ]
    },
    {
     "name": "stdout",
     "output_type": "stream",
     "text": [
      "MoviePy - Done.\n",
      "Moviepy - Writing video F:/DLProj/Charades_v5/resized_train/door\\OUAIS.mp4\n",
      "\n"
     ]
    },
    {
     "name": "stderr",
     "output_type": "stream",
     "text": [
      "                                                               \r"
     ]
    },
    {
     "name": "stdout",
     "output_type": "stream",
     "text": [
      "Moviepy - Done !\n",
      "Moviepy - video ready F:/DLProj/Charades_v5/resized_train/door\\OUAIS.mp4\n",
      "Moviepy - Building video F:/DLProj/Charades_v5/resized_train/door\\PRVP0.mp4.\n",
      "MoviePy - Writing audio in PRVP0TEMP_MPY_wvf_snd.mp3\n"
     ]
    },
    {
     "name": "stderr",
     "output_type": "stream",
     "text": [
      "                                                                  \r"
     ]
    },
    {
     "name": "stdout",
     "output_type": "stream",
     "text": [
      "MoviePy - Done.\n",
      "Moviepy - Writing video F:/DLProj/Charades_v5/resized_train/door\\PRVP0.mp4\n",
      "\n"
     ]
    },
    {
     "name": "stderr",
     "output_type": "stream",
     "text": [
      "                                                              \r"
     ]
    },
    {
     "name": "stdout",
     "output_type": "stream",
     "text": [
      "Moviepy - Done !\n",
      "Moviepy - video ready F:/DLProj/Charades_v5/resized_train/door\\PRVP0.mp4\n",
      "Moviepy - Building video F:/DLProj/Charades_v5/resized_train/door\\PWO7A.mp4.\n",
      "MoviePy - Writing audio in PWO7ATEMP_MPY_wvf_snd.mp3\n"
     ]
    },
    {
     "name": "stderr",
     "output_type": "stream",
     "text": [
      "                                                                   \r"
     ]
    },
    {
     "name": "stdout",
     "output_type": "stream",
     "text": [
      "MoviePy - Done.\n",
      "Moviepy - Writing video F:/DLProj/Charades_v5/resized_train/door\\PWO7A.mp4\n",
      "\n"
     ]
    },
    {
     "name": "stderr",
     "output_type": "stream",
     "text": [
      "                                                              \r"
     ]
    },
    {
     "name": "stdout",
     "output_type": "stream",
     "text": [
      "Moviepy - Done !\n",
      "Moviepy - video ready F:/DLProj/Charades_v5/resized_train/door\\PWO7A.mp4\n",
      "Moviepy - Building video F:/DLProj/Charades_v5/resized_train/door\\QBOOH.mp4.\n",
      "MoviePy - Writing audio in QBOOHTEMP_MPY_wvf_snd.mp3\n"
     ]
    },
    {
     "name": "stderr",
     "output_type": "stream",
     "text": [
      "                                                                  \r"
     ]
    },
    {
     "name": "stdout",
     "output_type": "stream",
     "text": [
      "MoviePy - Done.\n",
      "Moviepy - Writing video F:/DLProj/Charades_v5/resized_train/door\\QBOOH.mp4\n",
      "\n"
     ]
    },
    {
     "name": "stderr",
     "output_type": "stream",
     "text": [
      "                                                              \r"
     ]
    },
    {
     "name": "stdout",
     "output_type": "stream",
     "text": [
      "Moviepy - Done !\n",
      "Moviepy - video ready F:/DLProj/Charades_v5/resized_train/door\\QBOOH.mp4\n",
      "Moviepy - Building video F:/DLProj/Charades_v5/resized_train/door\\QSQK2.mp4.\n",
      "MoviePy - Writing audio in QSQK2TEMP_MPY_wvf_snd.mp3\n"
     ]
    },
    {
     "name": "stderr",
     "output_type": "stream",
     "text": [
      "                                                                  \r"
     ]
    },
    {
     "name": "stdout",
     "output_type": "stream",
     "text": [
      "MoviePy - Done.\n",
      "Moviepy - Writing video F:/DLProj/Charades_v5/resized_train/door\\QSQK2.mp4\n",
      "\n"
     ]
    },
    {
     "name": "stderr",
     "output_type": "stream",
     "text": [
      "                                                            \r"
     ]
    },
    {
     "name": "stdout",
     "output_type": "stream",
     "text": [
      "Moviepy - Done !\n",
      "Moviepy - video ready F:/DLProj/Charades_v5/resized_train/door\\QSQK2.mp4\n",
      "Moviepy - Building video F:/DLProj/Charades_v5/resized_train/door\\QU5KF.mp4.\n",
      "MoviePy - Writing audio in QU5KFTEMP_MPY_wvf_snd.mp3\n"
     ]
    },
    {
     "name": "stderr",
     "output_type": "stream",
     "text": [
      "                                                                \r"
     ]
    },
    {
     "name": "stdout",
     "output_type": "stream",
     "text": [
      "MoviePy - Done.\n",
      "Moviepy - Writing video F:/DLProj/Charades_v5/resized_train/door\\QU5KF.mp4\n",
      "\n"
     ]
    },
    {
     "name": "stderr",
     "output_type": "stream",
     "text": [
      "                                                            \r"
     ]
    },
    {
     "name": "stdout",
     "output_type": "stream",
     "text": [
      "Moviepy - Done !\n",
      "Moviepy - video ready F:/DLProj/Charades_v5/resized_train/door\\QU5KF.mp4\n",
      "Moviepy - Building video F:/DLProj/Charades_v5/resized_train/door\\QUE13.mp4.\n",
      "MoviePy - Writing audio in QUE13TEMP_MPY_wvf_snd.mp3\n"
     ]
    },
    {
     "name": "stderr",
     "output_type": "stream",
     "text": [
      "                                                                \r"
     ]
    },
    {
     "name": "stdout",
     "output_type": "stream",
     "text": [
      "MoviePy - Done.\n",
      "Moviepy - Writing video F:/DLProj/Charades_v5/resized_train/door\\QUE13.mp4\n",
      "\n"
     ]
    },
    {
     "name": "stderr",
     "output_type": "stream",
     "text": [
      "                                                            \r"
     ]
    },
    {
     "name": "stdout",
     "output_type": "stream",
     "text": [
      "Moviepy - Done !\n",
      "Moviepy - video ready F:/DLProj/Charades_v5/resized_train/door\\QUE13.mp4\n",
      "Moviepy - Building video F:/DLProj/Charades_v5/resized_train/door\\R0OLR.mp4.\n",
      "MoviePy - Writing audio in R0OLRTEMP_MPY_wvf_snd.mp3\n"
     ]
    },
    {
     "name": "stderr",
     "output_type": "stream",
     "text": [
      "                                                                  \r"
     ]
    },
    {
     "name": "stdout",
     "output_type": "stream",
     "text": [
      "MoviePy - Done.\n",
      "Moviepy - Writing video F:/DLProj/Charades_v5/resized_train/door\\R0OLR.mp4\n",
      "\n"
     ]
    },
    {
     "name": "stderr",
     "output_type": "stream",
     "text": [
      "                                                              \r"
     ]
    },
    {
     "name": "stdout",
     "output_type": "stream",
     "text": [
      "Moviepy - Done !\n",
      "Moviepy - video ready F:/DLProj/Charades_v5/resized_train/door\\R0OLR.mp4\n",
      "Moviepy - Building video F:/DLProj/Charades_v5/resized_train/door\\R6H5P.mp4.\n",
      "MoviePy - Writing audio in R6H5PTEMP_MPY_wvf_snd.mp3\n"
     ]
    },
    {
     "name": "stderr",
     "output_type": "stream",
     "text": [
      "                                                                  \r"
     ]
    },
    {
     "name": "stdout",
     "output_type": "stream",
     "text": [
      "MoviePy - Done.\n",
      "Moviepy - Writing video F:/DLProj/Charades_v5/resized_train/door\\R6H5P.mp4\n",
      "\n"
     ]
    },
    {
     "name": "stderr",
     "output_type": "stream",
     "text": [
      "                                                              \r"
     ]
    },
    {
     "name": "stdout",
     "output_type": "stream",
     "text": [
      "Moviepy - Done !\n",
      "Moviepy - video ready F:/DLProj/Charades_v5/resized_train/door\\R6H5P.mp4\n",
      "Moviepy - Building video F:/DLProj/Charades_v5/resized_train/door\\R87CC.mp4.\n",
      "MoviePy - Writing audio in R87CCTEMP_MPY_wvf_snd.mp3\n"
     ]
    },
    {
     "name": "stderr",
     "output_type": "stream",
     "text": [
      "                                                                  \r"
     ]
    },
    {
     "name": "stdout",
     "output_type": "stream",
     "text": [
      "MoviePy - Done.\n",
      "Moviepy - Writing video F:/DLProj/Charades_v5/resized_train/door\\R87CC.mp4\n",
      "\n"
     ]
    },
    {
     "name": "stderr",
     "output_type": "stream",
     "text": [
      "                                                               \r"
     ]
    },
    {
     "name": "stdout",
     "output_type": "stream",
     "text": [
      "Moviepy - Done !\n",
      "Moviepy - video ready F:/DLProj/Charades_v5/resized_train/door\\R87CC.mp4\n",
      "Moviepy - Building video F:/DLProj/Charades_v5/resized_train/door\\RGY38.mp4.\n",
      "MoviePy - Writing audio in RGY38TEMP_MPY_wvf_snd.mp3\n"
     ]
    },
    {
     "name": "stderr",
     "output_type": "stream",
     "text": [
      "                                                                  \r"
     ]
    },
    {
     "name": "stdout",
     "output_type": "stream",
     "text": [
      "MoviePy - Done.\n",
      "Moviepy - Writing video F:/DLProj/Charades_v5/resized_train/door\\RGY38.mp4\n",
      "\n"
     ]
    },
    {
     "name": "stderr",
     "output_type": "stream",
     "text": [
      "                                                              \r"
     ]
    },
    {
     "name": "stdout",
     "output_type": "stream",
     "text": [
      "Moviepy - Done !\n",
      "Moviepy - video ready F:/DLProj/Charades_v5/resized_train/door\\RGY38.mp4\n",
      "Moviepy - Building video F:/DLProj/Charades_v5/resized_train/door\\RJFT8.mp4.\n",
      "MoviePy - Writing audio in RJFT8TEMP_MPY_wvf_snd.mp3\n"
     ]
    },
    {
     "name": "stderr",
     "output_type": "stream",
     "text": [
      "                                                                  \r"
     ]
    },
    {
     "name": "stdout",
     "output_type": "stream",
     "text": [
      "MoviePy - Done.\n",
      "Moviepy - Writing video F:/DLProj/Charades_v5/resized_train/door\\RJFT8.mp4\n",
      "\n"
     ]
    },
    {
     "name": "stderr",
     "output_type": "stream",
     "text": [
      "                                                              \r"
     ]
    },
    {
     "name": "stdout",
     "output_type": "stream",
     "text": [
      "Moviepy - Done !\n",
      "Moviepy - video ready F:/DLProj/Charades_v5/resized_train/door\\RJFT8.mp4\n",
      "Moviepy - Building video F:/DLProj/Charades_v5/resized_train/door\\RLS2I.mp4.\n",
      "MoviePy - Writing audio in RLS2ITEMP_MPY_wvf_snd.mp3\n"
     ]
    },
    {
     "name": "stderr",
     "output_type": "stream",
     "text": [
      "                                                                  \r"
     ]
    },
    {
     "name": "stdout",
     "output_type": "stream",
     "text": [
      "MoviePy - Done.\n",
      "Moviepy - Writing video F:/DLProj/Charades_v5/resized_train/door\\RLS2I.mp4\n",
      "\n"
     ]
    },
    {
     "name": "stderr",
     "output_type": "stream",
     "text": [
      "                                                              \r"
     ]
    },
    {
     "name": "stdout",
     "output_type": "stream",
     "text": [
      "Moviepy - Done !\n",
      "Moviepy - video ready F:/DLProj/Charades_v5/resized_train/door\\RLS2I.mp4\n",
      "Moviepy - Building video F:/DLProj/Charades_v5/resized_train/door\\S7CH5.mp4.\n",
      "MoviePy - Writing audio in S7CH5TEMP_MPY_wvf_snd.mp3\n"
     ]
    },
    {
     "name": "stderr",
     "output_type": "stream",
     "text": [
      "                                                                  \r"
     ]
    },
    {
     "name": "stdout",
     "output_type": "stream",
     "text": [
      "MoviePy - Done.\n",
      "Moviepy - Writing video F:/DLProj/Charades_v5/resized_train/door\\S7CH5.mp4\n",
      "\n"
     ]
    },
    {
     "name": "stderr",
     "output_type": "stream",
     "text": [
      "                                                            \r"
     ]
    },
    {
     "name": "stdout",
     "output_type": "stream",
     "text": [
      "Moviepy - Done !\n",
      "Moviepy - video ready F:/DLProj/Charades_v5/resized_train/door\\S7CH5.mp4\n",
      "Moviepy - Building video F:/DLProj/Charades_v5/resized_train/door\\SY1JE.mp4.\n",
      "MoviePy - Writing audio in SY1JETEMP_MPY_wvf_snd.mp3\n"
     ]
    },
    {
     "name": "stderr",
     "output_type": "stream",
     "text": [
      "                                                                  \r"
     ]
    },
    {
     "name": "stdout",
     "output_type": "stream",
     "text": [
      "MoviePy - Done.\n",
      "Moviepy - Writing video F:/DLProj/Charades_v5/resized_train/door\\SY1JE.mp4\n",
      "\n"
     ]
    },
    {
     "name": "stderr",
     "output_type": "stream",
     "text": [
      "                                                               \r"
     ]
    },
    {
     "name": "stdout",
     "output_type": "stream",
     "text": [
      "Moviepy - Done !\n",
      "Moviepy - video ready F:/DLProj/Charades_v5/resized_train/door\\SY1JE.mp4\n",
      "Moviepy - Building video F:/DLProj/Charades_v5/resized_train/door\\TBU3U.mp4.\n",
      "MoviePy - Writing audio in TBU3UTEMP_MPY_wvf_snd.mp3\n"
     ]
    },
    {
     "name": "stderr",
     "output_type": "stream",
     "text": [
      "                                                                 \r"
     ]
    },
    {
     "name": "stdout",
     "output_type": "stream",
     "text": [
      "MoviePy - Done.\n",
      "Moviepy - Writing video F:/DLProj/Charades_v5/resized_train/door\\TBU3U.mp4\n",
      "\n"
     ]
    },
    {
     "name": "stderr",
     "output_type": "stream",
     "text": [
      "                                                              \r"
     ]
    },
    {
     "name": "stdout",
     "output_type": "stream",
     "text": [
      "Moviepy - Done !\n",
      "Moviepy - video ready F:/DLProj/Charades_v5/resized_train/door\\TBU3U.mp4\n",
      "Moviepy - Building video F:/DLProj/Charades_v5/resized_train/door\\TCN06.mp4.\n",
      "MoviePy - Writing audio in TCN06TEMP_MPY_wvf_snd.mp3\n"
     ]
    },
    {
     "name": "stderr",
     "output_type": "stream",
     "text": [
      "                                                                  \r"
     ]
    },
    {
     "name": "stdout",
     "output_type": "stream",
     "text": [
      "MoviePy - Done.\n",
      "Moviepy - Writing video F:/DLProj/Charades_v5/resized_train/door\\TCN06.mp4\n",
      "\n"
     ]
    },
    {
     "name": "stderr",
     "output_type": "stream",
     "text": [
      "                                                              \r"
     ]
    },
    {
     "name": "stdout",
     "output_type": "stream",
     "text": [
      "Moviepy - Done !\n",
      "Moviepy - video ready F:/DLProj/Charades_v5/resized_train/door\\TCN06.mp4\n",
      "Moviepy - Building video F:/DLProj/Charades_v5/resized_train/door\\TGKHG.mp4.\n",
      "MoviePy - Writing audio in TGKHGTEMP_MPY_wvf_snd.mp3\n"
     ]
    },
    {
     "name": "stderr",
     "output_type": "stream",
     "text": [
      "                                                                  \r"
     ]
    },
    {
     "name": "stdout",
     "output_type": "stream",
     "text": [
      "MoviePy - Done.\n",
      "Moviepy - Writing video F:/DLProj/Charades_v5/resized_train/door\\TGKHG.mp4\n",
      "\n"
     ]
    },
    {
     "name": "stderr",
     "output_type": "stream",
     "text": [
      "                                                               \r"
     ]
    },
    {
     "name": "stdout",
     "output_type": "stream",
     "text": [
      "Moviepy - Done !\n",
      "Moviepy - video ready F:/DLProj/Charades_v5/resized_train/door\\TGKHG.mp4\n",
      "Moviepy - Building video F:/DLProj/Charades_v5/resized_train/door\\TS880.mp4.\n",
      "MoviePy - Writing audio in TS880TEMP_MPY_wvf_snd.mp3\n"
     ]
    },
    {
     "name": "stderr",
     "output_type": "stream",
     "text": [
      "                                                                  \r"
     ]
    },
    {
     "name": "stdout",
     "output_type": "stream",
     "text": [
      "MoviePy - Done.\n",
      "Moviepy - Writing video F:/DLProj/Charades_v5/resized_train/door\\TS880.mp4\n",
      "\n"
     ]
    },
    {
     "name": "stderr",
     "output_type": "stream",
     "text": [
      "                                                              \r"
     ]
    },
    {
     "name": "stdout",
     "output_type": "stream",
     "text": [
      "Moviepy - Done !\n",
      "Moviepy - video ready F:/DLProj/Charades_v5/resized_train/door\\TS880.mp4\n",
      "Moviepy - Building video F:/DLProj/Charades_v5/resized_train/door\\TVBN3.mp4.\n",
      "MoviePy - Writing audio in TVBN3TEMP_MPY_wvf_snd.mp3\n"
     ]
    },
    {
     "name": "stderr",
     "output_type": "stream",
     "text": [
      "                                                                  \r"
     ]
    },
    {
     "name": "stdout",
     "output_type": "stream",
     "text": [
      "MoviePy - Done.\n",
      "Moviepy - Writing video F:/DLProj/Charades_v5/resized_train/door\\TVBN3.mp4\n",
      "\n"
     ]
    },
    {
     "name": "stderr",
     "output_type": "stream",
     "text": [
      "                                                              \r"
     ]
    },
    {
     "name": "stdout",
     "output_type": "stream",
     "text": [
      "Moviepy - Done !\n",
      "Moviepy - video ready F:/DLProj/Charades_v5/resized_train/door\\TVBN3.mp4\n",
      "Moviepy - Building video F:/DLProj/Charades_v5/resized_train/door\\U77L6.mp4.\n",
      "MoviePy - Writing audio in U77L6TEMP_MPY_wvf_snd.mp3\n"
     ]
    },
    {
     "name": "stderr",
     "output_type": "stream",
     "text": [
      "                                                                 \r"
     ]
    },
    {
     "name": "stdout",
     "output_type": "stream",
     "text": [
      "MoviePy - Done.\n",
      "Moviepy - Writing video F:/DLProj/Charades_v5/resized_train/door\\U77L6.mp4\n",
      "\n"
     ]
    },
    {
     "name": "stderr",
     "output_type": "stream",
     "text": [
      "                                                              \r"
     ]
    },
    {
     "name": "stdout",
     "output_type": "stream",
     "text": [
      "Moviepy - Done !\n",
      "Moviepy - video ready F:/DLProj/Charades_v5/resized_train/door\\U77L6.mp4\n",
      "Moviepy - Building video F:/DLProj/Charades_v5/resized_train/door\\V4HY4.mp4.\n",
      "MoviePy - Writing audio in V4HY4TEMP_MPY_wvf_snd.mp3\n"
     ]
    },
    {
     "name": "stderr",
     "output_type": "stream",
     "text": [
      "                                                                  \r"
     ]
    },
    {
     "name": "stdout",
     "output_type": "stream",
     "text": [
      "MoviePy - Done.\n",
      "Moviepy - Writing video F:/DLProj/Charades_v5/resized_train/door\\V4HY4.mp4\n",
      "\n"
     ]
    },
    {
     "name": "stderr",
     "output_type": "stream",
     "text": [
      "                                                              \r"
     ]
    },
    {
     "name": "stdout",
     "output_type": "stream",
     "text": [
      "Moviepy - Done !\n",
      "Moviepy - video ready F:/DLProj/Charades_v5/resized_train/door\\V4HY4.mp4\n",
      "Moviepy - Building video F:/DLProj/Charades_v5/resized_train/door\\V8JOH.mp4.\n",
      "MoviePy - Writing audio in V8JOHTEMP_MPY_wvf_snd.mp3\n"
     ]
    },
    {
     "name": "stderr",
     "output_type": "stream",
     "text": [
      "                                                                  \r"
     ]
    },
    {
     "name": "stdout",
     "output_type": "stream",
     "text": [
      "MoviePy - Done.\n",
      "Moviepy - Writing video F:/DLProj/Charades_v5/resized_train/door\\V8JOH.mp4\n",
      "\n"
     ]
    },
    {
     "name": "stderr",
     "output_type": "stream",
     "text": [
      "                                                              \r"
     ]
    },
    {
     "name": "stdout",
     "output_type": "stream",
     "text": [
      "Moviepy - Done !\n",
      "Moviepy - video ready F:/DLProj/Charades_v5/resized_train/door\\V8JOH.mp4\n",
      "Moviepy - Building video F:/DLProj/Charades_v5/resized_train/door\\W1VO2.mp4.\n",
      "MoviePy - Writing audio in W1VO2TEMP_MPY_wvf_snd.mp3\n"
     ]
    },
    {
     "name": "stderr",
     "output_type": "stream",
     "text": [
      "                                                                  \r"
     ]
    },
    {
     "name": "stdout",
     "output_type": "stream",
     "text": [
      "MoviePy - Done.\n",
      "Moviepy - Writing video F:/DLProj/Charades_v5/resized_train/door\\W1VO2.mp4\n",
      "\n"
     ]
    },
    {
     "name": "stderr",
     "output_type": "stream",
     "text": [
      "                                                              \r"
     ]
    },
    {
     "name": "stdout",
     "output_type": "stream",
     "text": [
      "Moviepy - Done !\n",
      "Moviepy - video ready F:/DLProj/Charades_v5/resized_train/door\\W1VO2.mp4\n",
      "Moviepy - Building video F:/DLProj/Charades_v5/resized_train/door\\X1R6D.mp4.\n",
      "MoviePy - Writing audio in X1R6DTEMP_MPY_wvf_snd.mp3\n"
     ]
    },
    {
     "name": "stderr",
     "output_type": "stream",
     "text": [
      "                                                                  \r"
     ]
    },
    {
     "name": "stdout",
     "output_type": "stream",
     "text": [
      "MoviePy - Done.\n",
      "Moviepy - Writing video F:/DLProj/Charades_v5/resized_train/door\\X1R6D.mp4\n",
      "\n"
     ]
    },
    {
     "name": "stderr",
     "output_type": "stream",
     "text": [
      "                                                              \r"
     ]
    },
    {
     "name": "stdout",
     "output_type": "stream",
     "text": [
      "Moviepy - Done !\n",
      "Moviepy - video ready F:/DLProj/Charades_v5/resized_train/door\\X1R6D.mp4\n",
      "Moviepy - Building video F:/DLProj/Charades_v5/resized_train/door\\XJU8U.mp4.\n",
      "MoviePy - Writing audio in XJU8UTEMP_MPY_wvf_snd.mp3\n"
     ]
    },
    {
     "name": "stderr",
     "output_type": "stream",
     "text": [
      "                                                                 \r"
     ]
    },
    {
     "name": "stdout",
     "output_type": "stream",
     "text": [
      "MoviePy - Done.\n",
      "Moviepy - Writing video F:/DLProj/Charades_v5/resized_train/door\\XJU8U.mp4\n",
      "\n"
     ]
    },
    {
     "name": "stderr",
     "output_type": "stream",
     "text": [
      "                                                              \r"
     ]
    },
    {
     "name": "stdout",
     "output_type": "stream",
     "text": [
      "Moviepy - Done !\n",
      "Moviepy - video ready F:/DLProj/Charades_v5/resized_train/door\\XJU8U.mp4\n",
      "Moviepy - Building video F:/DLProj/Charades_v5/resized_train/door\\YQ6Z6.mp4.\n",
      "MoviePy - Writing audio in YQ6Z6TEMP_MPY_wvf_snd.mp3\n"
     ]
    },
    {
     "name": "stderr",
     "output_type": "stream",
     "text": [
      "                                                                 \r"
     ]
    },
    {
     "name": "stdout",
     "output_type": "stream",
     "text": [
      "MoviePy - Done.\n",
      "Moviepy - Writing video F:/DLProj/Charades_v5/resized_train/door\\YQ6Z6.mp4\n",
      "\n"
     ]
    },
    {
     "name": "stderr",
     "output_type": "stream",
     "text": [
      "                                                              \r"
     ]
    },
    {
     "name": "stdout",
     "output_type": "stream",
     "text": [
      "Moviepy - Done !\n",
      "Moviepy - video ready F:/DLProj/Charades_v5/resized_train/door\\YQ6Z6.mp4\n",
      "Moviepy - Building video F:/DLProj/Charades_v5/resized_train/door\\YXSI7.mp4.\n",
      "MoviePy - Writing audio in YXSI7TEMP_MPY_wvf_snd.mp3\n"
     ]
    },
    {
     "name": "stderr",
     "output_type": "stream",
     "text": [
      "                                                                  \r"
     ]
    },
    {
     "name": "stdout",
     "output_type": "stream",
     "text": [
      "MoviePy - Done.\n",
      "Moviepy - Writing video F:/DLProj/Charades_v5/resized_train/door\\YXSI7.mp4\n",
      "\n"
     ]
    },
    {
     "name": "stderr",
     "output_type": "stream",
     "text": [
      "                                                              \r"
     ]
    },
    {
     "name": "stdout",
     "output_type": "stream",
     "text": [
      "Moviepy - Done !\n",
      "Moviepy - video ready F:/DLProj/Charades_v5/resized_train/door\\YXSI7.mp4\n",
      "Moviepy - Building video F:/DLProj/Charades_v5/resized_train/door\\Z9XLJ.mp4.\n",
      "MoviePy - Writing audio in Z9XLJTEMP_MPY_wvf_snd.mp3\n"
     ]
    },
    {
     "name": "stderr",
     "output_type": "stream",
     "text": [
      "                                                                \r"
     ]
    },
    {
     "name": "stdout",
     "output_type": "stream",
     "text": [
      "MoviePy - Done.\n",
      "Moviepy - Writing video F:/DLProj/Charades_v5/resized_train/door\\Z9XLJ.mp4\n",
      "\n"
     ]
    },
    {
     "name": "stderr",
     "output_type": "stream",
     "text": [
      "                                                              \r"
     ]
    },
    {
     "name": "stdout",
     "output_type": "stream",
     "text": [
      "Moviepy - Done !\n",
      "Moviepy - video ready F:/DLProj/Charades_v5/resized_train/door\\Z9XLJ.mp4\n",
      "Moviepy - Building video F:/DLProj/Charades_v5/resized_train/door\\ZPNW7.mp4.\n",
      "MoviePy - Writing audio in ZPNW7TEMP_MPY_wvf_snd.mp3\n"
     ]
    },
    {
     "name": "stderr",
     "output_type": "stream",
     "text": [
      "                                                                 \r"
     ]
    },
    {
     "name": "stdout",
     "output_type": "stream",
     "text": [
      "MoviePy - Done.\n",
      "Moviepy - Writing video F:/DLProj/Charades_v5/resized_train/door\\ZPNW7.mp4\n",
      "\n"
     ]
    },
    {
     "name": "stderr",
     "output_type": "stream",
     "text": [
      "                                                              \r"
     ]
    },
    {
     "name": "stdout",
     "output_type": "stream",
     "text": [
      "Moviepy - Done !\n",
      "Moviepy - video ready F:/DLProj/Charades_v5/resized_train/door\\ZPNW7.mp4\n",
      "Moviepy - Building video F:/DLProj/Charades_v5/resized_train/door\\ZWPS3.mp4.\n",
      "MoviePy - Writing audio in ZWPS3TEMP_MPY_wvf_snd.mp3\n"
     ]
    },
    {
     "name": "stderr",
     "output_type": "stream",
     "text": [
      "                                                                  \r"
     ]
    },
    {
     "name": "stdout",
     "output_type": "stream",
     "text": [
      "MoviePy - Done.\n",
      "Moviepy - Writing video F:/DLProj/Charades_v5/resized_train/door\\ZWPS3.mp4\n",
      "\n"
     ]
    },
    {
     "name": "stderr",
     "output_type": "stream",
     "text": [
      "                                                              \r"
     ]
    },
    {
     "name": "stdout",
     "output_type": "stream",
     "text": [
      "Moviepy - Done !\n",
      "Moviepy - video ready F:/DLProj/Charades_v5/resized_train/door\\ZWPS3.mp4\n"
     ]
    }
   ],
   "source": [
    "for vid in listing:\n",
    "    vid_1 = os.path.join(train_door_dir,vid)\n",
    "    vid_2 = os.path.join(train_door_target,vid)\n",
    "    clip = mp.VideoFileClip(vid_1)\n",
    "    clip_resized = clip.resize((img_height , img_width)) # make the height & width 300px ( According to moviePy documenation The width is then computed so that the width/height ratio is conserved.)\n",
    "    clip_resized.write_videofile(vid_2)"
   ]
  },
  {
   "cell_type": "markdown",
   "metadata": {},
   "source": [
    "# Resizing Non-Door Training Videos"
   ]
  },
  {
   "cell_type": "code",
   "execution_count": 15,
   "metadata": {},
   "outputs": [],
   "source": [
    "train_dir = 'F:/DLProj/Charades_v5/train/not_door/Non-FPV'\n",
    "train_target = 'F:/DLProj/Charades_v5/resized_train/not_door'"
   ]
  },
  {
   "cell_type": "code",
   "execution_count": 16,
   "metadata": {},
   "outputs": [],
   "source": [
    "not_door_listing = os.listdir(train_dir)\n",
    "listing = list(filter(lambda x: len(x)==9, not_door_listing)) #Making sure we only have the list of video files. "
   ]
  },
  {
   "cell_type": "code",
   "execution_count": 17,
   "metadata": {},
   "outputs": [],
   "source": [
    "img_height, img_width = 300, 300"
   ]
  },
  {
   "cell_type": "code",
   "execution_count": 18,
   "metadata": {
    "collapsed": true,
    "jupyter": {
     "outputs_hidden": true
    }
   },
   "outputs": [
    {
     "name": "stdout",
     "output_type": "stream",
     "text": [
      "Moviepy - Building video F:/DLProj/Charades_v5/resized_train/not_door\\01KM1.mp4.\n",
      "MoviePy - Writing audio in 01KM1TEMP_MPY_wvf_snd.mp3\n"
     ]
    },
    {
     "name": "stderr",
     "output_type": "stream",
     "text": [
      "                                                                   \r"
     ]
    },
    {
     "name": "stdout",
     "output_type": "stream",
     "text": [
      "MoviePy - Done.\n",
      "Moviepy - Writing video F:/DLProj/Charades_v5/resized_train/not_door\\01KM1.mp4\n",
      "\n"
     ]
    },
    {
     "name": "stderr",
     "output_type": "stream",
     "text": [
      "                                                               \r"
     ]
    },
    {
     "name": "stdout",
     "output_type": "stream",
     "text": [
      "Moviepy - Done !\n",
      "Moviepy - video ready F:/DLProj/Charades_v5/resized_train/not_door\\01KM1.mp4\n",
      "Moviepy - Building video F:/DLProj/Charades_v5/resized_train/not_door\\04LAX.mp4.\n",
      "MoviePy - Writing audio in 04LAXTEMP_MPY_wvf_snd.mp3\n"
     ]
    },
    {
     "name": "stderr",
     "output_type": "stream",
     "text": [
      "                                                                 \r"
     ]
    },
    {
     "name": "stdout",
     "output_type": "stream",
     "text": [
      "MoviePy - Done.\n",
      "Moviepy - Writing video F:/DLProj/Charades_v5/resized_train/not_door\\04LAX.mp4\n",
      "\n"
     ]
    },
    {
     "name": "stderr",
     "output_type": "stream",
     "text": [
      "                                                              \r"
     ]
    },
    {
     "name": "stdout",
     "output_type": "stream",
     "text": [
      "Moviepy - Done !\n",
      "Moviepy - video ready F:/DLProj/Charades_v5/resized_train/not_door\\04LAX.mp4\n",
      "Moviepy - Building video F:/DLProj/Charades_v5/resized_train/not_door\\0CFQV.mp4.\n",
      "MoviePy - Writing audio in 0CFQVTEMP_MPY_wvf_snd.mp3\n"
     ]
    },
    {
     "name": "stderr",
     "output_type": "stream",
     "text": [
      "                                                                 \r"
     ]
    },
    {
     "name": "stdout",
     "output_type": "stream",
     "text": [
      "MoviePy - Done.\n",
      "Moviepy - Writing video F:/DLProj/Charades_v5/resized_train/not_door\\0CFQV.mp4\n",
      "\n"
     ]
    },
    {
     "name": "stderr",
     "output_type": "stream",
     "text": [
      "                                                              \r"
     ]
    },
    {
     "name": "stdout",
     "output_type": "stream",
     "text": [
      "Moviepy - Done !\n",
      "Moviepy - video ready F:/DLProj/Charades_v5/resized_train/not_door\\0CFQV.mp4\n",
      "Moviepy - Building video F:/DLProj/Charades_v5/resized_train/not_door\\0DDYA.mp4.\n",
      "MoviePy - Writing audio in 0DDYATEMP_MPY_wvf_snd.mp3\n"
     ]
    },
    {
     "name": "stderr",
     "output_type": "stream",
     "text": [
      "                                                                  \r"
     ]
    },
    {
     "name": "stdout",
     "output_type": "stream",
     "text": [
      "MoviePy - Done.\n",
      "Moviepy - Writing video F:/DLProj/Charades_v5/resized_train/not_door\\0DDYA.mp4\n",
      "\n"
     ]
    },
    {
     "name": "stderr",
     "output_type": "stream",
     "text": [
      "                                                              \r"
     ]
    },
    {
     "name": "stdout",
     "output_type": "stream",
     "text": [
      "Moviepy - Done !\n",
      "Moviepy - video ready F:/DLProj/Charades_v5/resized_train/not_door\\0DDYA.mp4\n",
      "Moviepy - Building video F:/DLProj/Charades_v5/resized_train/not_door\\0J5T4.mp4.\n",
      "MoviePy - Writing audio in 0J5T4TEMP_MPY_wvf_snd.mp3\n"
     ]
    },
    {
     "name": "stderr",
     "output_type": "stream",
     "text": [
      "                                                                   \r"
     ]
    },
    {
     "name": "stdout",
     "output_type": "stream",
     "text": [
      "MoviePy - Done.\n",
      "Moviepy - Writing video F:/DLProj/Charades_v5/resized_train/not_door\\0J5T4.mp4\n",
      "\n"
     ]
    },
    {
     "name": "stderr",
     "output_type": "stream",
     "text": [
      "                                                              \r"
     ]
    },
    {
     "name": "stdout",
     "output_type": "stream",
     "text": [
      "Moviepy - Done !\n",
      "Moviepy - video ready F:/DLProj/Charades_v5/resized_train/not_door\\0J5T4.mp4\n",
      "Moviepy - Building video F:/DLProj/Charades_v5/resized_train/not_door\\0NN7I.mp4.\n",
      "MoviePy - Writing audio in 0NN7ITEMP_MPY_wvf_snd.mp3\n"
     ]
    },
    {
     "name": "stderr",
     "output_type": "stream",
     "text": [
      "                                                                \r"
     ]
    },
    {
     "name": "stdout",
     "output_type": "stream",
     "text": [
      "MoviePy - Done.\n",
      "Moviepy - Writing video F:/DLProj/Charades_v5/resized_train/not_door\\0NN7I.mp4\n",
      "\n"
     ]
    },
    {
     "name": "stderr",
     "output_type": "stream",
     "text": [
      "                                                            \r"
     ]
    },
    {
     "name": "stdout",
     "output_type": "stream",
     "text": [
      "Moviepy - Done !\n",
      "Moviepy - video ready F:/DLProj/Charades_v5/resized_train/not_door\\0NN7I.mp4\n",
      "Moviepy - Building video F:/DLProj/Charades_v5/resized_train/not_door\\0R0DJ.mp4.\n",
      "MoviePy - Writing audio in 0R0DJTEMP_MPY_wvf_snd.mp3\n"
     ]
    },
    {
     "name": "stderr",
     "output_type": "stream",
     "text": [
      "                                                                  \r"
     ]
    },
    {
     "name": "stdout",
     "output_type": "stream",
     "text": [
      "MoviePy - Done.\n",
      "Moviepy - Writing video F:/DLProj/Charades_v5/resized_train/not_door\\0R0DJ.mp4\n",
      "\n"
     ]
    },
    {
     "name": "stderr",
     "output_type": "stream",
     "text": [
      "                                                              \r"
     ]
    },
    {
     "name": "stdout",
     "output_type": "stream",
     "text": [
      "Moviepy - Done !\n",
      "Moviepy - video ready F:/DLProj/Charades_v5/resized_train/not_door\\0R0DJ.mp4\n",
      "Moviepy - Building video F:/DLProj/Charades_v5/resized_train/not_door\\0WV3L.mp4.\n",
      "MoviePy - Writing audio in 0WV3LTEMP_MPY_wvf_snd.mp3\n"
     ]
    },
    {
     "name": "stderr",
     "output_type": "stream",
     "text": [
      "                                                                  \r"
     ]
    },
    {
     "name": "stdout",
     "output_type": "stream",
     "text": [
      "MoviePy - Done.\n",
      "Moviepy - Writing video F:/DLProj/Charades_v5/resized_train/not_door\\0WV3L.mp4\n",
      "\n"
     ]
    },
    {
     "name": "stderr",
     "output_type": "stream",
     "text": [
      "                                                              \r"
     ]
    },
    {
     "name": "stdout",
     "output_type": "stream",
     "text": [
      "Moviepy - Done !\n",
      "Moviepy - video ready F:/DLProj/Charades_v5/resized_train/not_door\\0WV3L.mp4\n",
      "Moviepy - Building video F:/DLProj/Charades_v5/resized_train/not_door\\0XV4T.mp4.\n",
      "MoviePy - Writing audio in 0XV4TTEMP_MPY_wvf_snd.mp3\n"
     ]
    },
    {
     "name": "stderr",
     "output_type": "stream",
     "text": [
      "                                                                  \r"
     ]
    },
    {
     "name": "stdout",
     "output_type": "stream",
     "text": [
      "MoviePy - Done.\n",
      "Moviepy - Writing video F:/DLProj/Charades_v5/resized_train/not_door\\0XV4T.mp4\n",
      "\n"
     ]
    },
    {
     "name": "stderr",
     "output_type": "stream",
     "text": [
      "                                                              \r"
     ]
    },
    {
     "name": "stdout",
     "output_type": "stream",
     "text": [
      "Moviepy - Done !\n",
      "Moviepy - video ready F:/DLProj/Charades_v5/resized_train/not_door\\0XV4T.mp4\n",
      "Moviepy - Building video F:/DLProj/Charades_v5/resized_train/not_door\\10AEA.mp4.\n",
      "MoviePy - Writing audio in 10AEATEMP_MPY_wvf_snd.mp3\n"
     ]
    },
    {
     "name": "stderr",
     "output_type": "stream",
     "text": [
      "                                                                  \r"
     ]
    },
    {
     "name": "stdout",
     "output_type": "stream",
     "text": [
      "MoviePy - Done.\n",
      "Moviepy - Writing video F:/DLProj/Charades_v5/resized_train/not_door\\10AEA.mp4\n",
      "\n"
     ]
    },
    {
     "name": "stderr",
     "output_type": "stream",
     "text": [
      "                                                              \r"
     ]
    },
    {
     "name": "stdout",
     "output_type": "stream",
     "text": [
      "Moviepy - Done !\n",
      "Moviepy - video ready F:/DLProj/Charades_v5/resized_train/not_door\\10AEA.mp4\n",
      "Moviepy - Building video F:/DLProj/Charades_v5/resized_train/not_door\\13IOT.mp4.\n",
      "MoviePy - Writing audio in 13IOTTEMP_MPY_wvf_snd.mp3\n"
     ]
    },
    {
     "name": "stderr",
     "output_type": "stream",
     "text": [
      "                                                                  \r"
     ]
    },
    {
     "name": "stdout",
     "output_type": "stream",
     "text": [
      "MoviePy - Done.\n",
      "Moviepy - Writing video F:/DLProj/Charades_v5/resized_train/not_door\\13IOT.mp4\n",
      "\n"
     ]
    },
    {
     "name": "stderr",
     "output_type": "stream",
     "text": [
      "                                                              \r"
     ]
    },
    {
     "name": "stdout",
     "output_type": "stream",
     "text": [
      "Moviepy - Done !\n",
      "Moviepy - video ready F:/DLProj/Charades_v5/resized_train/not_door\\13IOT.mp4\n",
      "Moviepy - Building video F:/DLProj/Charades_v5/resized_train/not_door\\1AA6Z.mp4.\n",
      "MoviePy - Writing audio in 1AA6ZTEMP_MPY_wvf_snd.mp3\n"
     ]
    },
    {
     "name": "stderr",
     "output_type": "stream",
     "text": [
      "                                                                  \r"
     ]
    },
    {
     "name": "stdout",
     "output_type": "stream",
     "text": [
      "MoviePy - Done.\n",
      "Moviepy - Writing video F:/DLProj/Charades_v5/resized_train/not_door\\1AA6Z.mp4\n",
      "\n"
     ]
    },
    {
     "name": "stderr",
     "output_type": "stream",
     "text": [
      "                                                              \r"
     ]
    },
    {
     "name": "stdout",
     "output_type": "stream",
     "text": [
      "Moviepy - Done !\n",
      "Moviepy - video ready F:/DLProj/Charades_v5/resized_train/not_door\\1AA6Z.mp4\n",
      "Moviepy - Building video F:/DLProj/Charades_v5/resized_train/not_door\\1D2OX.mp4.\n",
      "MoviePy - Writing audio in 1D2OXTEMP_MPY_wvf_snd.mp3\n"
     ]
    },
    {
     "name": "stderr",
     "output_type": "stream",
     "text": [
      "                                                                  \r"
     ]
    },
    {
     "name": "stdout",
     "output_type": "stream",
     "text": [
      "MoviePy - Done.\n",
      "Moviepy - Writing video F:/DLProj/Charades_v5/resized_train/not_door\\1D2OX.mp4\n",
      "\n"
     ]
    },
    {
     "name": "stderr",
     "output_type": "stream",
     "text": [
      "                                                              \r"
     ]
    },
    {
     "name": "stdout",
     "output_type": "stream",
     "text": [
      "Moviepy - Done !\n",
      "Moviepy - video ready F:/DLProj/Charades_v5/resized_train/not_door\\1D2OX.mp4\n",
      "Moviepy - Building video F:/DLProj/Charades_v5/resized_train/not_door\\1E1VE.mp4.\n",
      "MoviePy - Writing audio in 1E1VETEMP_MPY_wvf_snd.mp3\n"
     ]
    },
    {
     "name": "stderr",
     "output_type": "stream",
     "text": [
      "                                                                  \r"
     ]
    },
    {
     "name": "stdout",
     "output_type": "stream",
     "text": [
      "MoviePy - Done.\n",
      "Moviepy - Writing video F:/DLProj/Charades_v5/resized_train/not_door\\1E1VE.mp4\n",
      "\n"
     ]
    },
    {
     "name": "stderr",
     "output_type": "stream",
     "text": [
      "                                                              \r"
     ]
    },
    {
     "name": "stdout",
     "output_type": "stream",
     "text": [
      "Moviepy - Done !\n",
      "Moviepy - video ready F:/DLProj/Charades_v5/resized_train/not_door\\1E1VE.mp4\n",
      "Moviepy - Building video F:/DLProj/Charades_v5/resized_train/not_door\\1EJKT.mp4.\n",
      "MoviePy - Writing audio in 1EJKTTEMP_MPY_wvf_snd.mp3\n"
     ]
    },
    {
     "name": "stderr",
     "output_type": "stream",
     "text": [
      "                                                                 \r"
     ]
    },
    {
     "name": "stdout",
     "output_type": "stream",
     "text": [
      "MoviePy - Done.\n",
      "Moviepy - Writing video F:/DLProj/Charades_v5/resized_train/not_door\\1EJKT.mp4\n",
      "\n"
     ]
    },
    {
     "name": "stderr",
     "output_type": "stream",
     "text": [
      "                                                              \r"
     ]
    },
    {
     "name": "stdout",
     "output_type": "stream",
     "text": [
      "Moviepy - Done !\n",
      "Moviepy - video ready F:/DLProj/Charades_v5/resized_train/not_door\\1EJKT.mp4\n",
      "Moviepy - Building video F:/DLProj/Charades_v5/resized_train/not_door\\1FPW9.mp4.\n",
      "MoviePy - Writing audio in 1FPW9TEMP_MPY_wvf_snd.mp3\n"
     ]
    },
    {
     "name": "stderr",
     "output_type": "stream",
     "text": [
      "                                                                  \r"
     ]
    },
    {
     "name": "stdout",
     "output_type": "stream",
     "text": [
      "MoviePy - Done.\n",
      "Moviepy - Writing video F:/DLProj/Charades_v5/resized_train/not_door\\1FPW9.mp4\n",
      "\n"
     ]
    },
    {
     "name": "stderr",
     "output_type": "stream",
     "text": [
      "                                                              \r"
     ]
    },
    {
     "name": "stdout",
     "output_type": "stream",
     "text": [
      "Moviepy - Done !\n",
      "Moviepy - video ready F:/DLProj/Charades_v5/resized_train/not_door\\1FPW9.mp4\n",
      "Moviepy - Building video F:/DLProj/Charades_v5/resized_train/not_door\\1HAYV.mp4.\n",
      "MoviePy - Writing audio in 1HAYVTEMP_MPY_wvf_snd.mp3\n"
     ]
    },
    {
     "name": "stderr",
     "output_type": "stream",
     "text": [
      "                                                                  \r"
     ]
    },
    {
     "name": "stdout",
     "output_type": "stream",
     "text": [
      "MoviePy - Done.\n",
      "Moviepy - Writing video F:/DLProj/Charades_v5/resized_train/not_door\\1HAYV.mp4\n",
      "\n"
     ]
    },
    {
     "name": "stderr",
     "output_type": "stream",
     "text": [
      "                                                              \r"
     ]
    },
    {
     "name": "stdout",
     "output_type": "stream",
     "text": [
      "Moviepy - Done !\n",
      "Moviepy - video ready F:/DLProj/Charades_v5/resized_train/not_door\\1HAYV.mp4\n",
      "Moviepy - Building video F:/DLProj/Charades_v5/resized_train/not_door\\1J3I0.mp4.\n",
      "MoviePy - Writing audio in 1J3I0TEMP_MPY_wvf_snd.mp3\n"
     ]
    },
    {
     "name": "stderr",
     "output_type": "stream",
     "text": [
      "                                                                  \r"
     ]
    },
    {
     "name": "stdout",
     "output_type": "stream",
     "text": [
      "MoviePy - Done.\n",
      "Moviepy - Writing video F:/DLProj/Charades_v5/resized_train/not_door\\1J3I0.mp4\n",
      "\n"
     ]
    },
    {
     "name": "stderr",
     "output_type": "stream",
     "text": [
      "                                                              \r"
     ]
    },
    {
     "name": "stdout",
     "output_type": "stream",
     "text": [
      "Moviepy - Done !\n",
      "Moviepy - video ready F:/DLProj/Charades_v5/resized_train/not_door\\1J3I0.mp4\n",
      "Moviepy - Building video F:/DLProj/Charades_v5/resized_train/not_door\\1L7XE.mp4.\n",
      "MoviePy - Writing audio in 1L7XETEMP_MPY_wvf_snd.mp3\n"
     ]
    },
    {
     "name": "stderr",
     "output_type": "stream",
     "text": [
      "                                                                  \r"
     ]
    },
    {
     "name": "stdout",
     "output_type": "stream",
     "text": [
      "MoviePy - Done.\n",
      "Moviepy - Writing video F:/DLProj/Charades_v5/resized_train/not_door\\1L7XE.mp4\n",
      "\n"
     ]
    },
    {
     "name": "stderr",
     "output_type": "stream",
     "text": [
      "                                                              \r"
     ]
    },
    {
     "name": "stdout",
     "output_type": "stream",
     "text": [
      "Moviepy - Done !\n",
      "Moviepy - video ready F:/DLProj/Charades_v5/resized_train/not_door\\1L7XE.mp4\n",
      "Moviepy - Building video F:/DLProj/Charades_v5/resized_train/not_door\\1PB6T.mp4.\n",
      "MoviePy - Writing audio in 1PB6TTEMP_MPY_wvf_snd.mp3\n"
     ]
    },
    {
     "name": "stderr",
     "output_type": "stream",
     "text": [
      "                                                                  \r"
     ]
    },
    {
     "name": "stdout",
     "output_type": "stream",
     "text": [
      "MoviePy - Done.\n",
      "Moviepy - Writing video F:/DLProj/Charades_v5/resized_train/not_door\\1PB6T.mp4\n",
      "\n"
     ]
    },
    {
     "name": "stderr",
     "output_type": "stream",
     "text": [
      "                                                               \r"
     ]
    },
    {
     "name": "stdout",
     "output_type": "stream",
     "text": [
      "Moviepy - Done !\n",
      "Moviepy - video ready F:/DLProj/Charades_v5/resized_train/not_door\\1PB6T.mp4\n",
      "Moviepy - Building video F:/DLProj/Charades_v5/resized_train/not_door\\1TWH6.mp4.\n",
      "MoviePy - Writing audio in 1TWH6TEMP_MPY_wvf_snd.mp3\n"
     ]
    },
    {
     "name": "stderr",
     "output_type": "stream",
     "text": [
      "                                                                   \r"
     ]
    },
    {
     "name": "stdout",
     "output_type": "stream",
     "text": [
      "MoviePy - Done.\n",
      "Moviepy - Writing video F:/DLProj/Charades_v5/resized_train/not_door\\1TWH6.mp4\n",
      "\n"
     ]
    },
    {
     "name": "stderr",
     "output_type": "stream",
     "text": [
      "                                                              \r"
     ]
    },
    {
     "name": "stdout",
     "output_type": "stream",
     "text": [
      "Moviepy - Done !\n",
      "Moviepy - video ready F:/DLProj/Charades_v5/resized_train/not_door\\1TWH6.mp4\n",
      "Moviepy - Building video F:/DLProj/Charades_v5/resized_train/not_door\\1WLKW.mp4.\n",
      "MoviePy - Writing audio in 1WLKWTEMP_MPY_wvf_snd.mp3\n"
     ]
    },
    {
     "name": "stderr",
     "output_type": "stream",
     "text": [
      "                                                                \r"
     ]
    },
    {
     "name": "stdout",
     "output_type": "stream",
     "text": [
      "MoviePy - Done.\n",
      "Moviepy - Writing video F:/DLProj/Charades_v5/resized_train/not_door\\1WLKW.mp4\n",
      "\n"
     ]
    },
    {
     "name": "stderr",
     "output_type": "stream",
     "text": [
      "                                                              \r"
     ]
    },
    {
     "name": "stdout",
     "output_type": "stream",
     "text": [
      "Moviepy - Done !\n",
      "Moviepy - video ready F:/DLProj/Charades_v5/resized_train/not_door\\1WLKW.mp4\n",
      "Moviepy - Building video F:/DLProj/Charades_v5/resized_train/not_door\\201W8.mp4.\n",
      "MoviePy - Writing audio in 201W8TEMP_MPY_wvf_snd.mp3\n"
     ]
    },
    {
     "name": "stderr",
     "output_type": "stream",
     "text": [
      "                                                                  \r"
     ]
    },
    {
     "name": "stdout",
     "output_type": "stream",
     "text": [
      "MoviePy - Done.\n",
      "Moviepy - Writing video F:/DLProj/Charades_v5/resized_train/not_door\\201W8.mp4\n",
      "\n"
     ]
    },
    {
     "name": "stderr",
     "output_type": "stream",
     "text": [
      "                                                              \r"
     ]
    },
    {
     "name": "stdout",
     "output_type": "stream",
     "text": [
      "Moviepy - Done !\n",
      "Moviepy - video ready F:/DLProj/Charades_v5/resized_train/not_door\\201W8.mp4\n",
      "Moviepy - Building video F:/DLProj/Charades_v5/resized_train/not_door\\23QFL.mp4.\n",
      "MoviePy - Writing audio in 23QFLTEMP_MPY_wvf_snd.mp3\n"
     ]
    },
    {
     "name": "stderr",
     "output_type": "stream",
     "text": [
      "                                                                   \r"
     ]
    },
    {
     "name": "stdout",
     "output_type": "stream",
     "text": [
      "MoviePy - Done.\n",
      "Moviepy - Writing video F:/DLProj/Charades_v5/resized_train/not_door\\23QFL.mp4\n",
      "\n"
     ]
    },
    {
     "name": "stderr",
     "output_type": "stream",
     "text": [
      "                                                              \r"
     ]
    },
    {
     "name": "stdout",
     "output_type": "stream",
     "text": [
      "Moviepy - Done !\n",
      "Moviepy - video ready F:/DLProj/Charades_v5/resized_train/not_door\\23QFL.mp4\n",
      "Moviepy - Building video F:/DLProj/Charades_v5/resized_train/not_door\\2FECZ.mp4.\n",
      "MoviePy - Writing audio in 2FECZTEMP_MPY_wvf_snd.mp3\n"
     ]
    },
    {
     "name": "stderr",
     "output_type": "stream",
     "text": [
      "                                                                  \r"
     ]
    },
    {
     "name": "stdout",
     "output_type": "stream",
     "text": [
      "MoviePy - Done.\n",
      "Moviepy - Writing video F:/DLProj/Charades_v5/resized_train/not_door\\2FECZ.mp4\n",
      "\n"
     ]
    },
    {
     "name": "stderr",
     "output_type": "stream",
     "text": [
      "                                                              \r"
     ]
    },
    {
     "name": "stdout",
     "output_type": "stream",
     "text": [
      "Moviepy - Done !\n",
      "Moviepy - video ready F:/DLProj/Charades_v5/resized_train/not_door\\2FECZ.mp4\n",
      "Moviepy - Building video F:/DLProj/Charades_v5/resized_train/not_door\\2GF6R.mp4.\n",
      "MoviePy - Writing audio in 2GF6RTEMP_MPY_wvf_snd.mp3\n"
     ]
    },
    {
     "name": "stderr",
     "output_type": "stream",
     "text": [
      "                                                                  \r"
     ]
    },
    {
     "name": "stdout",
     "output_type": "stream",
     "text": [
      "MoviePy - Done.\n",
      "Moviepy - Writing video F:/DLProj/Charades_v5/resized_train/not_door\\2GF6R.mp4\n",
      "\n"
     ]
    },
    {
     "name": "stderr",
     "output_type": "stream",
     "text": [
      "                                                              \r"
     ]
    },
    {
     "name": "stdout",
     "output_type": "stream",
     "text": [
      "Moviepy - Done !\n",
      "Moviepy - video ready F:/DLProj/Charades_v5/resized_train/not_door\\2GF6R.mp4\n",
      "Moviepy - Building video F:/DLProj/Charades_v5/resized_train/not_door\\2J4MA.mp4.\n",
      "MoviePy - Writing audio in 2J4MATEMP_MPY_wvf_snd.mp3\n"
     ]
    },
    {
     "name": "stderr",
     "output_type": "stream",
     "text": [
      "                                                                  \r"
     ]
    },
    {
     "name": "stdout",
     "output_type": "stream",
     "text": [
      "MoviePy - Done.\n",
      "Moviepy - Writing video F:/DLProj/Charades_v5/resized_train/not_door\\2J4MA.mp4\n",
      "\n"
     ]
    },
    {
     "name": "stderr",
     "output_type": "stream",
     "text": [
      "                                                            \r"
     ]
    },
    {
     "name": "stdout",
     "output_type": "stream",
     "text": [
      "Moviepy - Done !\n",
      "Moviepy - video ready F:/DLProj/Charades_v5/resized_train/not_door\\2J4MA.mp4\n",
      "Moviepy - Building video F:/DLProj/Charades_v5/resized_train/not_door\\2LMQF.mp4.\n",
      "MoviePy - Writing audio in 2LMQFTEMP_MPY_wvf_snd.mp3\n"
     ]
    },
    {
     "name": "stderr",
     "output_type": "stream",
     "text": [
      "                                                                  \r"
     ]
    },
    {
     "name": "stdout",
     "output_type": "stream",
     "text": [
      "MoviePy - Done.\n",
      "Moviepy - Writing video F:/DLProj/Charades_v5/resized_train/not_door\\2LMQF.mp4\n",
      "\n"
     ]
    },
    {
     "name": "stderr",
     "output_type": "stream",
     "text": [
      "                                                              \r"
     ]
    },
    {
     "name": "stdout",
     "output_type": "stream",
     "text": [
      "Moviepy - Done !\n",
      "Moviepy - video ready F:/DLProj/Charades_v5/resized_train/not_door\\2LMQF.mp4\n",
      "Moviepy - Building video F:/DLProj/Charades_v5/resized_train/not_door\\2M2O6.mp4.\n",
      "MoviePy - Writing audio in 2M2O6TEMP_MPY_wvf_snd.mp3\n"
     ]
    },
    {
     "name": "stderr",
     "output_type": "stream",
     "text": [
      "                                                                  \r"
     ]
    },
    {
     "name": "stdout",
     "output_type": "stream",
     "text": [
      "MoviePy - Done.\n",
      "Moviepy - Writing video F:/DLProj/Charades_v5/resized_train/not_door\\2M2O6.mp4\n",
      "\n"
     ]
    },
    {
     "name": "stderr",
     "output_type": "stream",
     "text": [
      "                                                              \r"
     ]
    },
    {
     "name": "stdout",
     "output_type": "stream",
     "text": [
      "Moviepy - Done !\n",
      "Moviepy - video ready F:/DLProj/Charades_v5/resized_train/not_door\\2M2O6.mp4\n",
      "Moviepy - Building video F:/DLProj/Charades_v5/resized_train/not_door\\2M9YL.mp4.\n",
      "MoviePy - Writing audio in 2M9YLTEMP_MPY_wvf_snd.mp3\n"
     ]
    },
    {
     "name": "stderr",
     "output_type": "stream",
     "text": [
      "                                                                 \r"
     ]
    },
    {
     "name": "stdout",
     "output_type": "stream",
     "text": [
      "MoviePy - Done.\n",
      "Moviepy - Writing video F:/DLProj/Charades_v5/resized_train/not_door\\2M9YL.mp4\n",
      "\n"
     ]
    },
    {
     "name": "stderr",
     "output_type": "stream",
     "text": [
      "                                                              \r"
     ]
    },
    {
     "name": "stdout",
     "output_type": "stream",
     "text": [
      "Moviepy - Done !\n",
      "Moviepy - video ready F:/DLProj/Charades_v5/resized_train/not_door\\2M9YL.mp4\n",
      "Moviepy - Building video F:/DLProj/Charades_v5/resized_train/not_door\\2ODLD.mp4.\n",
      "MoviePy - Writing audio in 2ODLDTEMP_MPY_wvf_snd.mp3\n"
     ]
    },
    {
     "name": "stderr",
     "output_type": "stream",
     "text": [
      "                                                                  \r"
     ]
    },
    {
     "name": "stdout",
     "output_type": "stream",
     "text": [
      "MoviePy - Done.\n",
      "Moviepy - Writing video F:/DLProj/Charades_v5/resized_train/not_door\\2ODLD.mp4\n",
      "\n"
     ]
    },
    {
     "name": "stderr",
     "output_type": "stream",
     "text": [
      "                                                              \r"
     ]
    },
    {
     "name": "stdout",
     "output_type": "stream",
     "text": [
      "Moviepy - Done !\n",
      "Moviepy - video ready F:/DLProj/Charades_v5/resized_train/not_door\\2ODLD.mp4\n",
      "Moviepy - Building video F:/DLProj/Charades_v5/resized_train/not_door\\2SYBS.mp4.\n",
      "MoviePy - Writing audio in 2SYBSTEMP_MPY_wvf_snd.mp3\n"
     ]
    },
    {
     "name": "stderr",
     "output_type": "stream",
     "text": [
      "                                                                \r"
     ]
    },
    {
     "name": "stdout",
     "output_type": "stream",
     "text": [
      "MoviePy - Done.\n",
      "Moviepy - Writing video F:/DLProj/Charades_v5/resized_train/not_door\\2SYBS.mp4\n",
      "\n"
     ]
    },
    {
     "name": "stderr",
     "output_type": "stream",
     "text": [
      "                                                              \r"
     ]
    },
    {
     "name": "stdout",
     "output_type": "stream",
     "text": [
      "Moviepy - Done !\n",
      "Moviepy - video ready F:/DLProj/Charades_v5/resized_train/not_door\\2SYBS.mp4\n",
      "Moviepy - Building video F:/DLProj/Charades_v5/resized_train/not_door\\2TBSE.mp4.\n",
      "MoviePy - Writing audio in 2TBSETEMP_MPY_wvf_snd.mp3\n"
     ]
    },
    {
     "name": "stderr",
     "output_type": "stream",
     "text": [
      "                                                                \r"
     ]
    },
    {
     "name": "stdout",
     "output_type": "stream",
     "text": [
      "MoviePy - Done.\n",
      "Moviepy - Writing video F:/DLProj/Charades_v5/resized_train/not_door\\2TBSE.mp4\n",
      "\n"
     ]
    },
    {
     "name": "stderr",
     "output_type": "stream",
     "text": [
      "                                                              \r"
     ]
    },
    {
     "name": "stdout",
     "output_type": "stream",
     "text": [
      "Moviepy - Done !\n",
      "Moviepy - video ready F:/DLProj/Charades_v5/resized_train/not_door\\2TBSE.mp4\n",
      "Moviepy - Building video F:/DLProj/Charades_v5/resized_train/not_door\\2X2C5.mp4.\n",
      "MoviePy - Writing audio in 2X2C5TEMP_MPY_wvf_snd.mp3\n"
     ]
    },
    {
     "name": "stderr",
     "output_type": "stream",
     "text": [
      "                                                                  \r"
     ]
    },
    {
     "name": "stdout",
     "output_type": "stream",
     "text": [
      "MoviePy - Done.\n",
      "Moviepy - Writing video F:/DLProj/Charades_v5/resized_train/not_door\\2X2C5.mp4\n",
      "\n"
     ]
    },
    {
     "name": "stderr",
     "output_type": "stream",
     "text": [
      "                                                              \r"
     ]
    },
    {
     "name": "stdout",
     "output_type": "stream",
     "text": [
      "Moviepy - Done !\n",
      "Moviepy - video ready F:/DLProj/Charades_v5/resized_train/not_door\\2X2C5.mp4\n",
      "Moviepy - Building video F:/DLProj/Charades_v5/resized_train/not_door\\34OT4.mp4.\n",
      "MoviePy - Writing audio in 34OT4TEMP_MPY_wvf_snd.mp3\n"
     ]
    },
    {
     "name": "stderr",
     "output_type": "stream",
     "text": [
      "                                                                  \r"
     ]
    },
    {
     "name": "stdout",
     "output_type": "stream",
     "text": [
      "MoviePy - Done.\n",
      "Moviepy - Writing video F:/DLProj/Charades_v5/resized_train/not_door\\34OT4.mp4\n",
      "\n"
     ]
    },
    {
     "name": "stderr",
     "output_type": "stream",
     "text": [
      "                                                              \r"
     ]
    },
    {
     "name": "stdout",
     "output_type": "stream",
     "text": [
      "Moviepy - Done !\n",
      "Moviepy - video ready F:/DLProj/Charades_v5/resized_train/not_door\\34OT4.mp4\n",
      "Moviepy - Building video F:/DLProj/Charades_v5/resized_train/not_door\\3CFFJ.mp4.\n",
      "MoviePy - Writing audio in 3CFFJTEMP_MPY_wvf_snd.mp3\n"
     ]
    },
    {
     "name": "stderr",
     "output_type": "stream",
     "text": [
      "                                                                  \r"
     ]
    },
    {
     "name": "stdout",
     "output_type": "stream",
     "text": [
      "MoviePy - Done.\n",
      "Moviepy - Writing video F:/DLProj/Charades_v5/resized_train/not_door\\3CFFJ.mp4\n",
      "\n"
     ]
    },
    {
     "name": "stderr",
     "output_type": "stream",
     "text": [
      "                                                              \r"
     ]
    },
    {
     "name": "stdout",
     "output_type": "stream",
     "text": [
      "Moviepy - Done !\n",
      "Moviepy - video ready F:/DLProj/Charades_v5/resized_train/not_door\\3CFFJ.mp4\n",
      "Moviepy - Building video F:/DLProj/Charades_v5/resized_train/not_door\\3EYLH.mp4.\n",
      "MoviePy - Writing audio in 3EYLHTEMP_MPY_wvf_snd.mp3\n"
     ]
    },
    {
     "name": "stderr",
     "output_type": "stream",
     "text": [
      "                                                                  \r"
     ]
    },
    {
     "name": "stdout",
     "output_type": "stream",
     "text": [
      "MoviePy - Done.\n",
      "Moviepy - Writing video F:/DLProj/Charades_v5/resized_train/not_door\\3EYLH.mp4\n",
      "\n"
     ]
    },
    {
     "name": "stderr",
     "output_type": "stream",
     "text": [
      "                                                             \r"
     ]
    },
    {
     "name": "stdout",
     "output_type": "stream",
     "text": [
      "Moviepy - Done !\n",
      "Moviepy - video ready F:/DLProj/Charades_v5/resized_train/not_door\\3EYLH.mp4\n",
      "Moviepy - Building video F:/DLProj/Charades_v5/resized_train/not_door\\3KZF7.mp4.\n",
      "MoviePy - Writing audio in 3KZF7TEMP_MPY_wvf_snd.mp3\n"
     ]
    },
    {
     "name": "stderr",
     "output_type": "stream",
     "text": [
      "                                                                   \r"
     ]
    },
    {
     "name": "stdout",
     "output_type": "stream",
     "text": [
      "MoviePy - Done.\n",
      "Moviepy - Writing video F:/DLProj/Charades_v5/resized_train/not_door\\3KZF7.mp4\n",
      "\n"
     ]
    },
    {
     "name": "stderr",
     "output_type": "stream",
     "text": [
      "                                                              \r"
     ]
    },
    {
     "name": "stdout",
     "output_type": "stream",
     "text": [
      "Moviepy - Done !\n",
      "Moviepy - video ready F:/DLProj/Charades_v5/resized_train/not_door\\3KZF7.mp4\n",
      "Moviepy - Building video F:/DLProj/Charades_v5/resized_train/not_door\\3LM6H.mp4.\n",
      "MoviePy - Writing audio in 3LM6HTEMP_MPY_wvf_snd.mp3\n"
     ]
    },
    {
     "name": "stderr",
     "output_type": "stream",
     "text": [
      "                                                                  \r"
     ]
    },
    {
     "name": "stdout",
     "output_type": "stream",
     "text": [
      "MoviePy - Done.\n",
      "Moviepy - Writing video F:/DLProj/Charades_v5/resized_train/not_door\\3LM6H.mp4\n",
      "\n"
     ]
    },
    {
     "name": "stderr",
     "output_type": "stream",
     "text": [
      "                                                              \r"
     ]
    },
    {
     "name": "stdout",
     "output_type": "stream",
     "text": [
      "Moviepy - Done !\n",
      "Moviepy - video ready F:/DLProj/Charades_v5/resized_train/not_door\\3LM6H.mp4\n",
      "Moviepy - Building video F:/DLProj/Charades_v5/resized_train/not_door\\3P8NL.mp4.\n",
      "MoviePy - Writing audio in 3P8NLTEMP_MPY_wvf_snd.mp3\n"
     ]
    },
    {
     "name": "stderr",
     "output_type": "stream",
     "text": [
      "                                                                  \r"
     ]
    },
    {
     "name": "stdout",
     "output_type": "stream",
     "text": [
      "MoviePy - Done.\n",
      "Moviepy - Writing video F:/DLProj/Charades_v5/resized_train/not_door\\3P8NL.mp4\n",
      "\n"
     ]
    },
    {
     "name": "stderr",
     "output_type": "stream",
     "text": [
      "                                                              \r"
     ]
    },
    {
     "name": "stdout",
     "output_type": "stream",
     "text": [
      "Moviepy - Done !\n",
      "Moviepy - video ready F:/DLProj/Charades_v5/resized_train/not_door\\3P8NL.mp4\n",
      "Moviepy - Building video F:/DLProj/Charades_v5/resized_train/not_door\\3SNSC.mp4.\n",
      "MoviePy - Writing audio in 3SNSCTEMP_MPY_wvf_snd.mp3\n"
     ]
    },
    {
     "name": "stderr",
     "output_type": "stream",
     "text": [
      "                                                                  \r"
     ]
    },
    {
     "name": "stdout",
     "output_type": "stream",
     "text": [
      "MoviePy - Done.\n",
      "Moviepy - Writing video F:/DLProj/Charades_v5/resized_train/not_door\\3SNSC.mp4\n",
      "\n"
     ]
    },
    {
     "name": "stderr",
     "output_type": "stream",
     "text": [
      "                                                              \r"
     ]
    },
    {
     "name": "stdout",
     "output_type": "stream",
     "text": [
      "Moviepy - Done !\n",
      "Moviepy - video ready F:/DLProj/Charades_v5/resized_train/not_door\\3SNSC.mp4\n",
      "Moviepy - Building video F:/DLProj/Charades_v5/resized_train/not_door\\3TUUI.mp4.\n",
      "MoviePy - Writing audio in 3TUUITEMP_MPY_wvf_snd.mp3\n"
     ]
    },
    {
     "name": "stderr",
     "output_type": "stream",
     "text": [
      "                                                                   \r"
     ]
    },
    {
     "name": "stdout",
     "output_type": "stream",
     "text": [
      "MoviePy - Done.\n",
      "Moviepy - Writing video F:/DLProj/Charades_v5/resized_train/not_door\\3TUUI.mp4\n",
      "\n"
     ]
    },
    {
     "name": "stderr",
     "output_type": "stream",
     "text": [
      "                                                               \r"
     ]
    },
    {
     "name": "stdout",
     "output_type": "stream",
     "text": [
      "Moviepy - Done !\n",
      "Moviepy - video ready F:/DLProj/Charades_v5/resized_train/not_door\\3TUUI.mp4\n",
      "Moviepy - Building video F:/DLProj/Charades_v5/resized_train/not_door\\3XKBC.mp4.\n",
      "MoviePy - Writing audio in 3XKBCTEMP_MPY_wvf_snd.mp3\n"
     ]
    },
    {
     "name": "stderr",
     "output_type": "stream",
     "text": [
      "                                                                 \r"
     ]
    },
    {
     "name": "stdout",
     "output_type": "stream",
     "text": [
      "MoviePy - Done.\n",
      "Moviepy - Writing video F:/DLProj/Charades_v5/resized_train/not_door\\3XKBC.mp4\n",
      "\n"
     ]
    },
    {
     "name": "stderr",
     "output_type": "stream",
     "text": [
      "                                                              \r"
     ]
    },
    {
     "name": "stdout",
     "output_type": "stream",
     "text": [
      "Moviepy - Done !\n",
      "Moviepy - video ready F:/DLProj/Charades_v5/resized_train/not_door\\3XKBC.mp4\n",
      "Moviepy - Building video F:/DLProj/Charades_v5/resized_train/not_door\\417RA.mp4.\n",
      "MoviePy - Writing audio in 417RATEMP_MPY_wvf_snd.mp3\n"
     ]
    },
    {
     "name": "stderr",
     "output_type": "stream",
     "text": [
      "                                                                   \r"
     ]
    },
    {
     "name": "stdout",
     "output_type": "stream",
     "text": [
      "MoviePy - Done.\n",
      "Moviepy - Writing video F:/DLProj/Charades_v5/resized_train/not_door\\417RA.mp4\n",
      "\n"
     ]
    },
    {
     "name": "stderr",
     "output_type": "stream",
     "text": [
      "                                                              \r"
     ]
    },
    {
     "name": "stdout",
     "output_type": "stream",
     "text": [
      "Moviepy - Done !\n",
      "Moviepy - video ready F:/DLProj/Charades_v5/resized_train/not_door\\417RA.mp4\n",
      "Moviepy - Building video F:/DLProj/Charades_v5/resized_train/not_door\\450TW.mp4.\n",
      "MoviePy - Writing audio in 450TWTEMP_MPY_wvf_snd.mp3\n"
     ]
    },
    {
     "name": "stderr",
     "output_type": "stream",
     "text": [
      "                                                                  \r"
     ]
    },
    {
     "name": "stdout",
     "output_type": "stream",
     "text": [
      "MoviePy - Done.\n",
      "Moviepy - Writing video F:/DLProj/Charades_v5/resized_train/not_door\\450TW.mp4\n",
      "\n"
     ]
    },
    {
     "name": "stderr",
     "output_type": "stream",
     "text": [
      "                                                               \r"
     ]
    },
    {
     "name": "stdout",
     "output_type": "stream",
     "text": [
      "Moviepy - Done !\n",
      "Moviepy - video ready F:/DLProj/Charades_v5/resized_train/not_door\\450TW.mp4\n",
      "Moviepy - Building video F:/DLProj/Charades_v5/resized_train/not_door\\46Z16.mp4.\n",
      "MoviePy - Writing audio in 46Z16TEMP_MPY_wvf_snd.mp3\n"
     ]
    },
    {
     "name": "stderr",
     "output_type": "stream",
     "text": [
      "                                                                  \r"
     ]
    },
    {
     "name": "stdout",
     "output_type": "stream",
     "text": [
      "MoviePy - Done.\n",
      "Moviepy - Writing video F:/DLProj/Charades_v5/resized_train/not_door\\46Z16.mp4\n",
      "\n"
     ]
    },
    {
     "name": "stderr",
     "output_type": "stream",
     "text": [
      "                                                               \r"
     ]
    },
    {
     "name": "stdout",
     "output_type": "stream",
     "text": [
      "Moviepy - Done !\n",
      "Moviepy - video ready F:/DLProj/Charades_v5/resized_train/not_door\\46Z16.mp4\n",
      "Moviepy - Building video F:/DLProj/Charades_v5/resized_train/not_door\\4A81E.mp4.\n",
      "MoviePy - Writing audio in 4A81ETEMP_MPY_wvf_snd.mp3\n"
     ]
    },
    {
     "name": "stderr",
     "output_type": "stream",
     "text": [
      "                                                                  \r"
     ]
    },
    {
     "name": "stdout",
     "output_type": "stream",
     "text": [
      "MoviePy - Done.\n",
      "Moviepy - Writing video F:/DLProj/Charades_v5/resized_train/not_door\\4A81E.mp4\n",
      "\n"
     ]
    },
    {
     "name": "stderr",
     "output_type": "stream",
     "text": [
      "                                                               \r"
     ]
    },
    {
     "name": "stdout",
     "output_type": "stream",
     "text": [
      "Moviepy - Done !\n",
      "Moviepy - video ready F:/DLProj/Charades_v5/resized_train/not_door\\4A81E.mp4\n",
      "Moviepy - Building video F:/DLProj/Charades_v5/resized_train/not_door\\4C4LC.mp4.\n",
      "MoviePy - Writing audio in 4C4LCTEMP_MPY_wvf_snd.mp3\n"
     ]
    },
    {
     "name": "stderr",
     "output_type": "stream",
     "text": [
      "                                                                  \r"
     ]
    },
    {
     "name": "stdout",
     "output_type": "stream",
     "text": [
      "MoviePy - Done.\n",
      "Moviepy - Writing video F:/DLProj/Charades_v5/resized_train/not_door\\4C4LC.mp4\n",
      "\n"
     ]
    },
    {
     "name": "stderr",
     "output_type": "stream",
     "text": [
      "                                                            \r"
     ]
    },
    {
     "name": "stdout",
     "output_type": "stream",
     "text": [
      "Moviepy - Done !\n",
      "Moviepy - video ready F:/DLProj/Charades_v5/resized_train/not_door\\4C4LC.mp4\n",
      "Moviepy - Building video F:/DLProj/Charades_v5/resized_train/not_door\\4IWYR.mp4.\n",
      "MoviePy - Writing audio in 4IWYRTEMP_MPY_wvf_snd.mp3\n"
     ]
    },
    {
     "name": "stderr",
     "output_type": "stream",
     "text": [
      "                                                                  \r"
     ]
    },
    {
     "name": "stdout",
     "output_type": "stream",
     "text": [
      "MoviePy - Done.\n",
      "Moviepy - Writing video F:/DLProj/Charades_v5/resized_train/not_door\\4IWYR.mp4\n",
      "\n"
     ]
    },
    {
     "name": "stderr",
     "output_type": "stream",
     "text": [
      "                                                              \r"
     ]
    },
    {
     "name": "stdout",
     "output_type": "stream",
     "text": [
      "Moviepy - Done !\n",
      "Moviepy - video ready F:/DLProj/Charades_v5/resized_train/not_door\\4IWYR.mp4\n",
      "Moviepy - Building video F:/DLProj/Charades_v5/resized_train/not_door\\4RLYA.mp4.\n",
      "MoviePy - Writing audio in 4RLYATEMP_MPY_wvf_snd.mp3\n"
     ]
    },
    {
     "name": "stderr",
     "output_type": "stream",
     "text": [
      "                                                                   \r"
     ]
    },
    {
     "name": "stdout",
     "output_type": "stream",
     "text": [
      "MoviePy - Done.\n",
      "Moviepy - Writing video F:/DLProj/Charades_v5/resized_train/not_door\\4RLYA.mp4\n",
      "\n"
     ]
    },
    {
     "name": "stderr",
     "output_type": "stream",
     "text": [
      "                                                              \r"
     ]
    },
    {
     "name": "stdout",
     "output_type": "stream",
     "text": [
      "Moviepy - Done !\n",
      "Moviepy - video ready F:/DLProj/Charades_v5/resized_train/not_door\\4RLYA.mp4\n",
      "Moviepy - Building video F:/DLProj/Charades_v5/resized_train/not_door\\509W9.mp4.\n",
      "MoviePy - Writing audio in 509W9TEMP_MPY_wvf_snd.mp3\n"
     ]
    },
    {
     "name": "stderr",
     "output_type": "stream",
     "text": [
      "                                                                  \r"
     ]
    },
    {
     "name": "stdout",
     "output_type": "stream",
     "text": [
      "MoviePy - Done.\n",
      "Moviepy - Writing video F:/DLProj/Charades_v5/resized_train/not_door\\509W9.mp4\n",
      "\n"
     ]
    },
    {
     "name": "stderr",
     "output_type": "stream",
     "text": [
      "                                                              \r"
     ]
    },
    {
     "name": "stdout",
     "output_type": "stream",
     "text": [
      "Moviepy - Done !\n",
      "Moviepy - video ready F:/DLProj/Charades_v5/resized_train/not_door\\509W9.mp4\n",
      "Moviepy - Building video F:/DLProj/Charades_v5/resized_train/not_door\\52WDV.mp4.\n",
      "MoviePy - Writing audio in 52WDVTEMP_MPY_wvf_snd.mp3\n"
     ]
    },
    {
     "name": "stderr",
     "output_type": "stream",
     "text": [
      "                                                                  \r"
     ]
    },
    {
     "name": "stdout",
     "output_type": "stream",
     "text": [
      "MoviePy - Done.\n",
      "Moviepy - Writing video F:/DLProj/Charades_v5/resized_train/not_door\\52WDV.mp4\n",
      "\n"
     ]
    },
    {
     "name": "stderr",
     "output_type": "stream",
     "text": [
      "                                                              \r"
     ]
    },
    {
     "name": "stdout",
     "output_type": "stream",
     "text": [
      "Moviepy - Done !\n",
      "Moviepy - video ready F:/DLProj/Charades_v5/resized_train/not_door\\52WDV.mp4\n",
      "Moviepy - Building video F:/DLProj/Charades_v5/resized_train/not_door\\55AH5.mp4.\n",
      "MoviePy - Writing audio in 55AH5TEMP_MPY_wvf_snd.mp3\n"
     ]
    },
    {
     "name": "stderr",
     "output_type": "stream",
     "text": [
      "                                                                  \r"
     ]
    },
    {
     "name": "stdout",
     "output_type": "stream",
     "text": [
      "MoviePy - Done.\n",
      "Moviepy - Writing video F:/DLProj/Charades_v5/resized_train/not_door\\55AH5.mp4\n",
      "\n"
     ]
    },
    {
     "name": "stderr",
     "output_type": "stream",
     "text": [
      "                                                              \r"
     ]
    },
    {
     "name": "stdout",
     "output_type": "stream",
     "text": [
      "Moviepy - Done !\n",
      "Moviepy - video ready F:/DLProj/Charades_v5/resized_train/not_door\\55AH5.mp4\n",
      "Moviepy - Building video F:/DLProj/Charades_v5/resized_train/not_door\\55BOW.mp4.\n",
      "MoviePy - Writing audio in 55BOWTEMP_MPY_wvf_snd.mp3\n"
     ]
    },
    {
     "name": "stderr",
     "output_type": "stream",
     "text": [
      "                                                                  \r"
     ]
    },
    {
     "name": "stdout",
     "output_type": "stream",
     "text": [
      "MoviePy - Done.\n",
      "Moviepy - Writing video F:/DLProj/Charades_v5/resized_train/not_door\\55BOW.mp4\n",
      "\n"
     ]
    },
    {
     "name": "stderr",
     "output_type": "stream",
     "text": [
      "                                                              \r"
     ]
    },
    {
     "name": "stdout",
     "output_type": "stream",
     "text": [
      "Moviepy - Done !\n",
      "Moviepy - video ready F:/DLProj/Charades_v5/resized_train/not_door\\55BOW.mp4\n",
      "Moviepy - Building video F:/DLProj/Charades_v5/resized_train/not_door\\55MRE.mp4.\n",
      "MoviePy - Writing audio in 55MRETEMP_MPY_wvf_snd.mp3\n"
     ]
    },
    {
     "name": "stderr",
     "output_type": "stream",
     "text": [
      "                                                                \r"
     ]
    },
    {
     "name": "stdout",
     "output_type": "stream",
     "text": [
      "MoviePy - Done.\n",
      "Moviepy - Writing video F:/DLProj/Charades_v5/resized_train/not_door\\55MRE.mp4\n",
      "\n"
     ]
    },
    {
     "name": "stderr",
     "output_type": "stream",
     "text": [
      "                                                              \r"
     ]
    },
    {
     "name": "stdout",
     "output_type": "stream",
     "text": [
      "Moviepy - Done !\n",
      "Moviepy - video ready F:/DLProj/Charades_v5/resized_train/not_door\\55MRE.mp4\n",
      "Moviepy - Building video F:/DLProj/Charades_v5/resized_train/not_door\\564DX.mp4.\n",
      "MoviePy - Writing audio in 564DXTEMP_MPY_wvf_snd.mp3\n"
     ]
    },
    {
     "name": "stderr",
     "output_type": "stream",
     "text": [
      "                                                                  \r"
     ]
    },
    {
     "name": "stdout",
     "output_type": "stream",
     "text": [
      "MoviePy - Done.\n",
      "Moviepy - Writing video F:/DLProj/Charades_v5/resized_train/not_door\\564DX.mp4\n",
      "\n"
     ]
    },
    {
     "name": "stderr",
     "output_type": "stream",
     "text": [
      "                                                              \r"
     ]
    },
    {
     "name": "stdout",
     "output_type": "stream",
     "text": [
      "Moviepy - Done !\n",
      "Moviepy - video ready F:/DLProj/Charades_v5/resized_train/not_door\\564DX.mp4\n",
      "Moviepy - Building video F:/DLProj/Charades_v5/resized_train/not_door\\5657O.mp4.\n",
      "MoviePy - Writing audio in 5657OTEMP_MPY_wvf_snd.mp3\n"
     ]
    },
    {
     "name": "stderr",
     "output_type": "stream",
     "text": [
      "                                                                   \r"
     ]
    },
    {
     "name": "stdout",
     "output_type": "stream",
     "text": [
      "MoviePy - Done.\n",
      "Moviepy - Writing video F:/DLProj/Charades_v5/resized_train/not_door\\5657O.mp4\n",
      "\n"
     ]
    },
    {
     "name": "stderr",
     "output_type": "stream",
     "text": [
      "                                                              \r"
     ]
    },
    {
     "name": "stdout",
     "output_type": "stream",
     "text": [
      "Moviepy - Done !\n",
      "Moviepy - video ready F:/DLProj/Charades_v5/resized_train/not_door\\5657O.mp4\n",
      "Moviepy - Building video F:/DLProj/Charades_v5/resized_train/not_door\\5JSGK.mp4.\n",
      "MoviePy - Writing audio in 5JSGKTEMP_MPY_wvf_snd.mp3\n"
     ]
    },
    {
     "name": "stderr",
     "output_type": "stream",
     "text": [
      "                                                                  \r"
     ]
    },
    {
     "name": "stdout",
     "output_type": "stream",
     "text": [
      "MoviePy - Done.\n",
      "Moviepy - Writing video F:/DLProj/Charades_v5/resized_train/not_door\\5JSGK.mp4\n",
      "\n"
     ]
    },
    {
     "name": "stderr",
     "output_type": "stream",
     "text": [
      "                                                           \r"
     ]
    },
    {
     "name": "stdout",
     "output_type": "stream",
     "text": [
      "Moviepy - Done !\n",
      "Moviepy - video ready F:/DLProj/Charades_v5/resized_train/not_door\\5JSGK.mp4\n",
      "Moviepy - Building video F:/DLProj/Charades_v5/resized_train/not_door\\5JVMD.mp4.\n",
      "MoviePy - Writing audio in 5JVMDTEMP_MPY_wvf_snd.mp3\n"
     ]
    },
    {
     "name": "stderr",
     "output_type": "stream",
     "text": [
      "                                                                  \r"
     ]
    },
    {
     "name": "stdout",
     "output_type": "stream",
     "text": [
      "MoviePy - Done.\n",
      "Moviepy - Writing video F:/DLProj/Charades_v5/resized_train/not_door\\5JVMD.mp4\n",
      "\n"
     ]
    },
    {
     "name": "stderr",
     "output_type": "stream",
     "text": [
      "                                                              \r"
     ]
    },
    {
     "name": "stdout",
     "output_type": "stream",
     "text": [
      "Moviepy - Done !\n",
      "Moviepy - video ready F:/DLProj/Charades_v5/resized_train/not_door\\5JVMD.mp4\n",
      "Moviepy - Building video F:/DLProj/Charades_v5/resized_train/not_door\\5XEOB.mp4.\n",
      "MoviePy - Writing audio in 5XEOBTEMP_MPY_wvf_snd.mp3\n"
     ]
    },
    {
     "name": "stderr",
     "output_type": "stream",
     "text": [
      "                                                                  \r"
     ]
    },
    {
     "name": "stdout",
     "output_type": "stream",
     "text": [
      "MoviePy - Done.\n",
      "Moviepy - Writing video F:/DLProj/Charades_v5/resized_train/not_door\\5XEOB.mp4\n",
      "\n"
     ]
    },
    {
     "name": "stderr",
     "output_type": "stream",
     "text": [
      "                                                              \r"
     ]
    },
    {
     "name": "stdout",
     "output_type": "stream",
     "text": [
      "Moviepy - Done !\n",
      "Moviepy - video ready F:/DLProj/Charades_v5/resized_train/not_door\\5XEOB.mp4\n",
      "Moviepy - Building video F:/DLProj/Charades_v5/resized_train/not_door\\5Z1CO.mp4.\n",
      "MoviePy - Writing audio in 5Z1COTEMP_MPY_wvf_snd.mp3\n"
     ]
    },
    {
     "name": "stderr",
     "output_type": "stream",
     "text": [
      "                                                                  \r"
     ]
    },
    {
     "name": "stdout",
     "output_type": "stream",
     "text": [
      "MoviePy - Done.\n",
      "Moviepy - Writing video F:/DLProj/Charades_v5/resized_train/not_door\\5Z1CO.mp4\n",
      "\n"
     ]
    },
    {
     "name": "stderr",
     "output_type": "stream",
     "text": [
      "                                                              \r"
     ]
    },
    {
     "name": "stdout",
     "output_type": "stream",
     "text": [
      "Moviepy - Done !\n",
      "Moviepy - video ready F:/DLProj/Charades_v5/resized_train/not_door\\5Z1CO.mp4\n",
      "Moviepy - Building video F:/DLProj/Charades_v5/resized_train/not_door\\64SL1.mp4.\n",
      "MoviePy - Writing audio in 64SL1TEMP_MPY_wvf_snd.mp3\n"
     ]
    },
    {
     "name": "stderr",
     "output_type": "stream",
     "text": [
      "                                                                  \r"
     ]
    },
    {
     "name": "stdout",
     "output_type": "stream",
     "text": [
      "MoviePy - Done.\n",
      "Moviepy - Writing video F:/DLProj/Charades_v5/resized_train/not_door\\64SL1.mp4\n",
      "\n"
     ]
    },
    {
     "name": "stderr",
     "output_type": "stream",
     "text": [
      "                                                              \r"
     ]
    },
    {
     "name": "stdout",
     "output_type": "stream",
     "text": [
      "Moviepy - Done !\n",
      "Moviepy - video ready F:/DLProj/Charades_v5/resized_train/not_door\\64SL1.mp4\n",
      "Moviepy - Building video F:/DLProj/Charades_v5/resized_train/not_door\\6FSAH.mp4.\n",
      "MoviePy - Writing audio in 6FSAHTEMP_MPY_wvf_snd.mp3\n"
     ]
    },
    {
     "name": "stderr",
     "output_type": "stream",
     "text": [
      "                                                                  \r"
     ]
    },
    {
     "name": "stdout",
     "output_type": "stream",
     "text": [
      "MoviePy - Done.\n",
      "Moviepy - Writing video F:/DLProj/Charades_v5/resized_train/not_door\\6FSAH.mp4\n",
      "\n"
     ]
    },
    {
     "name": "stderr",
     "output_type": "stream",
     "text": [
      "                                                              \r"
     ]
    },
    {
     "name": "stdout",
     "output_type": "stream",
     "text": [
      "Moviepy - Done !\n",
      "Moviepy - video ready F:/DLProj/Charades_v5/resized_train/not_door\\6FSAH.mp4\n",
      "Moviepy - Building video F:/DLProj/Charades_v5/resized_train/not_door\\6LUM5.mp4.\n",
      "MoviePy - Writing audio in 6LUM5TEMP_MPY_wvf_snd.mp3\n"
     ]
    },
    {
     "name": "stderr",
     "output_type": "stream",
     "text": [
      "                                                                  \r"
     ]
    },
    {
     "name": "stdout",
     "output_type": "stream",
     "text": [
      "MoviePy - Done.\n",
      "Moviepy - Writing video F:/DLProj/Charades_v5/resized_train/not_door\\6LUM5.mp4\n",
      "\n"
     ]
    },
    {
     "name": "stderr",
     "output_type": "stream",
     "text": [
      "                                                              \r"
     ]
    },
    {
     "name": "stdout",
     "output_type": "stream",
     "text": [
      "Moviepy - Done !\n",
      "Moviepy - video ready F:/DLProj/Charades_v5/resized_train/not_door\\6LUM5.mp4\n",
      "Moviepy - Building video F:/DLProj/Charades_v5/resized_train/not_door\\6PL9Z.mp4.\n",
      "MoviePy - Writing audio in 6PL9ZTEMP_MPY_wvf_snd.mp3\n"
     ]
    },
    {
     "name": "stderr",
     "output_type": "stream",
     "text": [
      "                                                                  \r"
     ]
    },
    {
     "name": "stdout",
     "output_type": "stream",
     "text": [
      "MoviePy - Done.\n",
      "Moviepy - Writing video F:/DLProj/Charades_v5/resized_train/not_door\\6PL9Z.mp4\n",
      "\n"
     ]
    },
    {
     "name": "stderr",
     "output_type": "stream",
     "text": [
      "                                                               \r"
     ]
    },
    {
     "name": "stdout",
     "output_type": "stream",
     "text": [
      "Moviepy - Done !\n",
      "Moviepy - video ready F:/DLProj/Charades_v5/resized_train/not_door\\6PL9Z.mp4\n",
      "Moviepy - Building video F:/DLProj/Charades_v5/resized_train/not_door\\6RQHT.mp4.\n",
      "MoviePy - Writing audio in 6RQHTTEMP_MPY_wvf_snd.mp3\n"
     ]
    },
    {
     "name": "stderr",
     "output_type": "stream",
     "text": [
      "                                                                  \r"
     ]
    },
    {
     "name": "stdout",
     "output_type": "stream",
     "text": [
      "MoviePy - Done.\n",
      "Moviepy - Writing video F:/DLProj/Charades_v5/resized_train/not_door\\6RQHT.mp4\n",
      "\n"
     ]
    },
    {
     "name": "stderr",
     "output_type": "stream",
     "text": [
      "                                                              \r"
     ]
    },
    {
     "name": "stdout",
     "output_type": "stream",
     "text": [
      "Moviepy - Done !\n",
      "Moviepy - video ready F:/DLProj/Charades_v5/resized_train/not_door\\6RQHT.mp4\n",
      "Moviepy - Building video F:/DLProj/Charades_v5/resized_train/not_door\\74P3C.mp4.\n",
      "MoviePy - Writing audio in 74P3CTEMP_MPY_wvf_snd.mp3\n"
     ]
    },
    {
     "name": "stderr",
     "output_type": "stream",
     "text": [
      "                                                                \r"
     ]
    },
    {
     "name": "stdout",
     "output_type": "stream",
     "text": [
      "MoviePy - Done.\n",
      "Moviepy - Writing video F:/DLProj/Charades_v5/resized_train/not_door\\74P3C.mp4\n",
      "\n"
     ]
    },
    {
     "name": "stderr",
     "output_type": "stream",
     "text": [
      "                                                             \r"
     ]
    },
    {
     "name": "stdout",
     "output_type": "stream",
     "text": [
      "Moviepy - Done !\n",
      "Moviepy - video ready F:/DLProj/Charades_v5/resized_train/not_door\\74P3C.mp4\n",
      "Moviepy - Building video F:/DLProj/Charades_v5/resized_train/not_door\\78N0Z.mp4.\n",
      "MoviePy - Writing audio in 78N0ZTEMP_MPY_wvf_snd.mp3\n"
     ]
    },
    {
     "name": "stderr",
     "output_type": "stream",
     "text": [
      "                                                                   \r"
     ]
    },
    {
     "name": "stdout",
     "output_type": "stream",
     "text": [
      "MoviePy - Done.\n",
      "Moviepy - Writing video F:/DLProj/Charades_v5/resized_train/not_door\\78N0Z.mp4\n",
      "\n"
     ]
    },
    {
     "name": "stderr",
     "output_type": "stream",
     "text": [
      "                                                              \r"
     ]
    },
    {
     "name": "stdout",
     "output_type": "stream",
     "text": [
      "Moviepy - Done !\n",
      "Moviepy - video ready F:/DLProj/Charades_v5/resized_train/not_door\\78N0Z.mp4\n",
      "Moviepy - Building video F:/DLProj/Charades_v5/resized_train/not_door\\7AH3L.mp4.\n",
      "MoviePy - Writing audio in 7AH3LTEMP_MPY_wvf_snd.mp3\n"
     ]
    },
    {
     "name": "stderr",
     "output_type": "stream",
     "text": [
      "                                                                  \r"
     ]
    },
    {
     "name": "stdout",
     "output_type": "stream",
     "text": [
      "MoviePy - Done.\n",
      "Moviepy - Writing video F:/DLProj/Charades_v5/resized_train/not_door\\7AH3L.mp4\n",
      "\n"
     ]
    },
    {
     "name": "stderr",
     "output_type": "stream",
     "text": [
      "                                                              \r"
     ]
    },
    {
     "name": "stdout",
     "output_type": "stream",
     "text": [
      "Moviepy - Done !\n",
      "Moviepy - video ready F:/DLProj/Charades_v5/resized_train/not_door\\7AH3L.mp4\n",
      "Moviepy - Building video F:/DLProj/Charades_v5/resized_train/not_door\\7ICIA.mp4.\n",
      "MoviePy - Writing audio in 7ICIATEMP_MPY_wvf_snd.mp3\n"
     ]
    },
    {
     "name": "stderr",
     "output_type": "stream",
     "text": [
      "                                                                  \r"
     ]
    },
    {
     "name": "stdout",
     "output_type": "stream",
     "text": [
      "MoviePy - Done.\n",
      "Moviepy - Writing video F:/DLProj/Charades_v5/resized_train/not_door\\7ICIA.mp4\n",
      "\n"
     ]
    },
    {
     "name": "stderr",
     "output_type": "stream",
     "text": [
      "                                                               \r"
     ]
    },
    {
     "name": "stdout",
     "output_type": "stream",
     "text": [
      "Moviepy - Done !\n",
      "Moviepy - video ready F:/DLProj/Charades_v5/resized_train/not_door\\7ICIA.mp4\n",
      "Moviepy - Building video F:/DLProj/Charades_v5/resized_train/not_door\\7OHQP.mp4.\n",
      "MoviePy - Writing audio in 7OHQPTEMP_MPY_wvf_snd.mp3\n"
     ]
    },
    {
     "name": "stderr",
     "output_type": "stream",
     "text": [
      "                                                                  \r"
     ]
    },
    {
     "name": "stdout",
     "output_type": "stream",
     "text": [
      "MoviePy - Done.\n",
      "Moviepy - Writing video F:/DLProj/Charades_v5/resized_train/not_door\\7OHQP.mp4\n",
      "\n"
     ]
    },
    {
     "name": "stderr",
     "output_type": "stream",
     "text": [
      "                                                              \r"
     ]
    },
    {
     "name": "stdout",
     "output_type": "stream",
     "text": [
      "Moviepy - Done !\n",
      "Moviepy - video ready F:/DLProj/Charades_v5/resized_train/not_door\\7OHQP.mp4\n",
      "Moviepy - Building video F:/DLProj/Charades_v5/resized_train/not_door\\7WIRG.mp4.\n",
      "MoviePy - Writing audio in 7WIRGTEMP_MPY_wvf_snd.mp3\n"
     ]
    },
    {
     "name": "stderr",
     "output_type": "stream",
     "text": [
      "                                                                  \r"
     ]
    },
    {
     "name": "stdout",
     "output_type": "stream",
     "text": [
      "MoviePy - Done.\n",
      "Moviepy - Writing video F:/DLProj/Charades_v5/resized_train/not_door\\7WIRG.mp4\n",
      "\n"
     ]
    },
    {
     "name": "stderr",
     "output_type": "stream",
     "text": [
      "                                                               \r"
     ]
    },
    {
     "name": "stdout",
     "output_type": "stream",
     "text": [
      "Moviepy - Done !\n",
      "Moviepy - video ready F:/DLProj/Charades_v5/resized_train/not_door\\7WIRG.mp4\n",
      "Moviepy - Building video F:/DLProj/Charades_v5/resized_train/not_door\\80FWF.mp4.\n",
      "MoviePy - Writing audio in 80FWFTEMP_MPY_wvf_snd.mp3\n"
     ]
    },
    {
     "name": "stderr",
     "output_type": "stream",
     "text": [
      "                                                                  \r"
     ]
    },
    {
     "name": "stdout",
     "output_type": "stream",
     "text": [
      "MoviePy - Done.\n",
      "Moviepy - Writing video F:/DLProj/Charades_v5/resized_train/not_door\\80FWF.mp4\n",
      "\n"
     ]
    },
    {
     "name": "stderr",
     "output_type": "stream",
     "text": [
      "                                                              \r"
     ]
    },
    {
     "name": "stdout",
     "output_type": "stream",
     "text": [
      "Moviepy - Done !\n",
      "Moviepy - video ready F:/DLProj/Charades_v5/resized_train/not_door\\80FWF.mp4\n",
      "Moviepy - Building video F:/DLProj/Charades_v5/resized_train/not_door\\8175C.mp4.\n",
      "MoviePy - Writing audio in 8175CTEMP_MPY_wvf_snd.mp3\n"
     ]
    },
    {
     "name": "stderr",
     "output_type": "stream",
     "text": [
      "                                                                  \r"
     ]
    },
    {
     "name": "stdout",
     "output_type": "stream",
     "text": [
      "MoviePy - Done.\n",
      "Moviepy - Writing video F:/DLProj/Charades_v5/resized_train/not_door\\8175C.mp4\n",
      "\n"
     ]
    },
    {
     "name": "stderr",
     "output_type": "stream",
     "text": [
      "                                                              \r"
     ]
    },
    {
     "name": "stdout",
     "output_type": "stream",
     "text": [
      "Moviepy - Done !\n",
      "Moviepy - video ready F:/DLProj/Charades_v5/resized_train/not_door\\8175C.mp4\n",
      "Moviepy - Building video F:/DLProj/Charades_v5/resized_train/not_door\\81NAT.mp4.\n",
      "MoviePy - Writing audio in 81NATTEMP_MPY_wvf_snd.mp3\n"
     ]
    },
    {
     "name": "stderr",
     "output_type": "stream",
     "text": [
      "                                                                  \r"
     ]
    },
    {
     "name": "stdout",
     "output_type": "stream",
     "text": [
      "MoviePy - Done.\n",
      "Moviepy - Writing video F:/DLProj/Charades_v5/resized_train/not_door\\81NAT.mp4\n",
      "\n"
     ]
    },
    {
     "name": "stderr",
     "output_type": "stream",
     "text": [
      "                                                              \r"
     ]
    },
    {
     "name": "stdout",
     "output_type": "stream",
     "text": [
      "Moviepy - Done !\n",
      "Moviepy - video ready F:/DLProj/Charades_v5/resized_train/not_door\\81NAT.mp4\n",
      "Moviepy - Building video F:/DLProj/Charades_v5/resized_train/not_door\\82B2V.mp4.\n",
      "MoviePy - Writing audio in 82B2VTEMP_MPY_wvf_snd.mp3\n"
     ]
    },
    {
     "name": "stderr",
     "output_type": "stream",
     "text": [
      "                                                                  \r"
     ]
    },
    {
     "name": "stdout",
     "output_type": "stream",
     "text": [
      "MoviePy - Done.\n",
      "Moviepy - Writing video F:/DLProj/Charades_v5/resized_train/not_door\\82B2V.mp4\n",
      "\n"
     ]
    },
    {
     "name": "stderr",
     "output_type": "stream",
     "text": [
      "                                                              \r"
     ]
    },
    {
     "name": "stdout",
     "output_type": "stream",
     "text": [
      "Moviepy - Done !\n",
      "Moviepy - video ready F:/DLProj/Charades_v5/resized_train/not_door\\82B2V.mp4\n",
      "Moviepy - Building video F:/DLProj/Charades_v5/resized_train/not_door\\8CQ9Y.mp4.\n",
      "MoviePy - Writing audio in 8CQ9YTEMP_MPY_wvf_snd.mp3\n"
     ]
    },
    {
     "name": "stderr",
     "output_type": "stream",
     "text": [
      "                                                                \r"
     ]
    },
    {
     "name": "stdout",
     "output_type": "stream",
     "text": [
      "MoviePy - Done.\n",
      "Moviepy - Writing video F:/DLProj/Charades_v5/resized_train/not_door\\8CQ9Y.mp4\n",
      "\n"
     ]
    },
    {
     "name": "stderr",
     "output_type": "stream",
     "text": [
      "                                                            \r"
     ]
    },
    {
     "name": "stdout",
     "output_type": "stream",
     "text": [
      "Moviepy - Done !\n",
      "Moviepy - video ready F:/DLProj/Charades_v5/resized_train/not_door\\8CQ9Y.mp4\n",
      "Moviepy - Building video F:/DLProj/Charades_v5/resized_train/not_door\\8FH2F.mp4.\n",
      "MoviePy - Writing audio in 8FH2FTEMP_MPY_wvf_snd.mp3\n"
     ]
    },
    {
     "name": "stderr",
     "output_type": "stream",
     "text": [
      "                                                                  \r"
     ]
    },
    {
     "name": "stdout",
     "output_type": "stream",
     "text": [
      "MoviePy - Done.\n",
      "Moviepy - Writing video F:/DLProj/Charades_v5/resized_train/not_door\\8FH2F.mp4\n",
      "\n"
     ]
    },
    {
     "name": "stderr",
     "output_type": "stream",
     "text": [
      "                                                              \r"
     ]
    },
    {
     "name": "stdout",
     "output_type": "stream",
     "text": [
      "Moviepy - Done !\n",
      "Moviepy - video ready F:/DLProj/Charades_v5/resized_train/not_door\\8FH2F.mp4\n",
      "Moviepy - Building video F:/DLProj/Charades_v5/resized_train/not_door\\8G9A9.mp4.\n",
      "MoviePy - Writing audio in 8G9A9TEMP_MPY_wvf_snd.mp3\n"
     ]
    },
    {
     "name": "stderr",
     "output_type": "stream",
     "text": [
      "                                                                  \r"
     ]
    },
    {
     "name": "stdout",
     "output_type": "stream",
     "text": [
      "MoviePy - Done.\n",
      "Moviepy - Writing video F:/DLProj/Charades_v5/resized_train/not_door\\8G9A9.mp4\n",
      "\n"
     ]
    },
    {
     "name": "stderr",
     "output_type": "stream",
     "text": [
      "                                                               \r"
     ]
    },
    {
     "name": "stdout",
     "output_type": "stream",
     "text": [
      "Moviepy - Done !\n",
      "Moviepy - video ready F:/DLProj/Charades_v5/resized_train/not_door\\8G9A9.mp4\n",
      "Moviepy - Building video F:/DLProj/Charades_v5/resized_train/not_door\\8K46I.mp4.\n",
      "MoviePy - Writing audio in 8K46ITEMP_MPY_wvf_snd.mp3\n"
     ]
    },
    {
     "name": "stderr",
     "output_type": "stream",
     "text": [
      "                                                                  \r"
     ]
    },
    {
     "name": "stdout",
     "output_type": "stream",
     "text": [
      "MoviePy - Done.\n",
      "Moviepy - Writing video F:/DLProj/Charades_v5/resized_train/not_door\\8K46I.mp4\n",
      "\n"
     ]
    },
    {
     "name": "stderr",
     "output_type": "stream",
     "text": [
      "                                                            \r"
     ]
    },
    {
     "name": "stdout",
     "output_type": "stream",
     "text": [
      "Moviepy - Done !\n",
      "Moviepy - video ready F:/DLProj/Charades_v5/resized_train/not_door\\8K46I.mp4\n",
      "Moviepy - Building video F:/DLProj/Charades_v5/resized_train/not_door\\8VDZ7.mp4.\n",
      "MoviePy - Writing audio in 8VDZ7TEMP_MPY_wvf_snd.mp3\n"
     ]
    },
    {
     "name": "stderr",
     "output_type": "stream",
     "text": [
      "                                                                  \r"
     ]
    },
    {
     "name": "stdout",
     "output_type": "stream",
     "text": [
      "MoviePy - Done.\n",
      "Moviepy - Writing video F:/DLProj/Charades_v5/resized_train/not_door\\8VDZ7.mp4\n",
      "\n"
     ]
    },
    {
     "name": "stderr",
     "output_type": "stream",
     "text": [
      "                                                               \r"
     ]
    },
    {
     "name": "stdout",
     "output_type": "stream",
     "text": [
      "Moviepy - Done !\n",
      "Moviepy - video ready F:/DLProj/Charades_v5/resized_train/not_door\\8VDZ7.mp4\n",
      "Moviepy - Building video F:/DLProj/Charades_v5/resized_train/not_door\\8W31Y.mp4.\n",
      "MoviePy - Writing audio in 8W31YTEMP_MPY_wvf_snd.mp3\n"
     ]
    },
    {
     "name": "stderr",
     "output_type": "stream",
     "text": [
      "                                                                 \r"
     ]
    },
    {
     "name": "stdout",
     "output_type": "stream",
     "text": [
      "MoviePy - Done.\n",
      "Moviepy - Writing video F:/DLProj/Charades_v5/resized_train/not_door\\8W31Y.mp4\n",
      "\n"
     ]
    },
    {
     "name": "stderr",
     "output_type": "stream",
     "text": [
      "                                                              \r"
     ]
    },
    {
     "name": "stdout",
     "output_type": "stream",
     "text": [
      "Moviepy - Done !\n",
      "Moviepy - video ready F:/DLProj/Charades_v5/resized_train/not_door\\8W31Y.mp4\n",
      "Moviepy - Building video F:/DLProj/Charades_v5/resized_train/not_door\\8YKGP.mp4.\n",
      "MoviePy - Writing audio in 8YKGPTEMP_MPY_wvf_snd.mp3\n"
     ]
    },
    {
     "name": "stderr",
     "output_type": "stream",
     "text": [
      "                                                                 \r"
     ]
    },
    {
     "name": "stdout",
     "output_type": "stream",
     "text": [
      "MoviePy - Done.\n",
      "Moviepy - Writing video F:/DLProj/Charades_v5/resized_train/not_door\\8YKGP.mp4\n",
      "\n"
     ]
    },
    {
     "name": "stderr",
     "output_type": "stream",
     "text": [
      "                                                              \r"
     ]
    },
    {
     "name": "stdout",
     "output_type": "stream",
     "text": [
      "Moviepy - Done !\n",
      "Moviepy - video ready F:/DLProj/Charades_v5/resized_train/not_door\\8YKGP.mp4\n",
      "Moviepy - Building video F:/DLProj/Charades_v5/resized_train/not_door\\8YZ8X.mp4.\n",
      "MoviePy - Writing audio in 8YZ8XTEMP_MPY_wvf_snd.mp3\n"
     ]
    },
    {
     "name": "stderr",
     "output_type": "stream",
     "text": [
      "                                                                  \r"
     ]
    },
    {
     "name": "stdout",
     "output_type": "stream",
     "text": [
      "MoviePy - Done.\n",
      "Moviepy - Writing video F:/DLProj/Charades_v5/resized_train/not_door\\8YZ8X.mp4\n",
      "\n"
     ]
    },
    {
     "name": "stderr",
     "output_type": "stream",
     "text": [
      "                                                              \r"
     ]
    },
    {
     "name": "stdout",
     "output_type": "stream",
     "text": [
      "Moviepy - Done !\n",
      "Moviepy - video ready F:/DLProj/Charades_v5/resized_train/not_door\\8YZ8X.mp4\n",
      "Moviepy - Building video F:/DLProj/Charades_v5/resized_train/not_door\\8Z9GW.mp4.\n",
      "MoviePy - Writing audio in 8Z9GWTEMP_MPY_wvf_snd.mp3\n"
     ]
    },
    {
     "name": "stderr",
     "output_type": "stream",
     "text": [
      "                                                                  \r"
     ]
    },
    {
     "name": "stdout",
     "output_type": "stream",
     "text": [
      "MoviePy - Done.\n",
      "Moviepy - Writing video F:/DLProj/Charades_v5/resized_train/not_door\\8Z9GW.mp4\n",
      "\n"
     ]
    },
    {
     "name": "stderr",
     "output_type": "stream",
     "text": [
      "                                                               \r"
     ]
    },
    {
     "name": "stdout",
     "output_type": "stream",
     "text": [
      "Moviepy - Done !\n",
      "Moviepy - video ready F:/DLProj/Charades_v5/resized_train/not_door\\8Z9GW.mp4\n",
      "Moviepy - Building video F:/DLProj/Charades_v5/resized_train/not_door\\93YXJ.mp4.\n",
      "MoviePy - Writing audio in 93YXJTEMP_MPY_wvf_snd.mp3\n"
     ]
    },
    {
     "name": "stderr",
     "output_type": "stream",
     "text": [
      "                                                                  \r"
     ]
    },
    {
     "name": "stdout",
     "output_type": "stream",
     "text": [
      "MoviePy - Done.\n",
      "Moviepy - Writing video F:/DLProj/Charades_v5/resized_train/not_door\\93YXJ.mp4\n",
      "\n"
     ]
    },
    {
     "name": "stderr",
     "output_type": "stream",
     "text": [
      "                                                               \r"
     ]
    },
    {
     "name": "stdout",
     "output_type": "stream",
     "text": [
      "Moviepy - Done !\n",
      "Moviepy - video ready F:/DLProj/Charades_v5/resized_train/not_door\\93YXJ.mp4\n",
      "Moviepy - Building video F:/DLProj/Charades_v5/resized_train/not_door\\98KNP.mp4.\n",
      "MoviePy - Writing audio in 98KNPTEMP_MPY_wvf_snd.mp3\n"
     ]
    },
    {
     "name": "stderr",
     "output_type": "stream",
     "text": [
      "                                                                   \r"
     ]
    },
    {
     "name": "stdout",
     "output_type": "stream",
     "text": [
      "MoviePy - Done.\n",
      "Moviepy - Writing video F:/DLProj/Charades_v5/resized_train/not_door\\98KNP.mp4\n",
      "\n"
     ]
    },
    {
     "name": "stderr",
     "output_type": "stream",
     "text": [
      "                                                              \r"
     ]
    },
    {
     "name": "stdout",
     "output_type": "stream",
     "text": [
      "Moviepy - Done !\n",
      "Moviepy - video ready F:/DLProj/Charades_v5/resized_train/not_door\\98KNP.mp4\n",
      "Moviepy - Building video F:/DLProj/Charades_v5/resized_train/not_door\\9A58F.mp4.\n",
      "MoviePy - Writing audio in 9A58FTEMP_MPY_wvf_snd.mp3\n"
     ]
    },
    {
     "name": "stderr",
     "output_type": "stream",
     "text": [
      "                                                                 \r"
     ]
    },
    {
     "name": "stdout",
     "output_type": "stream",
     "text": [
      "MoviePy - Done.\n",
      "Moviepy - Writing video F:/DLProj/Charades_v5/resized_train/not_door\\9A58F.mp4\n",
      "\n"
     ]
    },
    {
     "name": "stderr",
     "output_type": "stream",
     "text": [
      "                                                              \r"
     ]
    },
    {
     "name": "stdout",
     "output_type": "stream",
     "text": [
      "Moviepy - Done !\n",
      "Moviepy - video ready F:/DLProj/Charades_v5/resized_train/not_door\\9A58F.mp4\n",
      "Moviepy - Building video F:/DLProj/Charades_v5/resized_train/not_door\\9HI9D.mp4.\n",
      "MoviePy - Writing audio in 9HI9DTEMP_MPY_wvf_snd.mp3\n"
     ]
    },
    {
     "name": "stderr",
     "output_type": "stream",
     "text": [
      "                                                                  \r"
     ]
    },
    {
     "name": "stdout",
     "output_type": "stream",
     "text": [
      "MoviePy - Done.\n",
      "Moviepy - Writing video F:/DLProj/Charades_v5/resized_train/not_door\\9HI9D.mp4\n",
      "\n"
     ]
    },
    {
     "name": "stderr",
     "output_type": "stream",
     "text": [
      "                                                              \r"
     ]
    },
    {
     "name": "stdout",
     "output_type": "stream",
     "text": [
      "Moviepy - Done !\n",
      "Moviepy - video ready F:/DLProj/Charades_v5/resized_train/not_door\\9HI9D.mp4\n",
      "Moviepy - Building video F:/DLProj/Charades_v5/resized_train/not_door\\9HOV3.mp4.\n",
      "MoviePy - Writing audio in 9HOV3TEMP_MPY_wvf_snd.mp3\n"
     ]
    },
    {
     "name": "stderr",
     "output_type": "stream",
     "text": [
      "                                                                \r"
     ]
    },
    {
     "name": "stdout",
     "output_type": "stream",
     "text": [
      "MoviePy - Done.\n",
      "Moviepy - Writing video F:/DLProj/Charades_v5/resized_train/not_door\\9HOV3.mp4\n",
      "\n"
     ]
    },
    {
     "name": "stderr",
     "output_type": "stream",
     "text": [
      "                                                             \r"
     ]
    },
    {
     "name": "stdout",
     "output_type": "stream",
     "text": [
      "Moviepy - Done !\n",
      "Moviepy - video ready F:/DLProj/Charades_v5/resized_train/not_door\\9HOV3.mp4\n",
      "Moviepy - Building video F:/DLProj/Charades_v5/resized_train/not_door\\9IO0Y.mp4.\n",
      "MoviePy - Writing audio in 9IO0YTEMP_MPY_wvf_snd.mp3\n"
     ]
    },
    {
     "name": "stderr",
     "output_type": "stream",
     "text": [
      "                                                                  \r"
     ]
    },
    {
     "name": "stdout",
     "output_type": "stream",
     "text": [
      "MoviePy - Done.\n",
      "Moviepy - Writing video F:/DLProj/Charades_v5/resized_train/not_door\\9IO0Y.mp4\n",
      "\n"
     ]
    },
    {
     "name": "stderr",
     "output_type": "stream",
     "text": [
      "                                                               \r"
     ]
    },
    {
     "name": "stdout",
     "output_type": "stream",
     "text": [
      "Moviepy - Done !\n",
      "Moviepy - video ready F:/DLProj/Charades_v5/resized_train/not_door\\9IO0Y.mp4\n",
      "Moviepy - Building video F:/DLProj/Charades_v5/resized_train/not_door\\A1VTR.mp4.\n",
      "MoviePy - Writing audio in A1VTRTEMP_MPY_wvf_snd.mp3\n"
     ]
    },
    {
     "name": "stderr",
     "output_type": "stream",
     "text": [
      "                                                                  \r"
     ]
    },
    {
     "name": "stdout",
     "output_type": "stream",
     "text": [
      "MoviePy - Done.\n",
      "Moviepy - Writing video F:/DLProj/Charades_v5/resized_train/not_door\\A1VTR.mp4\n",
      "\n"
     ]
    },
    {
     "name": "stderr",
     "output_type": "stream",
     "text": [
      "                                                              \r"
     ]
    },
    {
     "name": "stdout",
     "output_type": "stream",
     "text": [
      "Moviepy - Done !\n",
      "Moviepy - video ready F:/DLProj/Charades_v5/resized_train/not_door\\A1VTR.mp4\n",
      "Moviepy - Building video F:/DLProj/Charades_v5/resized_train/not_door\\AFY37.mp4.\n",
      "MoviePy - Writing audio in AFY37TEMP_MPY_wvf_snd.mp3\n"
     ]
    },
    {
     "name": "stderr",
     "output_type": "stream",
     "text": [
      "                                                                  \r"
     ]
    },
    {
     "name": "stdout",
     "output_type": "stream",
     "text": [
      "MoviePy - Done.\n",
      "Moviepy - Writing video F:/DLProj/Charades_v5/resized_train/not_door\\AFY37.mp4\n",
      "\n"
     ]
    },
    {
     "name": "stderr",
     "output_type": "stream",
     "text": [
      "                                                               \r"
     ]
    },
    {
     "name": "stdout",
     "output_type": "stream",
     "text": [
      "Moviepy - Done !\n",
      "Moviepy - video ready F:/DLProj/Charades_v5/resized_train/not_door\\AFY37.mp4\n",
      "Moviepy - Building video F:/DLProj/Charades_v5/resized_train/not_door\\ASNER.mp4.\n",
      "MoviePy - Writing audio in ASNERTEMP_MPY_wvf_snd.mp3\n"
     ]
    },
    {
     "name": "stderr",
     "output_type": "stream",
     "text": [
      "                                                                  \r"
     ]
    },
    {
     "name": "stdout",
     "output_type": "stream",
     "text": [
      "MoviePy - Done.\n",
      "Moviepy - Writing video F:/DLProj/Charades_v5/resized_train/not_door\\ASNER.mp4\n",
      "\n"
     ]
    },
    {
     "name": "stderr",
     "output_type": "stream",
     "text": [
      "                                                              \r"
     ]
    },
    {
     "name": "stdout",
     "output_type": "stream",
     "text": [
      "Moviepy - Done !\n",
      "Moviepy - video ready F:/DLProj/Charades_v5/resized_train/not_door\\ASNER.mp4\n",
      "Moviepy - Building video F:/DLProj/Charades_v5/resized_train/not_door\\AVJFE.mp4.\n",
      "MoviePy - Writing audio in AVJFETEMP_MPY_wvf_snd.mp3\n"
     ]
    },
    {
     "name": "stderr",
     "output_type": "stream",
     "text": [
      "                                                                  \r"
     ]
    },
    {
     "name": "stdout",
     "output_type": "stream",
     "text": [
      "MoviePy - Done.\n",
      "Moviepy - Writing video F:/DLProj/Charades_v5/resized_train/not_door\\AVJFE.mp4\n",
      "\n"
     ]
    },
    {
     "name": "stderr",
     "output_type": "stream",
     "text": [
      "                                                              \r"
     ]
    },
    {
     "name": "stdout",
     "output_type": "stream",
     "text": [
      "Moviepy - Done !\n",
      "Moviepy - video ready F:/DLProj/Charades_v5/resized_train/not_door\\AVJFE.mp4\n",
      "Moviepy - Building video F:/DLProj/Charades_v5/resized_train/not_door\\AZZ3W.mp4.\n",
      "MoviePy - Writing audio in AZZ3WTEMP_MPY_wvf_snd.mp3\n"
     ]
    },
    {
     "name": "stderr",
     "output_type": "stream",
     "text": [
      "                                                                 \r"
     ]
    },
    {
     "name": "stdout",
     "output_type": "stream",
     "text": [
      "MoviePy - Done.\n",
      "Moviepy - Writing video F:/DLProj/Charades_v5/resized_train/not_door\\AZZ3W.mp4\n",
      "\n"
     ]
    },
    {
     "name": "stderr",
     "output_type": "stream",
     "text": [
      "                                                              \r"
     ]
    },
    {
     "name": "stdout",
     "output_type": "stream",
     "text": [
      "Moviepy - Done !\n",
      "Moviepy - video ready F:/DLProj/Charades_v5/resized_train/not_door\\AZZ3W.mp4\n",
      "Moviepy - Building video F:/DLProj/Charades_v5/resized_train/not_door\\BHTPL.mp4.\n",
      "MoviePy - Writing audio in BHTPLTEMP_MPY_wvf_snd.mp3\n"
     ]
    },
    {
     "name": "stderr",
     "output_type": "stream",
     "text": [
      "                                                                  \r"
     ]
    },
    {
     "name": "stdout",
     "output_type": "stream",
     "text": [
      "MoviePy - Done.\n",
      "Moviepy - Writing video F:/DLProj/Charades_v5/resized_train/not_door\\BHTPL.mp4\n",
      "\n"
     ]
    },
    {
     "name": "stderr",
     "output_type": "stream",
     "text": [
      "                                                              \r"
     ]
    },
    {
     "name": "stdout",
     "output_type": "stream",
     "text": [
      "Moviepy - Done !\n",
      "Moviepy - video ready F:/DLProj/Charades_v5/resized_train/not_door\\BHTPL.mp4\n",
      "Moviepy - Building video F:/DLProj/Charades_v5/resized_train/not_door\\BQ07S.mp4.\n",
      "MoviePy - Writing audio in BQ07STEMP_MPY_wvf_snd.mp3\n"
     ]
    },
    {
     "name": "stderr",
     "output_type": "stream",
     "text": [
      "                                                                \r"
     ]
    },
    {
     "name": "stdout",
     "output_type": "stream",
     "text": [
      "MoviePy - Done.\n",
      "Moviepy - Writing video F:/DLProj/Charades_v5/resized_train/not_door\\BQ07S.mp4\n",
      "\n"
     ]
    },
    {
     "name": "stderr",
     "output_type": "stream",
     "text": [
      "                                                              \r"
     ]
    },
    {
     "name": "stdout",
     "output_type": "stream",
     "text": [
      "Moviepy - Done !\n",
      "Moviepy - video ready F:/DLProj/Charades_v5/resized_train/not_door\\BQ07S.mp4\n",
      "Moviepy - Building video F:/DLProj/Charades_v5/resized_train/not_door\\BT7FV.mp4.\n",
      "MoviePy - Writing audio in BT7FVTEMP_MPY_wvf_snd.mp3\n"
     ]
    },
    {
     "name": "stderr",
     "output_type": "stream",
     "text": [
      "                                                                \r"
     ]
    },
    {
     "name": "stdout",
     "output_type": "stream",
     "text": [
      "MoviePy - Done.\n",
      "Moviepy - Writing video F:/DLProj/Charades_v5/resized_train/not_door\\BT7FV.mp4\n",
      "\n"
     ]
    },
    {
     "name": "stderr",
     "output_type": "stream",
     "text": [
      "                                                            \r"
     ]
    },
    {
     "name": "stdout",
     "output_type": "stream",
     "text": [
      "Moviepy - Done !\n",
      "Moviepy - video ready F:/DLProj/Charades_v5/resized_train/not_door\\BT7FV.mp4\n",
      "Moviepy - Building video F:/DLProj/Charades_v5/resized_train/not_door\\FPU57.mp4.\n",
      "MoviePy - Writing audio in FPU57TEMP_MPY_wvf_snd.mp3\n"
     ]
    },
    {
     "name": "stderr",
     "output_type": "stream",
     "text": [
      "                                                                  \r"
     ]
    },
    {
     "name": "stdout",
     "output_type": "stream",
     "text": [
      "MoviePy - Done.\n",
      "Moviepy - Writing video F:/DLProj/Charades_v5/resized_train/not_door\\FPU57.mp4\n",
      "\n"
     ]
    },
    {
     "name": "stderr",
     "output_type": "stream",
     "text": [
      "                                                              \r"
     ]
    },
    {
     "name": "stdout",
     "output_type": "stream",
     "text": [
      "Moviepy - Done !\n",
      "Moviepy - video ready F:/DLProj/Charades_v5/resized_train/not_door\\FPU57.mp4\n",
      "Moviepy - Building video F:/DLProj/Charades_v5/resized_train/not_door\\G4O9P.mp4.\n",
      "MoviePy - Writing audio in G4O9PTEMP_MPY_wvf_snd.mp3\n"
     ]
    },
    {
     "name": "stderr",
     "output_type": "stream",
     "text": [
      "                                                                  \r"
     ]
    },
    {
     "name": "stdout",
     "output_type": "stream",
     "text": [
      "MoviePy - Done.\n",
      "Moviepy - Writing video F:/DLProj/Charades_v5/resized_train/not_door\\G4O9P.mp4\n",
      "\n"
     ]
    },
    {
     "name": "stderr",
     "output_type": "stream",
     "text": [
      "                                                              \r"
     ]
    },
    {
     "name": "stdout",
     "output_type": "stream",
     "text": [
      "Moviepy - Done !\n",
      "Moviepy - video ready F:/DLProj/Charades_v5/resized_train/not_door\\G4O9P.mp4\n",
      "Moviepy - Building video F:/DLProj/Charades_v5/resized_train/not_door\\GCWNT.mp4.\n",
      "MoviePy - Writing audio in GCWNTTEMP_MPY_wvf_snd.mp3\n"
     ]
    },
    {
     "name": "stderr",
     "output_type": "stream",
     "text": [
      "                                                                  \r"
     ]
    },
    {
     "name": "stdout",
     "output_type": "stream",
     "text": [
      "MoviePy - Done.\n",
      "Moviepy - Writing video F:/DLProj/Charades_v5/resized_train/not_door\\GCWNT.mp4\n",
      "\n"
     ]
    },
    {
     "name": "stderr",
     "output_type": "stream",
     "text": [
      "                                                               \r"
     ]
    },
    {
     "name": "stdout",
     "output_type": "stream",
     "text": [
      "Moviepy - Done !\n",
      "Moviepy - video ready F:/DLProj/Charades_v5/resized_train/not_door\\GCWNT.mp4\n",
      "Moviepy - Building video F:/DLProj/Charades_v5/resized_train/not_door\\GDS6Q.mp4.\n",
      "MoviePy - Writing audio in GDS6QTEMP_MPY_wvf_snd.mp3\n"
     ]
    },
    {
     "name": "stderr",
     "output_type": "stream",
     "text": [
      "                                                                  \r"
     ]
    },
    {
     "name": "stdout",
     "output_type": "stream",
     "text": [
      "MoviePy - Done.\n",
      "Moviepy - Writing video F:/DLProj/Charades_v5/resized_train/not_door\\GDS6Q.mp4\n",
      "\n"
     ]
    },
    {
     "name": "stderr",
     "output_type": "stream",
     "text": [
      "                                                               \r"
     ]
    },
    {
     "name": "stdout",
     "output_type": "stream",
     "text": [
      "Moviepy - Done !\n",
      "Moviepy - video ready F:/DLProj/Charades_v5/resized_train/not_door\\GDS6Q.mp4\n",
      "Moviepy - Building video F:/DLProj/Charades_v5/resized_train/not_door\\GPUFH.mp4.\n",
      "MoviePy - Writing audio in GPUFHTEMP_MPY_wvf_snd.mp3\n"
     ]
    },
    {
     "name": "stderr",
     "output_type": "stream",
     "text": [
      "                                                                  \r"
     ]
    },
    {
     "name": "stdout",
     "output_type": "stream",
     "text": [
      "MoviePy - Done.\n",
      "Moviepy - Writing video F:/DLProj/Charades_v5/resized_train/not_door\\GPUFH.mp4\n",
      "\n"
     ]
    },
    {
     "name": "stderr",
     "output_type": "stream",
     "text": [
      "                                                              \r"
     ]
    },
    {
     "name": "stdout",
     "output_type": "stream",
     "text": [
      "Moviepy - Done !\n",
      "Moviepy - video ready F:/DLProj/Charades_v5/resized_train/not_door\\GPUFH.mp4\n",
      "Moviepy - Building video F:/DLProj/Charades_v5/resized_train/not_door\\GQ4PM.mp4.\n",
      "MoviePy - Writing audio in GQ4PMTEMP_MPY_wvf_snd.mp3\n"
     ]
    },
    {
     "name": "stderr",
     "output_type": "stream",
     "text": [
      "                                                                  \r"
     ]
    },
    {
     "name": "stdout",
     "output_type": "stream",
     "text": [
      "MoviePy - Done.\n",
      "Moviepy - Writing video F:/DLProj/Charades_v5/resized_train/not_door\\GQ4PM.mp4\n",
      "\n"
     ]
    },
    {
     "name": "stderr",
     "output_type": "stream",
     "text": [
      "                                                              \r"
     ]
    },
    {
     "name": "stdout",
     "output_type": "stream",
     "text": [
      "Moviepy - Done !\n",
      "Moviepy - video ready F:/DLProj/Charades_v5/resized_train/not_door\\GQ4PM.mp4\n",
      "Moviepy - Building video F:/DLProj/Charades_v5/resized_train/not_door\\H1XBH.mp4.\n",
      "MoviePy - Writing audio in H1XBHTEMP_MPY_wvf_snd.mp3\n"
     ]
    },
    {
     "name": "stderr",
     "output_type": "stream",
     "text": [
      "                                                                  \r"
     ]
    },
    {
     "name": "stdout",
     "output_type": "stream",
     "text": [
      "MoviePy - Done.\n",
      "Moviepy - Writing video F:/DLProj/Charades_v5/resized_train/not_door\\H1XBH.mp4\n",
      "\n"
     ]
    },
    {
     "name": "stderr",
     "output_type": "stream",
     "text": [
      "                                                              \r"
     ]
    },
    {
     "name": "stdout",
     "output_type": "stream",
     "text": [
      "Moviepy - Done !\n",
      "Moviepy - video ready F:/DLProj/Charades_v5/resized_train/not_door\\H1XBH.mp4\n",
      "Moviepy - Building video F:/DLProj/Charades_v5/resized_train/not_door\\H4KNQ.mp4.\n",
      "MoviePy - Writing audio in H4KNQTEMP_MPY_wvf_snd.mp3\n"
     ]
    },
    {
     "name": "stderr",
     "output_type": "stream",
     "text": [
      "                                                                  \r"
     ]
    },
    {
     "name": "stdout",
     "output_type": "stream",
     "text": [
      "MoviePy - Done.\n",
      "Moviepy - Writing video F:/DLProj/Charades_v5/resized_train/not_door\\H4KNQ.mp4\n",
      "\n"
     ]
    },
    {
     "name": "stderr",
     "output_type": "stream",
     "text": [
      "                                                              \r"
     ]
    },
    {
     "name": "stdout",
     "output_type": "stream",
     "text": [
      "Moviepy - Done !\n",
      "Moviepy - video ready F:/DLProj/Charades_v5/resized_train/not_door\\H4KNQ.mp4\n",
      "Moviepy - Building video F:/DLProj/Charades_v5/resized_train/not_door\\H5TGJ.mp4.\n",
      "MoviePy - Writing audio in H5TGJTEMP_MPY_wvf_snd.mp3\n"
     ]
    },
    {
     "name": "stderr",
     "output_type": "stream",
     "text": [
      "                                                                  \r"
     ]
    },
    {
     "name": "stdout",
     "output_type": "stream",
     "text": [
      "MoviePy - Done.\n",
      "Moviepy - Writing video F:/DLProj/Charades_v5/resized_train/not_door\\H5TGJ.mp4\n",
      "\n"
     ]
    },
    {
     "name": "stderr",
     "output_type": "stream",
     "text": [
      "                                                               \r"
     ]
    },
    {
     "name": "stdout",
     "output_type": "stream",
     "text": [
      "Moviepy - Done !\n",
      "Moviepy - video ready F:/DLProj/Charades_v5/resized_train/not_door\\H5TGJ.mp4\n",
      "Moviepy - Building video F:/DLProj/Charades_v5/resized_train/not_door\\HD38O.mp4.\n",
      "MoviePy - Writing audio in HD38OTEMP_MPY_wvf_snd.mp3\n"
     ]
    },
    {
     "name": "stderr",
     "output_type": "stream",
     "text": [
      "                                                                 \r"
     ]
    },
    {
     "name": "stdout",
     "output_type": "stream",
     "text": [
      "MoviePy - Done.\n",
      "Moviepy - Writing video F:/DLProj/Charades_v5/resized_train/not_door\\HD38O.mp4\n",
      "\n"
     ]
    },
    {
     "name": "stderr",
     "output_type": "stream",
     "text": [
      "                                                              \r"
     ]
    },
    {
     "name": "stdout",
     "output_type": "stream",
     "text": [
      "Moviepy - Done !\n",
      "Moviepy - video ready F:/DLProj/Charades_v5/resized_train/not_door\\HD38O.mp4\n",
      "Moviepy - Building video F:/DLProj/Charades_v5/resized_train/not_door\\HN362.mp4.\n",
      "MoviePy - Writing audio in HN362TEMP_MPY_wvf_snd.mp3\n"
     ]
    },
    {
     "name": "stderr",
     "output_type": "stream",
     "text": [
      "                                                                  \r"
     ]
    },
    {
     "name": "stdout",
     "output_type": "stream",
     "text": [
      "MoviePy - Done.\n",
      "Moviepy - Writing video F:/DLProj/Charades_v5/resized_train/not_door\\HN362.mp4\n",
      "\n"
     ]
    },
    {
     "name": "stderr",
     "output_type": "stream",
     "text": [
      "                                                               \r"
     ]
    },
    {
     "name": "stdout",
     "output_type": "stream",
     "text": [
      "Moviepy - Done !\n",
      "Moviepy - video ready F:/DLProj/Charades_v5/resized_train/not_door\\HN362.mp4\n",
      "Moviepy - Building video F:/DLProj/Charades_v5/resized_train/not_door\\HX22J.mp4.\n",
      "MoviePy - Writing audio in HX22JTEMP_MPY_wvf_snd.mp3\n"
     ]
    },
    {
     "name": "stderr",
     "output_type": "stream",
     "text": [
      "                                                                  \r"
     ]
    },
    {
     "name": "stdout",
     "output_type": "stream",
     "text": [
      "MoviePy - Done.\n",
      "Moviepy - Writing video F:/DLProj/Charades_v5/resized_train/not_door\\HX22J.mp4\n",
      "\n"
     ]
    },
    {
     "name": "stderr",
     "output_type": "stream",
     "text": [
      "                                                              \r"
     ]
    },
    {
     "name": "stdout",
     "output_type": "stream",
     "text": [
      "Moviepy - Done !\n",
      "Moviepy - video ready F:/DLProj/Charades_v5/resized_train/not_door\\HX22J.mp4\n",
      "Moviepy - Building video F:/DLProj/Charades_v5/resized_train/not_door\\HYRBL.mp4.\n",
      "MoviePy - Writing audio in HYRBLTEMP_MPY_wvf_snd.mp3\n"
     ]
    },
    {
     "name": "stderr",
     "output_type": "stream",
     "text": [
      "                                                                  \r"
     ]
    },
    {
     "name": "stdout",
     "output_type": "stream",
     "text": [
      "MoviePy - Done.\n",
      "Moviepy - Writing video F:/DLProj/Charades_v5/resized_train/not_door\\HYRBL.mp4\n",
      "\n"
     ]
    },
    {
     "name": "stderr",
     "output_type": "stream",
     "text": [
      "                                                              \r"
     ]
    },
    {
     "name": "stdout",
     "output_type": "stream",
     "text": [
      "Moviepy - Done !\n",
      "Moviepy - video ready F:/DLProj/Charades_v5/resized_train/not_door\\HYRBL.mp4\n",
      "Moviepy - Building video F:/DLProj/Charades_v5/resized_train/not_door\\IBNKL.mp4.\n",
      "MoviePy - Writing audio in IBNKLTEMP_MPY_wvf_snd.mp3\n"
     ]
    },
    {
     "name": "stderr",
     "output_type": "stream",
     "text": [
      "                                                                  \r"
     ]
    },
    {
     "name": "stdout",
     "output_type": "stream",
     "text": [
      "MoviePy - Done.\n",
      "Moviepy - Writing video F:/DLProj/Charades_v5/resized_train/not_door\\IBNKL.mp4\n",
      "\n"
     ]
    },
    {
     "name": "stderr",
     "output_type": "stream",
     "text": [
      "                                                              \r"
     ]
    },
    {
     "name": "stdout",
     "output_type": "stream",
     "text": [
      "Moviepy - Done !\n",
      "Moviepy - video ready F:/DLProj/Charades_v5/resized_train/not_door\\IBNKL.mp4\n",
      "Moviepy - Building video F:/DLProj/Charades_v5/resized_train/not_door\\IBRFM.mp4.\n",
      "MoviePy - Writing audio in IBRFMTEMP_MPY_wvf_snd.mp3\n"
     ]
    },
    {
     "name": "stderr",
     "output_type": "stream",
     "text": [
      "                                                                  \r"
     ]
    },
    {
     "name": "stdout",
     "output_type": "stream",
     "text": [
      "MoviePy - Done.\n",
      "Moviepy - Writing video F:/DLProj/Charades_v5/resized_train/not_door\\IBRFM.mp4\n",
      "\n"
     ]
    },
    {
     "name": "stderr",
     "output_type": "stream",
     "text": [
      "                                                              \r"
     ]
    },
    {
     "name": "stdout",
     "output_type": "stream",
     "text": [
      "Moviepy - Done !\n",
      "Moviepy - video ready F:/DLProj/Charades_v5/resized_train/not_door\\IBRFM.mp4\n",
      "Moviepy - Building video F:/DLProj/Charades_v5/resized_train/not_door\\IFFPZ.mp4.\n",
      "MoviePy - Writing audio in IFFPZTEMP_MPY_wvf_snd.mp3\n"
     ]
    },
    {
     "name": "stderr",
     "output_type": "stream",
     "text": [
      "                                                                  \r"
     ]
    },
    {
     "name": "stdout",
     "output_type": "stream",
     "text": [
      "MoviePy - Done.\n",
      "Moviepy - Writing video F:/DLProj/Charades_v5/resized_train/not_door\\IFFPZ.mp4\n",
      "\n"
     ]
    },
    {
     "name": "stderr",
     "output_type": "stream",
     "text": [
      "                                                              \r"
     ]
    },
    {
     "name": "stdout",
     "output_type": "stream",
     "text": [
      "Moviepy - Done !\n",
      "Moviepy - video ready F:/DLProj/Charades_v5/resized_train/not_door\\IFFPZ.mp4\n",
      "Moviepy - Building video F:/DLProj/Charades_v5/resized_train/not_door\\IGVLE.mp4.\n",
      "MoviePy - Writing audio in IGVLETEMP_MPY_wvf_snd.mp3\n"
     ]
    },
    {
     "name": "stderr",
     "output_type": "stream",
     "text": [
      "                                                                \r"
     ]
    },
    {
     "name": "stdout",
     "output_type": "stream",
     "text": [
      "MoviePy - Done.\n",
      "Moviepy - Writing video F:/DLProj/Charades_v5/resized_train/not_door\\IGVLE.mp4\n",
      "\n"
     ]
    },
    {
     "name": "stderr",
     "output_type": "stream",
     "text": [
      "                                                            \r"
     ]
    },
    {
     "name": "stdout",
     "output_type": "stream",
     "text": [
      "Moviepy - Done !\n",
      "Moviepy - video ready F:/DLProj/Charades_v5/resized_train/not_door\\IGVLE.mp4\n",
      "Moviepy - Building video F:/DLProj/Charades_v5/resized_train/not_door\\IST7I.mp4.\n",
      "MoviePy - Writing audio in IST7ITEMP_MPY_wvf_snd.mp3\n"
     ]
    },
    {
     "name": "stderr",
     "output_type": "stream",
     "text": [
      "                                                                  \r"
     ]
    },
    {
     "name": "stdout",
     "output_type": "stream",
     "text": [
      "MoviePy - Done.\n",
      "Moviepy - Writing video F:/DLProj/Charades_v5/resized_train/not_door\\IST7I.mp4\n",
      "\n"
     ]
    },
    {
     "name": "stderr",
     "output_type": "stream",
     "text": [
      "                                                              \r"
     ]
    },
    {
     "name": "stdout",
     "output_type": "stream",
     "text": [
      "Moviepy - Done !\n",
      "Moviepy - video ready F:/DLProj/Charades_v5/resized_train/not_door\\IST7I.mp4\n",
      "Moviepy - Building video F:/DLProj/Charades_v5/resized_train/not_door\\IWK2Y.mp4.\n",
      "MoviePy - Writing audio in IWK2YTEMP_MPY_wvf_snd.mp3\n"
     ]
    },
    {
     "name": "stderr",
     "output_type": "stream",
     "text": [
      "                                                                  \r"
     ]
    },
    {
     "name": "stdout",
     "output_type": "stream",
     "text": [
      "MoviePy - Done.\n",
      "Moviepy - Writing video F:/DLProj/Charades_v5/resized_train/not_door\\IWK2Y.mp4\n",
      "\n"
     ]
    },
    {
     "name": "stderr",
     "output_type": "stream",
     "text": [
      "                                                              \r"
     ]
    },
    {
     "name": "stdout",
     "output_type": "stream",
     "text": [
      "Moviepy - Done !\n",
      "Moviepy - video ready F:/DLProj/Charades_v5/resized_train/not_door\\IWK2Y.mp4\n",
      "Moviepy - Building video F:/DLProj/Charades_v5/resized_train/not_door\\J3KT5.mp4.\n",
      "MoviePy - Writing audio in J3KT5TEMP_MPY_wvf_snd.mp3\n"
     ]
    },
    {
     "name": "stderr",
     "output_type": "stream",
     "text": [
      "                                                                  \r"
     ]
    },
    {
     "name": "stdout",
     "output_type": "stream",
     "text": [
      "MoviePy - Done.\n",
      "Moviepy - Writing video F:/DLProj/Charades_v5/resized_train/not_door\\J3KT5.mp4\n",
      "\n"
     ]
    },
    {
     "name": "stderr",
     "output_type": "stream",
     "text": [
      "                                                              \r"
     ]
    },
    {
     "name": "stdout",
     "output_type": "stream",
     "text": [
      "Moviepy - Done !\n",
      "Moviepy - video ready F:/DLProj/Charades_v5/resized_train/not_door\\J3KT5.mp4\n",
      "Moviepy - Building video F:/DLProj/Charades_v5/resized_train/not_door\\NVF2S.mp4.\n",
      "MoviePy - Writing audio in NVF2STEMP_MPY_wvf_snd.mp3\n"
     ]
    },
    {
     "name": "stderr",
     "output_type": "stream",
     "text": [
      "                                                                  \r"
     ]
    },
    {
     "name": "stdout",
     "output_type": "stream",
     "text": [
      "MoviePy - Done.\n",
      "Moviepy - Writing video F:/DLProj/Charades_v5/resized_train/not_door\\NVF2S.mp4\n",
      "\n"
     ]
    },
    {
     "name": "stderr",
     "output_type": "stream",
     "text": [
      "                                                              \r"
     ]
    },
    {
     "name": "stdout",
     "output_type": "stream",
     "text": [
      "Moviepy - Done !\n",
      "Moviepy - video ready F:/DLProj/Charades_v5/resized_train/not_door\\NVF2S.mp4\n",
      "Moviepy - Building video F:/DLProj/Charades_v5/resized_train/not_door\\NY5LX.mp4.\n",
      "MoviePy - Writing audio in NY5LXTEMP_MPY_wvf_snd.mp3\n"
     ]
    },
    {
     "name": "stderr",
     "output_type": "stream",
     "text": [
      "                                                                  \r"
     ]
    },
    {
     "name": "stdout",
     "output_type": "stream",
     "text": [
      "MoviePy - Done.\n",
      "Moviepy - Writing video F:/DLProj/Charades_v5/resized_train/not_door\\NY5LX.mp4\n",
      "\n"
     ]
    },
    {
     "name": "stderr",
     "output_type": "stream",
     "text": [
      "                                                              \r"
     ]
    },
    {
     "name": "stdout",
     "output_type": "stream",
     "text": [
      "Moviepy - Done !\n",
      "Moviepy - video ready F:/DLProj/Charades_v5/resized_train/not_door\\NY5LX.mp4\n"
     ]
    }
   ],
   "source": [
    "for vid in listing:\n",
    "    vid_1 = os.path.join(train_dir,vid)\n",
    "    vid_2 = os.path.join(train_target,vid)\n",
    "    clip = mp.VideoFileClip(vid_1)\n",
    "    clip_resized = clip.resize((img_height , img_width)) # make the height & width 300px ( According to moviePy documenation The width is then computed so that the width/height ratio is conserved.)\n",
    "    clip_resized.write_videofile(vid_2)"
   ]
  },
  {
   "cell_type": "code",
   "execution_count": null,
   "metadata": {},
   "outputs": [],
   "source": []
  }
 ],
 "metadata": {
  "kernelspec": {
   "display_name": "Python 3",
   "language": "python",
   "name": "python3"
  },
  "language_info": {
   "codemirror_mode": {
    "name": "ipython",
    "version": 3
   },
   "file_extension": ".py",
   "mimetype": "text/x-python",
   "name": "python",
   "nbconvert_exporter": "python",
   "pygments_lexer": "ipython3",
   "version": "3.7.4"
  }
 },
 "nbformat": 4,
 "nbformat_minor": 4
}
